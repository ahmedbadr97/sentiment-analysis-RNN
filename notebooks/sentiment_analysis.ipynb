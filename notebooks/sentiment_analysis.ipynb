{
 "cells": [
  {
   "cell_type": "markdown",
   "metadata": {
    "collapsed": true,
    "pycharm": {
     "name": "#%% md\n"
    }
   },
   "source": [
    "# Introduction\n",
    "- this notebook will cover sentiment analysis of movie reviews using recurrent neural networks using first Skip-grams model to extract words embeddings for the words that appear in the reviews and then using this word embedding as the first layer for the RNN to give a vector representation for each word\n",
    "- the model will take the whole review as input and decide if it's a positive review or negative review\n",
    "\n",
    "**Sections**\n",
    "1. load and view the dataset\n",
    "2. dataset preprocessing\n",
    "3. prepare the dataset for training\n",
    "4. create the RNN model with embedding layer from trained skip-gram model\n",
    "5. model training\n",
    "6. evaluation and infrences\n"
   ]
  },
  {
   "cell_type": "code",
   "execution_count": 12,
   "outputs": [],
   "source": [
    "import os\n",
    "import random\n",
    "import traintracker\n",
    "import torch\n",
    "import numpy as np\n",
    "import pandas as pd\n",
    "from collections import Counter\n",
    "import src\n",
    "skip_gram_weights_pth=\"../model_weights/skipgram\"\n",
    "raw_dataset_dir = \"../dataset/raw\"\n",
    "prep_dataset_dir = \"../dataset/preprocessed/sentiment_analysis\"\n",
    "prep_dataset_dir_skipgram = \"../dataset/preprocessed/skipgram\""
   ],
   "metadata": {
    "collapsed": false,
    "pycharm": {
     "name": "#%%\n"
    }
   }
  },
  {
   "cell_type": "markdown",
   "source": [
    "# Load view Dataset\n",
    "1. load reviews and labels text file , reviews and labels are line separated\n",
    "2. collect some statistics about reviews lengths to decide a fixed length for a review, words frequency to ignore high frequent words"
   ],
   "metadata": {
    "collapsed": false,
    "pycharm": {
     "name": "#%% md\n"
    }
   }
  },
  {
   "cell_type": "code",
   "execution_count": 13,
   "outputs": [
    {
     "data": {
      "text/plain": "['labels.txt', 'reviews.txt', 'text8']"
     },
     "execution_count": 13,
     "metadata": {},
     "output_type": "execute_result"
    }
   ],
   "source": [
    "os.listdir(raw_dataset_dir)"
   ],
   "metadata": {
    "collapsed": false,
    "pycharm": {
     "name": "#%%\n"
    }
   }
  },
  {
   "cell_type": "code",
   "execution_count": 14,
   "outputs": [],
   "source": [
    "with open(os.path.join(prep_dataset_dir_skipgram, 'reviews.txt'), 'r') as rev_file:\n",
    "    raw_reviews_txt = rev_file.read()\n",
    "with open(os.path.join(raw_dataset_dir, 'labels.txt'), 'r') as labels_file:\n",
    "    raw_labels_txt = labels_file.read()"
   ],
   "metadata": {
    "collapsed": false,
    "pycharm": {
     "name": "#%%\n"
    }
   }
  },
  {
   "cell_type": "code",
   "execution_count": 15,
   "outputs": [
    {
     "data": {
      "text/plain": "'bromwell high cartoon comedy ran same other programs school life such teachers years teaching profession lead believe bromwell high satire much closer reality teachers scramble survive financially insightful students right through pathetic teachers p'"
     },
     "execution_count": 15,
     "metadata": {},
     "output_type": "execute_result"
    }
   ],
   "source": [
    "raw_reviews_txt[:250]"
   ],
   "metadata": {
    "collapsed": false,
    "pycharm": {
     "name": "#%%\n"
    }
   }
  },
  {
   "cell_type": "code",
   "execution_count": 16,
   "outputs": [],
   "source": [
    "# split('\\n')[:-1] to ignore the last empty line\n",
    "reviews_list = raw_reviews_txt.split('\\n')\n",
    "labels_list = raw_labels_txt.split('\\n')[:-1]"
   ],
   "metadata": {
    "collapsed": false,
    "pycharm": {
     "name": "#%%\n"
    }
   }
  },
  {
   "cell_type": "code",
   "execution_count": 17,
   "outputs": [
    {
     "name": "stdout",
     "output_type": "stream",
     "text": [
      "no of reviews 25000\n",
      "no of labels 25000\n"
     ]
    }
   ],
   "source": [
    "print(f\"no of reviews {len(reviews_list)}\")\n",
    "\n",
    "print(f\"no of labels {len(labels_list)}\")"
   ],
   "metadata": {
    "collapsed": false,
    "pycharm": {
     "name": "#%%\n"
    }
   }
  },
  {
   "cell_type": "markdown",
   "source": [
    "-"
   ],
   "metadata": {
    "collapsed": false,
    "pycharm": {
     "name": "#%% md\n"
    }
   }
  },
  {
   "cell_type": "code",
   "execution_count": 18,
   "outputs": [],
   "source": [
    "reviews_count_list = []\n",
    "words_counter = Counter(raw_reviews_txt.split())\n",
    "\n",
    "for review in reviews_list:\n",
    "    reviews_count_list.append([len(review)])\n",
    "\n",
    "reviews_cnt_df = pd.DataFrame(reviews_count_list, columns=['review length']).sort_values(ascending=False,\n",
    "                                                                                         by=['review length'])\n",
    "words_cnt_df = pd.DataFrame(words_counter.items(), columns=['word', 'word count']).sort_values(ascending=False,\n",
    "                                                                                               by=['word count'])"
   ],
   "metadata": {
    "collapsed": false,
    "pycharm": {
     "name": "#%%\n"
    }
   }
  },
  {
   "cell_type": "markdown",
   "source": [
    "## reviews lengths"
   ],
   "metadata": {
    "collapsed": false,
    "pycharm": {
     "name": "#%% md\n"
    }
   }
  },
  {
   "cell_type": "code",
   "execution_count": 19,
   "outputs": [
    {
     "data": {
      "text/plain": "       review length\n3908            9709\n98              6475\n12516           6454\n11834           5897\n7067            5877\n7063            5762\n8692            5666\n11882           5180\n9401            5046\n3008            5040\n19945           4979\n6298            4915\n1087            4908\n19364           4680\n19059           4637\n20058           4626\n6158            4433\n20952           4377\n5170            4373\n23205           4294\n6363            4275\n2886            4256\n692             4241\n11039           4229\n7484            4227\n22556           4217\n5573            4215\n4395            4202\n2287            4202\n5788            4199\n5714            4167\n2018            4147\n19589           4141\n19468           4137\n10849           4129\n13468           4124\n2290            4107\n12443           4097\n6199            4076\n18073           4070\n13748           4059\n5048            4059\n22633           4039\n10958           4036\n8278            4027\n11794           4021\n15184           4004\n21048           3998\n11271           3984\n3354            3982",
      "text/html": "<div>\n<style scoped>\n    .dataframe tbody tr th:only-of-type {\n        vertical-align: middle;\n    }\n\n    .dataframe tbody tr th {\n        vertical-align: top;\n    }\n\n    .dataframe thead th {\n        text-align: right;\n    }\n</style>\n<table border=\"1\" class=\"dataframe\">\n  <thead>\n    <tr style=\"text-align: right;\">\n      <th></th>\n      <th>review length</th>\n    </tr>\n  </thead>\n  <tbody>\n    <tr>\n      <th>3908</th>\n      <td>9709</td>\n    </tr>\n    <tr>\n      <th>98</th>\n      <td>6475</td>\n    </tr>\n    <tr>\n      <th>12516</th>\n      <td>6454</td>\n    </tr>\n    <tr>\n      <th>11834</th>\n      <td>5897</td>\n    </tr>\n    <tr>\n      <th>7067</th>\n      <td>5877</td>\n    </tr>\n    <tr>\n      <th>7063</th>\n      <td>5762</td>\n    </tr>\n    <tr>\n      <th>8692</th>\n      <td>5666</td>\n    </tr>\n    <tr>\n      <th>11882</th>\n      <td>5180</td>\n    </tr>\n    <tr>\n      <th>9401</th>\n      <td>5046</td>\n    </tr>\n    <tr>\n      <th>3008</th>\n      <td>5040</td>\n    </tr>\n    <tr>\n      <th>19945</th>\n      <td>4979</td>\n    </tr>\n    <tr>\n      <th>6298</th>\n      <td>4915</td>\n    </tr>\n    <tr>\n      <th>1087</th>\n      <td>4908</td>\n    </tr>\n    <tr>\n      <th>19364</th>\n      <td>4680</td>\n    </tr>\n    <tr>\n      <th>19059</th>\n      <td>4637</td>\n    </tr>\n    <tr>\n      <th>20058</th>\n      <td>4626</td>\n    </tr>\n    <tr>\n      <th>6158</th>\n      <td>4433</td>\n    </tr>\n    <tr>\n      <th>20952</th>\n      <td>4377</td>\n    </tr>\n    <tr>\n      <th>5170</th>\n      <td>4373</td>\n    </tr>\n    <tr>\n      <th>23205</th>\n      <td>4294</td>\n    </tr>\n    <tr>\n      <th>6363</th>\n      <td>4275</td>\n    </tr>\n    <tr>\n      <th>2886</th>\n      <td>4256</td>\n    </tr>\n    <tr>\n      <th>692</th>\n      <td>4241</td>\n    </tr>\n    <tr>\n      <th>11039</th>\n      <td>4229</td>\n    </tr>\n    <tr>\n      <th>7484</th>\n      <td>4227</td>\n    </tr>\n    <tr>\n      <th>22556</th>\n      <td>4217</td>\n    </tr>\n    <tr>\n      <th>5573</th>\n      <td>4215</td>\n    </tr>\n    <tr>\n      <th>4395</th>\n      <td>4202</td>\n    </tr>\n    <tr>\n      <th>2287</th>\n      <td>4202</td>\n    </tr>\n    <tr>\n      <th>5788</th>\n      <td>4199</td>\n    </tr>\n    <tr>\n      <th>5714</th>\n      <td>4167</td>\n    </tr>\n    <tr>\n      <th>2018</th>\n      <td>4147</td>\n    </tr>\n    <tr>\n      <th>19589</th>\n      <td>4141</td>\n    </tr>\n    <tr>\n      <th>19468</th>\n      <td>4137</td>\n    </tr>\n    <tr>\n      <th>10849</th>\n      <td>4129</td>\n    </tr>\n    <tr>\n      <th>13468</th>\n      <td>4124</td>\n    </tr>\n    <tr>\n      <th>2290</th>\n      <td>4107</td>\n    </tr>\n    <tr>\n      <th>12443</th>\n      <td>4097</td>\n    </tr>\n    <tr>\n      <th>6199</th>\n      <td>4076</td>\n    </tr>\n    <tr>\n      <th>18073</th>\n      <td>4070</td>\n    </tr>\n    <tr>\n      <th>13748</th>\n      <td>4059</td>\n    </tr>\n    <tr>\n      <th>5048</th>\n      <td>4059</td>\n    </tr>\n    <tr>\n      <th>22633</th>\n      <td>4039</td>\n    </tr>\n    <tr>\n      <th>10958</th>\n      <td>4036</td>\n    </tr>\n    <tr>\n      <th>8278</th>\n      <td>4027</td>\n    </tr>\n    <tr>\n      <th>11794</th>\n      <td>4021</td>\n    </tr>\n    <tr>\n      <th>15184</th>\n      <td>4004</td>\n    </tr>\n    <tr>\n      <th>21048</th>\n      <td>3998</td>\n    </tr>\n    <tr>\n      <th>11271</th>\n      <td>3984</td>\n    </tr>\n    <tr>\n      <th>3354</th>\n      <td>3982</td>\n    </tr>\n  </tbody>\n</table>\n</div>"
     },
     "execution_count": 19,
     "metadata": {},
     "output_type": "execute_result"
    }
   ],
   "source": [
    "reviews_cnt_df.head(50)"
   ],
   "metadata": {
    "collapsed": false,
    "pycharm": {
     "name": "#%%\n"
    }
   }
  },
  {
   "cell_type": "code",
   "execution_count": 20,
   "outputs": [
    {
     "data": {
      "text/plain": "       review length\n12355             92\n2410              92\n21934             91\n14196             91\n21842             90\n11103             89\n6115              89\n12272             88\n5509              88\n4784              88\n22304             88\n24728             85\n20734             85\n8742              85\n23045             83\n2418              80\n8770              80\n6236              79\n6238              79\n5572              79\n9789              79\n16710             79\n20082             78\n23049             77\n23054             77\n2598              76\n6267              75\n4274              74\n6173              74\n5574              73\n9599              71\n5193              66\n4333              65\n41                65\n21131             65\n5050              63\n14615             63\n1484              62\n8262              62\n5297              61\n22219             60\n22144             60\n18873             58\n3542              50\n12816             48\n8709              39\n9992              38\n4615              37\n7959              32\n2137              17",
      "text/html": "<div>\n<style scoped>\n    .dataframe tbody tr th:only-of-type {\n        vertical-align: middle;\n    }\n\n    .dataframe tbody tr th {\n        vertical-align: top;\n    }\n\n    .dataframe thead th {\n        text-align: right;\n    }\n</style>\n<table border=\"1\" class=\"dataframe\">\n  <thead>\n    <tr style=\"text-align: right;\">\n      <th></th>\n      <th>review length</th>\n    </tr>\n  </thead>\n  <tbody>\n    <tr>\n      <th>12355</th>\n      <td>92</td>\n    </tr>\n    <tr>\n      <th>2410</th>\n      <td>92</td>\n    </tr>\n    <tr>\n      <th>21934</th>\n      <td>91</td>\n    </tr>\n    <tr>\n      <th>14196</th>\n      <td>91</td>\n    </tr>\n    <tr>\n      <th>21842</th>\n      <td>90</td>\n    </tr>\n    <tr>\n      <th>11103</th>\n      <td>89</td>\n    </tr>\n    <tr>\n      <th>6115</th>\n      <td>89</td>\n    </tr>\n    <tr>\n      <th>12272</th>\n      <td>88</td>\n    </tr>\n    <tr>\n      <th>5509</th>\n      <td>88</td>\n    </tr>\n    <tr>\n      <th>4784</th>\n      <td>88</td>\n    </tr>\n    <tr>\n      <th>22304</th>\n      <td>88</td>\n    </tr>\n    <tr>\n      <th>24728</th>\n      <td>85</td>\n    </tr>\n    <tr>\n      <th>20734</th>\n      <td>85</td>\n    </tr>\n    <tr>\n      <th>8742</th>\n      <td>85</td>\n    </tr>\n    <tr>\n      <th>23045</th>\n      <td>83</td>\n    </tr>\n    <tr>\n      <th>2418</th>\n      <td>80</td>\n    </tr>\n    <tr>\n      <th>8770</th>\n      <td>80</td>\n    </tr>\n    <tr>\n      <th>6236</th>\n      <td>79</td>\n    </tr>\n    <tr>\n      <th>6238</th>\n      <td>79</td>\n    </tr>\n    <tr>\n      <th>5572</th>\n      <td>79</td>\n    </tr>\n    <tr>\n      <th>9789</th>\n      <td>79</td>\n    </tr>\n    <tr>\n      <th>16710</th>\n      <td>79</td>\n    </tr>\n    <tr>\n      <th>20082</th>\n      <td>78</td>\n    </tr>\n    <tr>\n      <th>23049</th>\n      <td>77</td>\n    </tr>\n    <tr>\n      <th>23054</th>\n      <td>77</td>\n    </tr>\n    <tr>\n      <th>2598</th>\n      <td>76</td>\n    </tr>\n    <tr>\n      <th>6267</th>\n      <td>75</td>\n    </tr>\n    <tr>\n      <th>4274</th>\n      <td>74</td>\n    </tr>\n    <tr>\n      <th>6173</th>\n      <td>74</td>\n    </tr>\n    <tr>\n      <th>5574</th>\n      <td>73</td>\n    </tr>\n    <tr>\n      <th>9599</th>\n      <td>71</td>\n    </tr>\n    <tr>\n      <th>5193</th>\n      <td>66</td>\n    </tr>\n    <tr>\n      <th>4333</th>\n      <td>65</td>\n    </tr>\n    <tr>\n      <th>41</th>\n      <td>65</td>\n    </tr>\n    <tr>\n      <th>21131</th>\n      <td>65</td>\n    </tr>\n    <tr>\n      <th>5050</th>\n      <td>63</td>\n    </tr>\n    <tr>\n      <th>14615</th>\n      <td>63</td>\n    </tr>\n    <tr>\n      <th>1484</th>\n      <td>62</td>\n    </tr>\n    <tr>\n      <th>8262</th>\n      <td>62</td>\n    </tr>\n    <tr>\n      <th>5297</th>\n      <td>61</td>\n    </tr>\n    <tr>\n      <th>22219</th>\n      <td>60</td>\n    </tr>\n    <tr>\n      <th>22144</th>\n      <td>60</td>\n    </tr>\n    <tr>\n      <th>18873</th>\n      <td>58</td>\n    </tr>\n    <tr>\n      <th>3542</th>\n      <td>50</td>\n    </tr>\n    <tr>\n      <th>12816</th>\n      <td>48</td>\n    </tr>\n    <tr>\n      <th>8709</th>\n      <td>39</td>\n    </tr>\n    <tr>\n      <th>9992</th>\n      <td>38</td>\n    </tr>\n    <tr>\n      <th>4615</th>\n      <td>37</td>\n    </tr>\n    <tr>\n      <th>7959</th>\n      <td>32</td>\n    </tr>\n    <tr>\n      <th>2137</th>\n      <td>17</td>\n    </tr>\n  </tbody>\n</table>\n</div>"
     },
     "execution_count": 20,
     "metadata": {},
     "output_type": "execute_result"
    }
   ],
   "source": [
    "reviews_cnt_df.tail(50)"
   ],
   "metadata": {
    "collapsed": false,
    "pycharm": {
     "name": "#%%\n"
    }
   }
  },
  {
   "cell_type": "code",
   "execution_count": 21,
   "outputs": [
    {
     "data": {
      "text/plain": "       review length\ncount   25000.000000\nmean      834.313480\nstd       657.140607\nmin        17.000000\n25%       426.000000\n50%       609.000000\n75%      1018.000000\nmax      9709.000000",
      "text/html": "<div>\n<style scoped>\n    .dataframe tbody tr th:only-of-type {\n        vertical-align: middle;\n    }\n\n    .dataframe tbody tr th {\n        vertical-align: top;\n    }\n\n    .dataframe thead th {\n        text-align: right;\n    }\n</style>\n<table border=\"1\" class=\"dataframe\">\n  <thead>\n    <tr style=\"text-align: right;\">\n      <th></th>\n      <th>review length</th>\n    </tr>\n  </thead>\n  <tbody>\n    <tr>\n      <th>count</th>\n      <td>25000.000000</td>\n    </tr>\n    <tr>\n      <th>mean</th>\n      <td>834.313480</td>\n    </tr>\n    <tr>\n      <th>std</th>\n      <td>657.140607</td>\n    </tr>\n    <tr>\n      <th>min</th>\n      <td>17.000000</td>\n    </tr>\n    <tr>\n      <th>25%</th>\n      <td>426.000000</td>\n    </tr>\n    <tr>\n      <th>50%</th>\n      <td>609.000000</td>\n    </tr>\n    <tr>\n      <th>75%</th>\n      <td>1018.000000</td>\n    </tr>\n    <tr>\n      <th>max</th>\n      <td>9709.000000</td>\n    </tr>\n  </tbody>\n</table>\n</div>"
     },
     "execution_count": 21,
     "metadata": {},
     "output_type": "execute_result"
    }
   ],
   "source": [
    "reviews_cnt_df.describe()"
   ],
   "metadata": {
    "collapsed": false,
    "pycharm": {
     "name": "#%%\n"
    }
   }
  },
  {
   "cell_type": "code",
   "execution_count": 22,
   "outputs": [
    {
     "data": {
      "text/plain": "review length    609.0\ndtype: float64"
     },
     "execution_count": 22,
     "metadata": {},
     "output_type": "execute_result"
    }
   ],
   "source": [
    "reviews_cnt_df.median()"
   ],
   "metadata": {
    "collapsed": false,
    "pycharm": {
     "name": "#%%\n"
    }
   }
  },
  {
   "cell_type": "code",
   "execution_count": 93,
   "outputs": [
    {
     "data": {
      "text/plain": "<AxesSubplot:>"
     },
     "execution_count": 93,
     "metadata": {},
     "output_type": "execute_result"
    },
    {
     "data": {
      "text/plain": "<Figure size 360x1080 with 1 Axes>",
      "image/png": "[encoded data removed]"
     },
     "metadata": {
      "needs_background": "light"
     },
     "output_type": "display_data"
    }
   ],
   "source": [
    "reviews_cnt_df.boxplot(figsize=(5, 15))"
   ],
   "metadata": {
    "collapsed": false,
    "pycharm": {
     "name": "#%%\n"
    }
   }
  },
  {
   "cell_type": "code",
   "execution_count": 94,
   "outputs": [
    {
     "data": {
      "text/plain": "array([[<AxesSubplot:title={'center':'review length'}>]], dtype=object)"
     },
     "execution_count": 94,
     "metadata": {},
     "output_type": "execute_result"
    },
    {
     "data": {
      "text/plain": "<Figure size 1080x576 with 1 Axes>",
      "image/png": "[encoded data removed]"
     },
     "metadata": {
      "needs_background": "light"
     },
     "output_type": "display_data"
    }
   ],
   "source": [
    "reviews_cnt_df.hist(bins=100, figsize=(15, 8))"
   ],
   "metadata": {
    "collapsed": false,
    "pycharm": {
     "name": "#%%\n"
    }
   }
  },
  {
   "cell_type": "code",
   "execution_count": 95,
   "outputs": [
    {
     "data": {
      "text/plain": "       review length\ncount   24800.000000\nmean      823.590887\nstd       619.388063\nmin       109.000000\n25%       428.000000\n50%       609.000000\n75%      1013.000000\nmax      3751.000000",
      "text/html": "<div>\n<style scoped>\n    .dataframe tbody tr th:only-of-type {\n        vertical-align: middle;\n    }\n\n    .dataframe tbody tr th {\n        vertical-align: top;\n    }\n\n    .dataframe thead th {\n        text-align: right;\n    }\n</style>\n<table border=\"1\" class=\"dataframe\">\n  <thead>\n    <tr style=\"text-align: right;\">\n      <th></th>\n      <th>review length</th>\n    </tr>\n  </thead>\n  <tbody>\n    <tr>\n      <th>count</th>\n      <td>24800.000000</td>\n    </tr>\n    <tr>\n      <th>mean</th>\n      <td>823.590887</td>\n    </tr>\n    <tr>\n      <th>std</th>\n      <td>619.388063</td>\n    </tr>\n    <tr>\n      <th>min</th>\n      <td>109.000000</td>\n    </tr>\n    <tr>\n      <th>25%</th>\n      <td>428.000000</td>\n    </tr>\n    <tr>\n      <th>50%</th>\n      <td>609.000000</td>\n    </tr>\n    <tr>\n      <th>75%</th>\n      <td>1013.000000</td>\n    </tr>\n    <tr>\n      <th>max</th>\n      <td>3751.000000</td>\n    </tr>\n  </tbody>\n</table>\n</div>"
     },
     "execution_count": 95,
     "metadata": {},
     "output_type": "execute_result"
    }
   ],
   "source": [
    "reviews_cnt_df[100:-100].describe()"
   ],
   "metadata": {
    "collapsed": false,
    "pycharm": {
     "name": "#%%\n"
    }
   }
  },
  {
   "cell_type": "code",
   "execution_count": 96,
   "outputs": [
    {
     "data": {
      "text/plain": "array([[<AxesSubplot:title={'center':'review length'}>]], dtype=object)"
     },
     "execution_count": 96,
     "metadata": {},
     "output_type": "execute_result"
    },
    {
     "data": {
      "text/plain": "<Figure size 1080x576 with 1 Axes>",
      "image/png": "[encoded data removed]"
     },
     "metadata": {
      "needs_background": "light"
     },
     "output_type": "display_data"
    }
   ],
   "source": [
    "reviews_cnt_df[100:-100].hist(bins=100, figsize=(15, 8))"
   ],
   "metadata": {
    "collapsed": false,
    "pycharm": {
     "name": "#%%\n"
    }
   }
  },
  {
   "cell_type": "markdown",
   "source": [
    "- Conclusion\n",
    "    - most of the reviews are around 1000 word after ignoring 100 from the left and right"
   ],
   "metadata": {
    "collapsed": false,
    "pycharm": {
     "name": "#%% md\n"
    }
   }
  },
  {
   "cell_type": "code",
   "execution_count": 23,
   "outputs": [
    {
     "data": {
      "text/plain": "            word  word count\n18          much        9763\n975          get        9309\n433          bad        9308\n122         been        9289\n138       people        9285\n279         will        9211\n190           do        9177\n6          other        9163\n304         also        9158\n76          into        9111\n632        first        9061\n108        great        9059\n1478     because        9045\n682          how        8901\n1366         him        8876\n271          don        8804\n137         most        8783\n431         made        8364\n676          its        8277\n403         then        8119\n695          way        8025\n96          make        8025\n296         them        7970\n430        could        7923\n88           too        7833\n758       movies        7666\n389          any        7660\n206        after        7638\n57         think        7298\n210   characters        7160\n435    character        7020\n721        watch        6974\n322          two        6906\n252        films        6890\n116         seen        6679\n54          many        6675\n9           life        6628\n238        being        6610\n248         plot        6586\n546       acting        6493\n124        never        6485\n243         love        6453\n432       little        6437\n399         best        6413\n194        where        6392\n363         over        6333\n131          did        6296\n264         show        6294\n272         know        6167\n89           off        6030",
      "text/html": "<div>\n<style scoped>\n    .dataframe tbody tr th:only-of-type {\n        vertical-align: middle;\n    }\n\n    .dataframe tbody tr th {\n        vertical-align: top;\n    }\n\n    .dataframe thead th {\n        text-align: right;\n    }\n</style>\n<table border=\"1\" class=\"dataframe\">\n  <thead>\n    <tr style=\"text-align: right;\">\n      <th></th>\n      <th>word</th>\n      <th>word count</th>\n    </tr>\n  </thead>\n  <tbody>\n    <tr>\n      <th>18</th>\n      <td>much</td>\n      <td>9763</td>\n    </tr>\n    <tr>\n      <th>975</th>\n      <td>get</td>\n      <td>9309</td>\n    </tr>\n    <tr>\n      <th>433</th>\n      <td>bad</td>\n      <td>9308</td>\n    </tr>\n    <tr>\n      <th>122</th>\n      <td>been</td>\n      <td>9289</td>\n    </tr>\n    <tr>\n      <th>138</th>\n      <td>people</td>\n      <td>9285</td>\n    </tr>\n    <tr>\n      <th>279</th>\n      <td>will</td>\n      <td>9211</td>\n    </tr>\n    <tr>\n      <th>190</th>\n      <td>do</td>\n      <td>9177</td>\n    </tr>\n    <tr>\n      <th>6</th>\n      <td>other</td>\n      <td>9163</td>\n    </tr>\n    <tr>\n      <th>304</th>\n      <td>also</td>\n      <td>9158</td>\n    </tr>\n    <tr>\n      <th>76</th>\n      <td>into</td>\n      <td>9111</td>\n    </tr>\n    <tr>\n      <th>632</th>\n      <td>first</td>\n      <td>9061</td>\n    </tr>\n    <tr>\n      <th>108</th>\n      <td>great</td>\n      <td>9059</td>\n    </tr>\n    <tr>\n      <th>1478</th>\n      <td>because</td>\n      <td>9045</td>\n    </tr>\n    <tr>\n      <th>682</th>\n      <td>how</td>\n      <td>8901</td>\n    </tr>\n    <tr>\n      <th>1366</th>\n      <td>him</td>\n      <td>8876</td>\n    </tr>\n    <tr>\n      <th>271</th>\n      <td>don</td>\n      <td>8804</td>\n    </tr>\n    <tr>\n      <th>137</th>\n      <td>most</td>\n      <td>8783</td>\n    </tr>\n    <tr>\n      <th>431</th>\n      <td>made</td>\n      <td>8364</td>\n    </tr>\n    <tr>\n      <th>676</th>\n      <td>its</td>\n      <td>8277</td>\n    </tr>\n    <tr>\n      <th>403</th>\n      <td>then</td>\n      <td>8119</td>\n    </tr>\n    <tr>\n      <th>695</th>\n      <td>way</td>\n      <td>8025</td>\n    </tr>\n    <tr>\n      <th>96</th>\n      <td>make</td>\n      <td>8025</td>\n    </tr>\n    <tr>\n      <th>296</th>\n      <td>them</td>\n      <td>7970</td>\n    </tr>\n    <tr>\n      <th>430</th>\n      <td>could</td>\n      <td>7923</td>\n    </tr>\n    <tr>\n      <th>88</th>\n      <td>too</td>\n      <td>7833</td>\n    </tr>\n    <tr>\n      <th>758</th>\n      <td>movies</td>\n      <td>7666</td>\n    </tr>\n    <tr>\n      <th>389</th>\n      <td>any</td>\n      <td>7660</td>\n    </tr>\n    <tr>\n      <th>206</th>\n      <td>after</td>\n      <td>7638</td>\n    </tr>\n    <tr>\n      <th>57</th>\n      <td>think</td>\n      <td>7298</td>\n    </tr>\n    <tr>\n      <th>210</th>\n      <td>characters</td>\n      <td>7160</td>\n    </tr>\n    <tr>\n      <th>435</th>\n      <td>character</td>\n      <td>7020</td>\n    </tr>\n    <tr>\n      <th>721</th>\n      <td>watch</td>\n      <td>6974</td>\n    </tr>\n    <tr>\n      <th>322</th>\n      <td>two</td>\n      <td>6906</td>\n    </tr>\n    <tr>\n      <th>252</th>\n      <td>films</td>\n      <td>6890</td>\n    </tr>\n    <tr>\n      <th>116</th>\n      <td>seen</td>\n      <td>6679</td>\n    </tr>\n    <tr>\n      <th>54</th>\n      <td>many</td>\n      <td>6675</td>\n    </tr>\n    <tr>\n      <th>9</th>\n      <td>life</td>\n      <td>6628</td>\n    </tr>\n    <tr>\n      <th>238</th>\n      <td>being</td>\n      <td>6610</td>\n    </tr>\n    <tr>\n      <th>248</th>\n      <td>plot</td>\n      <td>6586</td>\n    </tr>\n    <tr>\n      <th>546</th>\n      <td>acting</td>\n      <td>6493</td>\n    </tr>\n    <tr>\n      <th>124</th>\n      <td>never</td>\n      <td>6485</td>\n    </tr>\n    <tr>\n      <th>243</th>\n      <td>love</td>\n      <td>6453</td>\n    </tr>\n    <tr>\n      <th>432</th>\n      <td>little</td>\n      <td>6437</td>\n    </tr>\n    <tr>\n      <th>399</th>\n      <td>best</td>\n      <td>6413</td>\n    </tr>\n    <tr>\n      <th>194</th>\n      <td>where</td>\n      <td>6392</td>\n    </tr>\n    <tr>\n      <th>363</th>\n      <td>over</td>\n      <td>6333</td>\n    </tr>\n    <tr>\n      <th>131</th>\n      <td>did</td>\n      <td>6296</td>\n    </tr>\n    <tr>\n      <th>264</th>\n      <td>show</td>\n      <td>6294</td>\n    </tr>\n    <tr>\n      <th>272</th>\n      <td>know</td>\n      <td>6167</td>\n    </tr>\n    <tr>\n      <th>89</th>\n      <td>off</td>\n      <td>6030</td>\n    </tr>\n  </tbody>\n</table>\n</div>"
     },
     "execution_count": 23,
     "metadata": {},
     "output_type": "execute_result"
    }
   ],
   "source": [
    "words_cnt_df.head(50)"
   ],
   "metadata": {
    "collapsed": false,
    "pycharm": {
     "name": "#%%\n"
    }
   }
  },
  {
   "cell_type": "code",
   "execution_count": 99,
   "outputs": [
    {
     "data": {
      "text/plain": "                 word  word count\n39165         beasley           2\n39166         spenser           2\n39167         tirelli           2\n39168          effing           2\n29254          dogmas           2\n39170         vacancy           2\n39171       wanderers           2\n39172   perspicacious           2\n29252         partway           2\n39174        onlooker           2\n39175        contours           2\n39201  knappertsbusch           2\n29226       worshiper           2\n39203          entrap           2\n39230           aesir           2\n39233            paso           2\n39234      validating           2\n14619       perchance           2\n14630           curie           2\n14632            mady           2\n14633          weimar           2\n14634       vagabonds           2\n39240            jimi           2\n29184            lira           2\n39244       mcgarrett           2\n14643           katch           2\n14647      repudiated           2\n39247         muscats           2\n29178          navajo           2\n29176         bumbled           2\n29201           quade           2\n29204     peckinpaugh           2\n39205    philharmonic           2\n29208           autos           2\n29222      specialize           2\n29221     irrelevance           2\n39208       unengaged           2\n14597         panoply           2\n39210          bagger           2\n29219       dollhouse           2\n29217        darkroom           2\n39214       baseballs           2\n39215       petroleum           2\n39217           prism           2\n39218     actualities           2\n5885           gimped           2\n29214     predeccesor           2\n39222          durham           2\n29210    southeastern           2\n46342          raksha           2",
      "text/html": "<div>\n<style scoped>\n    .dataframe tbody tr th:only-of-type {\n        vertical-align: middle;\n    }\n\n    .dataframe tbody tr th {\n        vertical-align: top;\n    }\n\n    .dataframe thead th {\n        text-align: right;\n    }\n</style>\n<table border=\"1\" class=\"dataframe\">\n  <thead>\n    <tr style=\"text-align: right;\">\n      <th></th>\n      <th>word</th>\n      <th>word count</th>\n    </tr>\n  </thead>\n  <tbody>\n    <tr>\n      <th>39165</th>\n      <td>beasley</td>\n      <td>2</td>\n    </tr>\n    <tr>\n      <th>39166</th>\n      <td>spenser</td>\n      <td>2</td>\n    </tr>\n    <tr>\n      <th>39167</th>\n      <td>tirelli</td>\n      <td>2</td>\n    </tr>\n    <tr>\n      <th>39168</th>\n      <td>effing</td>\n      <td>2</td>\n    </tr>\n    <tr>\n      <th>29254</th>\n      <td>dogmas</td>\n      <td>2</td>\n    </tr>\n    <tr>\n      <th>39170</th>\n      <td>vacancy</td>\n      <td>2</td>\n    </tr>\n    <tr>\n      <th>39171</th>\n      <td>wanderers</td>\n      <td>2</td>\n    </tr>\n    <tr>\n      <th>39172</th>\n      <td>perspicacious</td>\n      <td>2</td>\n    </tr>\n    <tr>\n      <th>29252</th>\n      <td>partway</td>\n      <td>2</td>\n    </tr>\n    <tr>\n      <th>39174</th>\n      <td>onlooker</td>\n      <td>2</td>\n    </tr>\n    <tr>\n      <th>39175</th>\n      <td>contours</td>\n      <td>2</td>\n    </tr>\n    <tr>\n      <th>39201</th>\n      <td>knappertsbusch</td>\n      <td>2</td>\n    </tr>\n    <tr>\n      <th>29226</th>\n      <td>worshiper</td>\n      <td>2</td>\n    </tr>\n    <tr>\n      <th>39203</th>\n      <td>entrap</td>\n      <td>2</td>\n    </tr>\n    <tr>\n      <th>39230</th>\n      <td>aesir</td>\n      <td>2</td>\n    </tr>\n    <tr>\n      <th>39233</th>\n      <td>paso</td>\n      <td>2</td>\n    </tr>\n    <tr>\n      <th>39234</th>\n      <td>validating</td>\n      <td>2</td>\n    </tr>\n    <tr>\n      <th>14619</th>\n      <td>perchance</td>\n      <td>2</td>\n    </tr>\n    <tr>\n      <th>14630</th>\n      <td>curie</td>\n      <td>2</td>\n    </tr>\n    <tr>\n      <th>14632</th>\n      <td>mady</td>\n      <td>2</td>\n    </tr>\n    <tr>\n      <th>14633</th>\n      <td>weimar</td>\n      <td>2</td>\n    </tr>\n    <tr>\n      <th>14634</th>\n      <td>vagabonds</td>\n      <td>2</td>\n    </tr>\n    <tr>\n      <th>39240</th>\n      <td>jimi</td>\n      <td>2</td>\n    </tr>\n    <tr>\n      <th>29184</th>\n      <td>lira</td>\n      <td>2</td>\n    </tr>\n    <tr>\n      <th>39244</th>\n      <td>mcgarrett</td>\n      <td>2</td>\n    </tr>\n    <tr>\n      <th>14643</th>\n      <td>katch</td>\n      <td>2</td>\n    </tr>\n    <tr>\n      <th>14647</th>\n      <td>repudiated</td>\n      <td>2</td>\n    </tr>\n    <tr>\n      <th>39247</th>\n      <td>muscats</td>\n      <td>2</td>\n    </tr>\n    <tr>\n      <th>29178</th>\n      <td>navajo</td>\n      <td>2</td>\n    </tr>\n    <tr>\n      <th>29176</th>\n      <td>bumbled</td>\n      <td>2</td>\n    </tr>\n    <tr>\n      <th>29201</th>\n      <td>quade</td>\n      <td>2</td>\n    </tr>\n    <tr>\n      <th>29204</th>\n      <td>peckinpaugh</td>\n      <td>2</td>\n    </tr>\n    <tr>\n      <th>39205</th>\n      <td>philharmonic</td>\n      <td>2</td>\n    </tr>\n    <tr>\n      <th>29208</th>\n      <td>autos</td>\n      <td>2</td>\n    </tr>\n    <tr>\n      <th>29222</th>\n      <td>specialize</td>\n      <td>2</td>\n    </tr>\n    <tr>\n      <th>29221</th>\n      <td>irrelevance</td>\n      <td>2</td>\n    </tr>\n    <tr>\n      <th>39208</th>\n      <td>unengaged</td>\n      <td>2</td>\n    </tr>\n    <tr>\n      <th>14597</th>\n      <td>panoply</td>\n      <td>2</td>\n    </tr>\n    <tr>\n      <th>39210</th>\n      <td>bagger</td>\n      <td>2</td>\n    </tr>\n    <tr>\n      <th>29219</th>\n      <td>dollhouse</td>\n      <td>2</td>\n    </tr>\n    <tr>\n      <th>29217</th>\n      <td>darkroom</td>\n      <td>2</td>\n    </tr>\n    <tr>\n      <th>39214</th>\n      <td>baseballs</td>\n      <td>2</td>\n    </tr>\n    <tr>\n      <th>39215</th>\n      <td>petroleum</td>\n      <td>2</td>\n    </tr>\n    <tr>\n      <th>39217</th>\n      <td>prism</td>\n      <td>2</td>\n    </tr>\n    <tr>\n      <th>39218</th>\n      <td>actualities</td>\n      <td>2</td>\n    </tr>\n    <tr>\n      <th>5885</th>\n      <td>gimped</td>\n      <td>2</td>\n    </tr>\n    <tr>\n      <th>29214</th>\n      <td>predeccesor</td>\n      <td>2</td>\n    </tr>\n    <tr>\n      <th>39222</th>\n      <td>durham</td>\n      <td>2</td>\n    </tr>\n    <tr>\n      <th>29210</th>\n      <td>southeastern</td>\n      <td>2</td>\n    </tr>\n    <tr>\n      <th>46342</th>\n      <td>raksha</td>\n      <td>2</td>\n    </tr>\n  </tbody>\n</table>\n</div>"
     },
     "execution_count": 99,
     "metadata": {},
     "output_type": "execute_result"
    }
   ],
   "source": [
    "words_cnt_df.tail(50)"
   ],
   "metadata": {
    "collapsed": false,
    "pycharm": {
     "name": "#%%\n"
    }
   }
  },
  {
   "cell_type": "code",
   "execution_count": 100,
   "outputs": [
    {
     "data": {
      "text/plain": "         word count\ncount  46343.000000\nmean      66.102626\nstd      368.406740\nmin        2.000000\n25%        3.000000\n50%        7.000000\n75%       24.000000\nmax     9763.000000",
      "text/html": "<div>\n<style scoped>\n    .dataframe tbody tr th:only-of-type {\n        vertical-align: middle;\n    }\n\n    .dataframe tbody tr th {\n        vertical-align: top;\n    }\n\n    .dataframe thead th {\n        text-align: right;\n    }\n</style>\n<table border=\"1\" class=\"dataframe\">\n  <thead>\n    <tr style=\"text-align: right;\">\n      <th></th>\n      <th>word count</th>\n    </tr>\n  </thead>\n  <tbody>\n    <tr>\n      <th>count</th>\n      <td>46343.000000</td>\n    </tr>\n    <tr>\n      <th>mean</th>\n      <td>66.102626</td>\n    </tr>\n    <tr>\n      <th>std</th>\n      <td>368.406740</td>\n    </tr>\n    <tr>\n      <th>min</th>\n      <td>2.000000</td>\n    </tr>\n    <tr>\n      <th>25%</th>\n      <td>3.000000</td>\n    </tr>\n    <tr>\n      <th>50%</th>\n      <td>7.000000</td>\n    </tr>\n    <tr>\n      <th>75%</th>\n      <td>24.000000</td>\n    </tr>\n    <tr>\n      <th>max</th>\n      <td>9763.000000</td>\n    </tr>\n  </tbody>\n</table>\n</div>"
     },
     "execution_count": 100,
     "metadata": {},
     "output_type": "execute_result"
    }
   ],
   "source": [
    "words_cnt_df.describe()"
   ],
   "metadata": {
    "collapsed": false,
    "pycharm": {
     "name": "#%%\n"
    }
   }
  },
  {
   "cell_type": "code",
   "execution_count": 101,
   "outputs": [
    {
     "data": {
      "text/plain": "<AxesSubplot:>"
     },
     "execution_count": 101,
     "metadata": {},
     "output_type": "execute_result"
    },
    {
     "data": {
      "text/plain": "<Figure size 360x720 with 1 Axes>",
      "image/png": "[encoded data removed]"
     },
     "metadata": {
      "needs_background": "light"
     },
     "output_type": "display_data"
    }
   ],
   "source": [
    "words_cnt_df.boxplot(figsize=(5, 10))"
   ],
   "metadata": {
    "collapsed": false,
    "pycharm": {
     "name": "#%%\n"
    }
   }
  },
  {
   "cell_type": "markdown",
   "source": [
    "# Data preprocessing\n",
    "- remove words that appear both in negative reviews and positive reviews and doesn't have weight in deciding whether this review is positive or negative. words like `the,is,a,do,..etc`\n",
    "- remove words that don't appear much may be misspelling"
   ],
   "metadata": {
    "collapsed": false,
    "pycharm": {
     "name": "#%% md\n"
    }
   }
  },
  {
   "cell_type": "code",
   "execution_count": 2,
   "outputs": [],
   "source": [
    "with open(os.path.join(prep_dataset_dir_skipgram, 'reviews.txt'), 'r') as rev_file:\n",
    "    raw_reviews_txt = rev_file.read()\n",
    "with open(os.path.join(raw_dataset_dir, 'labels.txt'), 'r') as labels_file:\n",
    "    raw_labels_txt = labels_file.read()"
   ],
   "metadata": {
    "collapsed": false,
    "pycharm": {
     "name": "#%%\n"
    }
   }
  },
  {
   "cell_type": "markdown",
   "source": [
    "- we have now the count of each word in both positive and negative, but we want the words that appear in positive only and doesn't appear in negative and vice versa\n",
    "- ![word_importance.png](assets/word_importance.png)\n",
    "\n",
    "\n",
    "- away for this to calculate the ration of the word log(positive_cnt/negative_cnt)\n",
    "- if count of the word in positive reviews nearly equal in negative reviews\n",
    "    - the result will be near to zero\n",
    "- if it appears in positive\n",
    "    - the result will be large number greater than 0  +ve\n",
    "- if it appears more in negative\n",
    "    - the result will be large negative number -ve"
   ],
   "metadata": {
    "collapsed": false,
    "pycharm": {
     "name": "#%% md\n"
    }
   }
  },
  {
   "cell_type": "code",
   "execution_count": 7,
   "outputs": [
    {
     "name": "stdout",
     "output_type": "stream",
     "text": [
      "min_val -4.276666119016055\n",
      "max_val 4.700480365792417\n"
     ]
    }
   ],
   "source": [
    "prep_reviews, words_pos_neg_ratio, removed_words = src.remove_common_words(raw_reviews_txt, labels=raw_labels_txt,\n",
    "                                                                           threshold=0.1, min_freq=2)\n",
    "min_val,max_val=0,-1\n",
    "\n",
    "for word,ratio in words_pos_neg_ratio.items():\n",
    "    min_val=min(ratio,min_val)\n",
    "    max_val=max(ratio,max_val)\n",
    "print(f\"min_val {min_val}\")\n",
    "print(f\"max_val {max_val}\")"
   ],
   "metadata": {
    "collapsed": false,
    "pycharm": {
     "name": "#%%\n"
    }
   }
  },
  {
   "cell_type": "code",
   "execution_count": null,
   "outputs": [],
   "source": [
    "w_pos_neg_ratio_df = pd.DataFrame(words_pos_neg_ratio.items(), columns=['word', 'ratio'])"
   ],
   "metadata": {
    "collapsed": false,
    "pycharm": {
     "name": "#%%\n"
    }
   }
  },
  {
   "cell_type": "code",
   "execution_count": null,
   "outputs": [],
   "source": [
    "w_pos_neg_ratio_df[(w_pos_neg_ratio_df.ratio <= 0.7) & (w_pos_neg_ratio_df.ratio > 0)]"
   ],
   "metadata": {
    "collapsed": false,
    "pycharm": {
     "name": "#%%\n"
    }
   }
  },
  {
   "cell_type": "code",
   "execution_count": null,
   "outputs": [],
   "source": [
    "print(\"common words\")\n",
    "print(f\"pos and negative ratio for 'the' {words_pos_neg_ratio['those']}\")\n",
    "print(f\"pos and negative ratio for 'is' {words_pos_neg_ratio['him']}\")\n",
    "print(f\"pos and negative ratio for 'is' {words_pos_neg_ratio['']}\")\n",
    "print(\"\\nPostive words\")\n",
    "\n",
    "print(f\"pos and negative ratio for 'wonderful' {words_pos_neg_ratio['wonderful']}\")\n",
    "print(f\"pos and negative ratio for 'amazing' {words_pos_neg_ratio['amazing']}\")\n",
    "\n",
    "print(\"\\nnegative words\")\n",
    "print(f\"pos and negative ratio for 'bad' {words_pos_neg_ratio['bad']}\")\n",
    "print(f\"pos and negative ratio for 'worse' {words_pos_neg_ratio['worse']}\")"
   ],
   "metadata": {
    "collapsed": false,
    "pycharm": {
     "name": "#%%\n"
    }
   }
  },
  {
   "cell_type": "code",
   "execution_count": 2,
   "outputs": [
    {
     "ename": "NameError",
     "evalue": "name 'removed_words' is not defined",
     "output_type": "error",
     "traceback": [
      "\u001B[1;31m---------------------------------------------------------------------------\u001B[0m",
      "\u001B[1;31mNameError\u001B[0m                                 Traceback (most recent call last)",
      "Input \u001B[1;32mIn [2]\u001B[0m, in \u001B[0;36m<cell line: 1>\u001B[1;34m()\u001B[0m\n\u001B[1;32m----> 1\u001B[0m \u001B[38;5;28mlen\u001B[39m(\u001B[43mremoved_words\u001B[49m)\n",
      "\u001B[1;31mNameError\u001B[0m: name 'removed_words' is not defined"
     ]
    }
   ],
   "source": [
    "len(removed_words)"
   ],
   "metadata": {
    "collapsed": false,
    "pycharm": {
     "name": "#%%\n"
    }
   }
  },
  {
   "cell_type": "code",
   "execution_count": 105,
   "outputs": [
    {
     "data": {
      "text/plain": "['estimate',\n 'scrotum',\n 'deranged',\n 'foresee',\n 'hebetude',\n 'liners',\n 'becker',\n 'marton',\n 'bolder',\n 'haysbert',\n 'capra',\n 'fried',\n 'concepts',\n 'swiss',\n 'medals',\n 'korean',\n 'thousands',\n 'anally',\n 'rothrock',\n 'sliding',\n 'branding',\n 'armani',\n 'processed',\n 'immediately',\n 'besson',\n 'barmans',\n 'parallax',\n 'pummeled',\n 'cats',\n 'revival',\n 'accusing',\n 'menu',\n 'chauvinist',\n 'vieira',\n 'massacre',\n 'nocturnal',\n 'deforrest',\n 'myers',\n 'sword',\n 'mais',\n 'snorting',\n 'sudden',\n 'exploring',\n 'retractable',\n 'gravitational',\n 'theses',\n 'amusement',\n 'zimbabwe',\n 'nymphomaniac',\n 'fur',\n 'doughnut',\n 'stationed',\n 'langoliers',\n 'insurmountable',\n 'commander',\n 'undertakings',\n 'holders',\n 'worn',\n 'begotten',\n 'wholly',\n 'melange',\n 'shaye',\n 'adding',\n 'utilizing',\n 'climaxed',\n 'chim',\n 'wrung',\n 'toothed',\n 'slaughter',\n 'fancies',\n 'evolvement',\n 'anorak',\n 'cancel',\n 'congratulate',\n 'parekh',\n 'luring',\n 'legislature',\n 'mailed',\n 'johns',\n 'virginity',\n 'hough',\n 'rear',\n 'pupsi',\n 'struggling',\n 'flashy',\n 'abridged',\n 'crackpot',\n 'bogged',\n 'burglary',\n 'presenter',\n 'mockumentaries',\n 'shocked',\n 'outskirts',\n 'slippers',\n 'pd',\n 'questioner',\n 'tennesse',\n 'spike',\n 'nicholas',\n 'sparrows']"
     },
     "execution_count": 105,
     "metadata": {},
     "output_type": "execute_result"
    }
   ],
   "source": [
    "start = random.randint(0, len(removed_words) - 100)\n",
    "end = start + 100\n",
    "removed_words[start:end]"
   ],
   "metadata": {
    "collapsed": false,
    "pycharm": {
     "name": "#%%\n"
    }
   }
  },
  {
   "cell_type": "code",
   "execution_count": 72,
   "outputs": [],
   "source": [
    "# split('\\n')[:-1] to ignore the last empty line\n",
    "reviews_list = prep_reviews.split('\\n')[:-1]\n",
    "labels_list = prep_reviews.split('\\n')[:-1]\n",
    "\n",
    "reviews_count_list = []\n",
    "words_counter = Counter(prep_reviews.split())\n",
    "\n",
    "for review in reviews_list:\n",
    "    reviews_count_list.append([len(review)])\n",
    "\n",
    "reviews_cnt_df = pd.DataFrame(reviews_count_list, columns=['review length']).sort_values(ascending=False,\n",
    "                                                                                         by=['review length'])\n",
    "words_cnt_df = pd.DataFrame(words_counter.items(), columns=['word', 'word count']).sort_values(ascending=False,\n",
    "                                                                                               by=['word count'])"
   ],
   "metadata": {
    "collapsed": false,
    "pycharm": {
     "name": "#%%\n"
    }
   }
  },
  {
   "cell_type": "code",
   "execution_count": 73,
   "outputs": [
    {
     "data": {
      "text/plain": "array([[<AxesSubplot:title={'center':'review length'}>]], dtype=object)"
     },
     "execution_count": 73,
     "metadata": {},
     "output_type": "execute_result"
    },
    {
     "data": {
      "text/plain": "<Figure size 1080x576 with 1 Axes>",
      "image/png": "[encoded data removed]"
     },
     "metadata": {
      "needs_background": "light"
     },
     "output_type": "display_data"
    }
   ],
   "source": [
    "reviews_cnt_df[100:-100].hist(bins=100, figsize=(15, 8))"
   ],
   "metadata": {
    "collapsed": false,
    "pycharm": {
     "name": "#%%\n"
    }
   }
  },
  {
   "cell_type": "code",
   "execution_count": 74,
   "outputs": [
    {
     "data": {
      "text/plain": "       review length\ncount   25000.000000\nmean      610.741960\nstd       476.949979\nmin        19.000000\n25%       314.000000\n50%       448.000000\n75%       746.000000\nmax      6583.000000",
      "text/html": "<div>\n<style scoped>\n    .dataframe tbody tr th:only-of-type {\n        vertical-align: middle;\n    }\n\n    .dataframe tbody tr th {\n        vertical-align: top;\n    }\n\n    .dataframe thead th {\n        text-align: right;\n    }\n</style>\n<table border=\"1\" class=\"dataframe\">\n  <thead>\n    <tr style=\"text-align: right;\">\n      <th></th>\n      <th>review length</th>\n    </tr>\n  </thead>\n  <tbody>\n    <tr>\n      <th>count</th>\n      <td>25000.000000</td>\n    </tr>\n    <tr>\n      <th>mean</th>\n      <td>610.741960</td>\n    </tr>\n    <tr>\n      <th>std</th>\n      <td>476.949979</td>\n    </tr>\n    <tr>\n      <th>min</th>\n      <td>19.000000</td>\n    </tr>\n    <tr>\n      <th>25%</th>\n      <td>314.000000</td>\n    </tr>\n    <tr>\n      <th>50%</th>\n      <td>448.000000</td>\n    </tr>\n    <tr>\n      <th>75%</th>\n      <td>746.000000</td>\n    </tr>\n    <tr>\n      <th>max</th>\n      <td>6583.000000</td>\n    </tr>\n  </tbody>\n</table>\n</div>"
     },
     "execution_count": 74,
     "metadata": {},
     "output_type": "execute_result"
    }
   ],
   "source": [
    "reviews_cnt_df.describe()"
   ],
   "metadata": {
    "collapsed": false,
    "pycharm": {
     "name": "#%%\n"
    }
   }
  },
  {
   "cell_type": "markdown",
   "source": [
    "- mean of no of words in a review about 800 word per review after removing noisy words"
   ],
   "metadata": {
    "collapsed": false,
    "pycharm": {
     "name": "#%% md\n"
    }
   }
  },
  {
   "cell_type": "code",
   "execution_count": 75,
   "outputs": [
    {
     "data": {
      "text/plain": "             word  word count\n1              as       46933\n385         movie       44039\n33              t       34081\n121           his       29374\n94           they       22906\n...           ...         ...\n65          might        2918\n648   performance        2896\n1067         kind        2783\n948           yet        2752\n165           day        2746\n\n[100 rows x 2 columns]",
      "text/html": "<div>\n<style scoped>\n    .dataframe tbody tr th:only-of-type {\n        vertical-align: middle;\n    }\n\n    .dataframe tbody tr th {\n        vertical-align: top;\n    }\n\n    .dataframe thead th {\n        text-align: right;\n    }\n</style>\n<table border=\"1\" class=\"dataframe\">\n  <thead>\n    <tr style=\"text-align: right;\">\n      <th></th>\n      <th>word</th>\n      <th>word count</th>\n    </tr>\n  </thead>\n  <tbody>\n    <tr>\n      <th>1</th>\n      <td>as</td>\n      <td>46933</td>\n    </tr>\n    <tr>\n      <th>385</th>\n      <td>movie</td>\n      <td>44039</td>\n    </tr>\n    <tr>\n      <th>33</th>\n      <td>t</td>\n      <td>34081</td>\n    </tr>\n    <tr>\n      <th>121</th>\n      <td>his</td>\n      <td>29374</td>\n    </tr>\n    <tr>\n      <th>94</th>\n      <td>they</td>\n      <td>22906</td>\n    </tr>\n    <tr>\n      <th>...</th>\n      <td>...</td>\n      <td>...</td>\n    </tr>\n    <tr>\n      <th>65</th>\n      <td>might</td>\n      <td>2918</td>\n    </tr>\n    <tr>\n      <th>648</th>\n      <td>performance</td>\n      <td>2896</td>\n    </tr>\n    <tr>\n      <th>1067</th>\n      <td>kind</td>\n      <td>2783</td>\n    </tr>\n    <tr>\n      <th>948</th>\n      <td>yet</td>\n      <td>2752</td>\n    </tr>\n    <tr>\n      <th>165</th>\n      <td>day</td>\n      <td>2746</td>\n    </tr>\n  </tbody>\n</table>\n<p>100 rows × 2 columns</p>\n</div>"
     },
     "execution_count": 75,
     "metadata": {},
     "output_type": "execute_result"
    }
   ],
   "source": [
    "words_cnt_df.head(100)"
   ],
   "metadata": {
    "collapsed": false,
    "pycharm": {
     "name": "#%%\n"
    }
   }
  },
  {
   "cell_type": "code",
   "execution_count": 76,
   "outputs": [
    {
     "data": {
      "text/plain": "         word count\ncount  37023.000000\nmean      63.137428\nstd      601.067486\nmin        2.000000\n25%        3.000000\n50%        7.000000\n75%       22.000000\nmax    46933.000000",
      "text/html": "<div>\n<style scoped>\n    .dataframe tbody tr th:only-of-type {\n        vertical-align: middle;\n    }\n\n    .dataframe tbody tr th {\n        vertical-align: top;\n    }\n\n    .dataframe thead th {\n        text-align: right;\n    }\n</style>\n<table border=\"1\" class=\"dataframe\">\n  <thead>\n    <tr style=\"text-align: right;\">\n      <th></th>\n      <th>word count</th>\n    </tr>\n  </thead>\n  <tbody>\n    <tr>\n      <th>count</th>\n      <td>37023.000000</td>\n    </tr>\n    <tr>\n      <th>mean</th>\n      <td>63.137428</td>\n    </tr>\n    <tr>\n      <th>std</th>\n      <td>601.067486</td>\n    </tr>\n    <tr>\n      <th>min</th>\n      <td>2.000000</td>\n    </tr>\n    <tr>\n      <th>25%</th>\n      <td>3.000000</td>\n    </tr>\n    <tr>\n      <th>50%</th>\n      <td>7.000000</td>\n    </tr>\n    <tr>\n      <th>75%</th>\n      <td>22.000000</td>\n    </tr>\n    <tr>\n      <th>max</th>\n      <td>46933.000000</td>\n    </tr>\n  </tbody>\n</table>\n</div>"
     },
     "execution_count": 76,
     "metadata": {},
     "output_type": "execute_result"
    }
   ],
   "source": [
    "words_cnt_df.describe()"
   ],
   "metadata": {
    "collapsed": false,
    "pycharm": {
     "name": "#%%\n"
    }
   }
  },
  {
   "cell_type": "code",
   "execution_count": 77,
   "outputs": [
    {
     "data": {
      "text/plain": "<AxesSubplot:>"
     },
     "execution_count": 77,
     "metadata": {},
     "output_type": "execute_result"
    },
    {
     "data": {
      "text/plain": "<Figure size 360x720 with 1 Axes>",
      "image/png": "[encoded data removed]"
     },
     "metadata": {
      "needs_background": "light"
     },
     "output_type": "display_data"
    }
   ],
   "source": [
    "words_cnt_df.boxplot(figsize=(5, 10))"
   ],
   "metadata": {
    "collapsed": false,
    "pycharm": {
     "name": "#%%\n"
    }
   }
  },
  {
   "cell_type": "markdown",
   "source": [
    "# Train Data Loader"
   ],
   "metadata": {
    "collapsed": false,
    "pycharm": {
     "name": "#%% md\n"
    }
   }
  },
  {
   "cell_type": "code",
   "execution_count": 3,
   "outputs": [],
   "source": [
    "import json\n",
    "with open(os.path.join(prep_dataset_dir,\"word2int.json\"), \"r\") as word2int_file:\n",
    "    word2int=json.load( word2int_file)\n"
   ],
   "metadata": {
    "collapsed": false,
    "pycharm": {
     "name": "#%%\n"
    }
   }
  },
  {
   "cell_type": "code",
   "execution_count": 4,
   "outputs": [],
   "source": [
    "sentiment_dataloader=src.SentimentAnalysisDataset(raw_reviews_txt,labels_txt=raw_labels_txt,word2int=word2int,batch_size=64,def_review_len=800)"
   ],
   "metadata": {
    "collapsed": false,
    "pycharm": {
     "name": "#%%\n"
    }
   }
  },
  {
   "cell_type": "code",
   "execution_count": 5,
   "outputs": [],
   "source": [
    "test_iter=iter(sentiment_dataloader)\n",
    "x,y=next(test_iter)"
   ],
   "metadata": {
    "collapsed": false,
    "pycharm": {
     "name": "#%%\n"
    }
   }
  },
  {
   "cell_type": "markdown",
   "source": [
    "# Sentiment analysis model\n",
    "- TODO describe the model and the forward function"
   ],
   "metadata": {
    "collapsed": false,
    "pycharm": {
     "name": "#%% md\n"
    }
   }
  },
  {
   "cell_type": "code",
   "execution_count": 6,
   "outputs": [
    {
     "data": {
      "text/plain": "<All keys matched successfully>"
     },
     "execution_count": 6,
     "metadata": {},
     "output_type": "execute_result"
    }
   ],
   "source": [
    "skip_gram_model=src.SkipGram(vocab_size=len(word2int),embedding_size=512)\n",
    "state_dict=torch.load(traintracker.latest_weights_path(skip_gram_weights_pth),map_location=\"cpu\")\n",
    "skip_gram_model.load_state_dict(state_dict)"
   ],
   "metadata": {
    "collapsed": false,
    "pycharm": {
     "name": "#%%\n"
    }
   }
  },
  {
   "cell_type": "code",
   "execution_count": 7,
   "outputs": [],
   "source": [
    "sentiment_model=src.SentimentAnalysis(word2int=word2int,embedding_dim=512,n_layers=2,hidden_nodes=256,embedding_layer=skip_gram_model.input_embedding)"
   ],
   "metadata": {
    "collapsed": false,
    "pycharm": {
     "name": "#%%\n"
    }
   }
  }
 ],
 "metadata": {
  "kernelspec": {
   "display_name": "Python 3",
   "language": "python",
   "name": "python3"
  },
  "language_info": {
   "codemirror_mode": {
    "name": "ipython",
    "version": 2
   },
   "file_extension": ".py",
   "mimetype": "text/x-python",
   "name": "python",
   "nbconvert_exporter": "python",
   "pygments_lexer": "ipython2",
   "version": "2.7.6"
  }
 },
 "nbformat": 4,
 "nbformat_minor": 0
}