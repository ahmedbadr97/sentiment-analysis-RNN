{
 "cells": [
  {
   "cell_type": "code",
   "execution_count": 4,
   "metadata": {
    "id": "GOpkG7_9HwdT"
   },
   "outputs": [],
   "source": [
    "# Define Constants and imports\n",
    "import os\n",
    "from collections import Counter\n",
    "import matplotlib.pyplot as plt\n",
    "import pandas as pd\n",
    "import src\n",
    "from importlib import reload\n",
    "import traintracker\n",
    "\n",
    "reload(src)\n",
    "\n",
    "\n",
    "raw_dataset_dir = \"../dataset/raw\"\n",
    "prep_dataset_dir = \"../dataset/preprocessed\"\n",
    "train_data_dir=\"../train_tracker/sentiment_analysis\"\n",
    "weights_dir=\"../model_weights/sentiment_analysis\"\n",
    "skip_gram_weights=\"../model_weights/skipgram\""
   ]
  },
  {
   "cell_type": "markdown",
   "metadata": {
    "collapsed": true,
    "pycharm": {
     "name": "#%% md\n"
    },
    "id": "-QYScoUTM37P"
   },
   "source": [
    "# Introduction\n",
    "- this notebook will cover sentiment analysis of movie reviews using recurrent neural networks using first Skip-grams model to extract words embeddings for the words that appear in the reviews and then using this word embedding as the first layer for the RNN to give a vector representation for each word\n",
    "- the model will take the whole review as input and decide if it's a positive review or negative review\n",
    "- data preprocessing done first at the Skip-grams model training\n",
    "\n",
    "**Sections**\n",
    "1. load and view the dataset\n",
    "2. split the dataset and create dataset train loader\n",
    "3. create the RNN model with embedding layer from trained skip-gram model\n",
    "4. model training\n",
    "5. evaluation and infrences\n"
   ]
  },
  {
   "cell_type": "markdown",
   "source": [
    "# Load view Dataset\n",
    "1. load reviews and labels text file , reviews and labels are line separated\n",
    "2. collect some statistics about reviews lengths to decide a fixed length for a review"
   ],
   "metadata": {
    "collapsed": false,
    "pycharm": {
     "name": "#%% md\n"
    },
    "id": "gqrUOCChM37a"
   }
  },
  {
   "cell_type": "code",
   "execution_count": 2,
   "outputs": [
    {
     "data": {
      "text/plain": "['labels.txt',\n 'reviews.txt',\n 'sentiment_analysis',\n 'skipgram',\n 'word2int.json']"
     },
     "execution_count": 2,
     "metadata": {},
     "output_type": "execute_result"
    }
   ],
   "source": [
    "os.listdir(prep_dataset_dir)"
   ],
   "metadata": {
    "pycharm": {
     "name": "#%%\n"
    },
    "id": "pyFOPfcmM37b",
    "colab": {
     "base_uri": "https://localhost:8080/"
    },
    "outputId": "7a3c70c9-db0d-458b-a26e-ba40f35126e3"
   }
  },
  {
   "cell_type": "code",
   "execution_count": 3,
   "outputs": [],
   "source": [
    "with open(os.path.join(prep_dataset_dir, 'reviews.txt'), 'r') as rev_file:\n",
    "    prep_reviews_txt = rev_file.read()\n",
    "with open(os.path.join(prep_dataset_dir, 'labels.txt'), 'r') as labels_file:\n",
    "    prep_labels_txt = labels_file.read()"
   ],
   "metadata": {
    "pycharm": {
     "name": "#%%\n"
    },
    "id": "sJHM4pDlM37c"
   }
  },
  {
   "cell_type": "code",
   "execution_count": 4,
   "outputs": [
    {
     "data": {
      "text/plain": "'grew up b 1965 watching loving thunderbirds my mates school watched we played thunderbirds before school during lunch after school we wanted virgil scott no wanted alan counting down 5 became art form took my children see movie hoping would get glimp'"
     },
     "execution_count": 4,
     "metadata": {},
     "output_type": "execute_result"
    }
   ],
   "source": [
    "prep_reviews_txt[:250]"
   ],
   "metadata": {
    "pycharm": {
     "name": "#%%\n"
    },
    "id": "F_0LPMPRM37d",
    "colab": {
     "base_uri": "https://localhost:8080/",
     "height": 53
    },
    "outputId": "4de10380-938b-482d-840f-06c13889b09a"
   }
  },
  {
   "cell_type": "code",
   "execution_count": 5,
   "outputs": [],
   "source": [
    "# split('\\n')[:-1] to ignore the last empty line\n",
    "reviews_list = prep_reviews_txt.split('\\n')\n",
    "labels_list = prep_labels_txt.split('\\n')"
   ],
   "metadata": {
    "pycharm": {
     "name": "#%%\n"
    },
    "id": "eWv-YpeiM37e"
   }
  },
  {
   "cell_type": "code",
   "execution_count": 6,
   "outputs": [
    {
     "name": "stdout",
     "output_type": "stream",
     "text": [
      "no of reviews 40000\n",
      "no of labels 40000\n"
     ]
    }
   ],
   "source": [
    "print(f\"no of reviews {len(reviews_list)}\")\n",
    "\n",
    "print(f\"no of labels {len(labels_list)}\")"
   ],
   "metadata": {
    "pycharm": {
     "name": "#%%\n"
    },
    "id": "9l-ipe2XM37e",
    "colab": {
     "base_uri": "https://localhost:8080/"
    },
    "outputId": "73d6be78-73f6-4463-d540-a05d64e764fd"
   }
  },
  {
   "cell_type": "markdown",
   "source": [
    "-"
   ],
   "metadata": {
    "collapsed": false,
    "pycharm": {
     "name": "#%% md\n"
    },
    "id": "4GbR41UzM37f"
   }
  },
  {
   "cell_type": "code",
   "execution_count": 7,
   "outputs": [],
   "source": [
    "reviews_count_list = []\n",
    "words_counter = Counter(prep_reviews_txt.split())\n",
    "\n",
    "for review in reviews_list:\n",
    "    reviews_count_list.append([len(review)])\n",
    "\n",
    "reviews_cnt_df = pd.DataFrame(reviews_count_list, columns=['review length']).sort_values(ascending=False,\n",
    "                                                                                         by=['review length'])\n",
    "words_cnt_df = pd.DataFrame(words_counter.items(), columns=['word', 'word count']).sort_values(ascending=False,\n",
    "                                                                                               by=['word count'])"
   ],
   "metadata": {
    "pycharm": {
     "name": "#%%\n"
    },
    "id": "MaHzlFdlM37g"
   }
  },
  {
   "cell_type": "markdown",
   "source": [
    "## reviews lengths\n",
    "- knowing the mean of the review lenghth to make it fixed for trainning to be the sequence length for the RNN \n",
    "- after knowing the good fixed length for a review long reviews will be cut from right and short reviews will be padded with zeros from the left"
   ],
   "metadata": {
    "collapsed": false,
    "pycharm": {
     "name": "#%% md\n"
    },
    "id": "O_jF5pCFM37h"
   }
  },
  {
   "cell_type": "code",
   "execution_count": 8,
   "outputs": [
    {
     "data": {
      "text/plain": "       review length\n6378            8796\n34167           8129\n32922           7455\n5878            6701\n27424           6481\n...              ...\n28914             38\n32386             28\n36009             23\n26067             23\n15400             18\n\n[300 rows x 1 columns]",
      "text/html": "<div>\n<style scoped>\n    .dataframe tbody tr th:only-of-type {\n        vertical-align: middle;\n    }\n\n    .dataframe tbody tr th {\n        vertical-align: top;\n    }\n\n    .dataframe thead th {\n        text-align: right;\n    }\n</style>\n<table border=\"1\" class=\"dataframe\">\n  <thead>\n    <tr style=\"text-align: right;\">\n      <th></th>\n      <th>review length</th>\n    </tr>\n  </thead>\n  <tbody>\n    <tr>\n      <th>6378</th>\n      <td>8796</td>\n    </tr>\n    <tr>\n      <th>34167</th>\n      <td>8129</td>\n    </tr>\n    <tr>\n      <th>32922</th>\n      <td>7455</td>\n    </tr>\n    <tr>\n      <th>5878</th>\n      <td>6701</td>\n    </tr>\n    <tr>\n      <th>27424</th>\n      <td>6481</td>\n    </tr>\n    <tr>\n      <th>...</th>\n      <td>...</td>\n    </tr>\n    <tr>\n      <th>28914</th>\n      <td>38</td>\n    </tr>\n    <tr>\n      <th>32386</th>\n      <td>28</td>\n    </tr>\n    <tr>\n      <th>36009</th>\n      <td>23</td>\n    </tr>\n    <tr>\n      <th>26067</th>\n      <td>23</td>\n    </tr>\n    <tr>\n      <th>15400</th>\n      <td>18</td>\n    </tr>\n  </tbody>\n</table>\n<p>300 rows × 1 columns</p>\n</div>"
     },
     "execution_count": 8,
     "metadata": {},
     "output_type": "execute_result"
    }
   ],
   "source": [
    "# get 100 from top and 100 from mid and 100 from tail\n",
    "src.data_preprocessing.get_head_mid_tail(reviews_cnt_df,100)"
   ],
   "metadata": {
    "pycharm": {
     "name": "#%%\n"
    },
    "id": "ZNZ0TckaM37h",
    "outputId": "ff7b987a-53f6-4654-cde3-294172a556bd",
    "colab": {
     "base_uri": "https://localhost:8080/",
     "height": 424
    }
   }
  },
  {
   "cell_type": "code",
   "execution_count": 9,
   "outputs": [
    {
     "data": {
      "text/plain": "       review length\ncount   40000.000000\nmean      843.247250\nstd       638.089633\nmin        18.000000\n25%       451.000000\n50%       625.000000\n75%      1028.250000\nmax      8796.000000",
      "text/html": "<div>\n<style scoped>\n    .dataframe tbody tr th:only-of-type {\n        vertical-align: middle;\n    }\n\n    .dataframe tbody tr th {\n        vertical-align: top;\n    }\n\n    .dataframe thead th {\n        text-align: right;\n    }\n</style>\n<table border=\"1\" class=\"dataframe\">\n  <thead>\n    <tr style=\"text-align: right;\">\n      <th></th>\n      <th>review length</th>\n    </tr>\n  </thead>\n  <tbody>\n    <tr>\n      <th>count</th>\n      <td>40000.000000</td>\n    </tr>\n    <tr>\n      <th>mean</th>\n      <td>843.247250</td>\n    </tr>\n    <tr>\n      <th>std</th>\n      <td>638.089633</td>\n    </tr>\n    <tr>\n      <th>min</th>\n      <td>18.000000</td>\n    </tr>\n    <tr>\n      <th>25%</th>\n      <td>451.000000</td>\n    </tr>\n    <tr>\n      <th>50%</th>\n      <td>625.000000</td>\n    </tr>\n    <tr>\n      <th>75%</th>\n      <td>1028.250000</td>\n    </tr>\n    <tr>\n      <th>max</th>\n      <td>8796.000000</td>\n    </tr>\n  </tbody>\n</table>\n</div>"
     },
     "execution_count": 9,
     "metadata": {},
     "output_type": "execute_result"
    }
   ],
   "source": [
    "reviews_cnt_df.describe()"
   ],
   "metadata": {
    "pycharm": {
     "name": "#%%\n"
    },
    "id": "45xCQpEkM37j",
    "outputId": "2afcf774-b00f-4247-829b-7753666e989f",
    "colab": {
     "base_uri": "https://localhost:8080/",
     "height": 300
    }
   }
  },
  {
   "cell_type": "code",
   "execution_count": 10,
   "outputs": [
    {
     "data": {
      "text/plain": "review length    625.0\ndtype: float64"
     },
     "execution_count": 10,
     "metadata": {},
     "output_type": "execute_result"
    }
   ],
   "source": [
    "reviews_cnt_df.median()"
   ],
   "metadata": {
    "pycharm": {
     "name": "#%%\n"
    },
    "id": "yjy6W7VjM37j",
    "outputId": "0a552e46-b454-4494-a2f0-2995ba8f1279",
    "colab": {
     "base_uri": "https://localhost:8080/"
    }
   }
  },
  {
   "cell_type": "code",
   "execution_count": 11,
   "outputs": [
    {
     "data": {
      "text/plain": "array([[<AxesSubplot:title={'center':'review length'}>]], dtype=object)"
     },
     "execution_count": 11,
     "metadata": {},
     "output_type": "execute_result"
    },
    {
     "data": {
      "text/plain": "<Figure size 1080x576 with 1 Axes>",
      "image/png": "[encoded data removed]"
     },
     "metadata": {
      "needs_background": "light"
     },
     "output_type": "display_data"
    }
   ],
   "source": [
    "reviews_cnt_df.hist(bins=100, figsize=(15, 8))"
   ],
   "metadata": {
    "pycharm": {
     "name": "#%%\n"
    },
    "id": "yPjbRr9kM37k",
    "outputId": "156b2ad2-0f09-4751-a928-fea495cd9401",
    "colab": {
     "base_uri": "https://localhost:8080/",
     "height": 534
    }
   }
  },
  {
   "cell_type": "code",
   "execution_count": 12,
   "outputs": [
    {
     "data": {
      "text/plain": "array([[<AxesSubplot:title={'center':'review length'}>]], dtype=object)"
     },
     "execution_count": 12,
     "metadata": {},
     "output_type": "execute_result"
    },
    {
     "data": {
      "text/plain": "<Figure size 1080x576 with 1 Axes>",
      "image/png": "[encoded data removed]"
     },
     "metadata": {
      "needs_background": "light"
     },
     "output_type": "display_data"
    }
   ],
   "source": [
    "reviews_cnt_df[100:-100].hist(bins=100, figsize=(15, 8))"
   ],
   "metadata": {
    "pycharm": {
     "name": "#%%\n"
    },
    "id": "5arQaCfqM37l",
    "outputId": "3e2663f2-0aa7-4f41-8965-382cb2fe3899",
    "colab": {
     "base_uri": "https://localhost:8080/",
     "height": 534
    }
   }
  },
  {
   "cell_type": "markdown",
   "source": [
    "- Conclusion\n",
    "    - most of the reviews are around 500 word after ignoring 100 from the left and right"
   ],
   "metadata": {
    "collapsed": false,
    "pycharm": {
     "name": "#%% md\n"
    },
    "id": "Vn1Og9qZM37l"
   }
  },
  {
   "cell_type": "markdown",
   "source": [
    "## view words frequencies \n",
    "- view most and average and less words freqencies after preprocessing"
   ],
   "metadata": {
    "id": "cBkBIbkgK98l"
   }
  },
  {
   "cell_type": "code",
   "execution_count": 13,
   "outputs": [
    {
     "data": {
      "text/plain": "                 word  word count\n31              movie       66976\n73               film       59411\n62                his       45522\n130              just       28030\n129                if       26971\n...               ...         ...\n14749           nasal          20\n17479          dealbr          20\n16001  anthropologist          20\n13613      songwriter          20\n16294       sullivans          20\n\n[300 rows x 2 columns]",
      "text/html": "<div>\n<style scoped>\n    .dataframe tbody tr th:only-of-type {\n        vertical-align: middle;\n    }\n\n    .dataframe tbody tr th {\n        vertical-align: top;\n    }\n\n    .dataframe thead th {\n        text-align: right;\n    }\n</style>\n<table border=\"1\" class=\"dataframe\">\n  <thead>\n    <tr style=\"text-align: right;\">\n      <th></th>\n      <th>word</th>\n      <th>word count</th>\n    </tr>\n  </thead>\n  <tbody>\n    <tr>\n      <th>31</th>\n      <td>movie</td>\n      <td>66976</td>\n    </tr>\n    <tr>\n      <th>73</th>\n      <td>film</td>\n      <td>59411</td>\n    </tr>\n    <tr>\n      <th>62</th>\n      <td>his</td>\n      <td>45522</td>\n    </tr>\n    <tr>\n      <th>130</th>\n      <td>just</td>\n      <td>28030</td>\n    </tr>\n    <tr>\n      <th>129</th>\n      <td>if</td>\n      <td>26971</td>\n    </tr>\n    <tr>\n      <th>...</th>\n      <td>...</td>\n      <td>...</td>\n    </tr>\n    <tr>\n      <th>14749</th>\n      <td>nasal</td>\n      <td>20</td>\n    </tr>\n    <tr>\n      <th>17479</th>\n      <td>dealbr</td>\n      <td>20</td>\n    </tr>\n    <tr>\n      <th>16001</th>\n      <td>anthropologist</td>\n      <td>20</td>\n    </tr>\n    <tr>\n      <th>13613</th>\n      <td>songwriter</td>\n      <td>20</td>\n    </tr>\n    <tr>\n      <th>16294</th>\n      <td>sullivans</td>\n      <td>20</td>\n    </tr>\n  </tbody>\n</table>\n<p>300 rows × 2 columns</p>\n</div>"
     },
     "execution_count": 13,
     "metadata": {},
     "output_type": "execute_result"
    }
   ],
   "source": [
    "# get 100 from top and 100 from mid and 100 from tail\n",
    "src.data_preprocessing.get_head_mid_tail(words_cnt_df,100)"
   ],
   "metadata": {
    "pycharm": {
     "name": "#%%\n"
    },
    "id": "bykP3VnAM37m",
    "outputId": "3d3e9cde-e984-4da6-a195-6e27f3cd930d",
    "colab": {
     "base_uri": "https://localhost:8080/"
    }
   }
  },
  {
   "cell_type": "code",
   "execution_count": 14,
   "outputs": [
    {
     "data": {
      "text/plain": "         word count\ncount  17943.000000\nmean     289.239982\nstd     1373.175361\nmin       20.000000\n25%       31.000000\n50%       56.000000\n75%      143.000000\nmax    66976.000000",
      "text/html": "<div>\n<style scoped>\n    .dataframe tbody tr th:only-of-type {\n        vertical-align: middle;\n    }\n\n    .dataframe tbody tr th {\n        vertical-align: top;\n    }\n\n    .dataframe thead th {\n        text-align: right;\n    }\n</style>\n<table border=\"1\" class=\"dataframe\">\n  <thead>\n    <tr style=\"text-align: right;\">\n      <th></th>\n      <th>word count</th>\n    </tr>\n  </thead>\n  <tbody>\n    <tr>\n      <th>count</th>\n      <td>17943.000000</td>\n    </tr>\n    <tr>\n      <th>mean</th>\n      <td>289.239982</td>\n    </tr>\n    <tr>\n      <th>std</th>\n      <td>1373.175361</td>\n    </tr>\n    <tr>\n      <th>min</th>\n      <td>20.000000</td>\n    </tr>\n    <tr>\n      <th>25%</th>\n      <td>31.000000</td>\n    </tr>\n    <tr>\n      <th>50%</th>\n      <td>56.000000</td>\n    </tr>\n    <tr>\n      <th>75%</th>\n      <td>143.000000</td>\n    </tr>\n    <tr>\n      <th>max</th>\n      <td>66976.000000</td>\n    </tr>\n  </tbody>\n</table>\n</div>"
     },
     "execution_count": 14,
     "metadata": {},
     "output_type": "execute_result"
    }
   ],
   "source": [
    "words_cnt_df.describe()"
   ],
   "metadata": {
    "pycharm": {
     "name": "#%%\n"
    },
    "id": "da6DVTYIM37o",
    "outputId": "add6a914-4147-4a23-d731-9baff9d4d207",
    "colab": {
     "base_uri": "https://localhost:8080/"
    }
   }
  },
  {
   "cell_type": "markdown",
   "source": [
    "# split data to train and test\n",
    "- load the reviews.txt and labels.txt , a line seprated movie reviews and thier corresponding lables are (`positive`,`negative`) for positive and negative reviews\n",
    "- split the data to train and test , save them in json file (`train.json`,`test.json`)\n",
    "- each json file contains dict of two keys `reviews` is a list of the reviews and `labels` is a list of the labels for this reviews"
   ],
   "metadata": {
    "collapsed": false,
    "pycharm": {
     "name": "#%% md\n"
    },
    "id": "YSHbjMGvM37p"
   }
  },
  {
   "cell_type": "code",
   "execution_count": 15,
   "outputs": [],
   "source": [
    "with open(os.path.join(prep_dataset_dir, 'reviews.txt'), 'r') as rev_file:\n",
    "    prep_reviews_txt = rev_file.read()\n",
    "with open(os.path.join(prep_dataset_dir, 'labels.txt'), 'r') as labels_file:\n",
    "    prep_labels_txt = labels_file.read()"
   ],
   "metadata": {
    "pycharm": {
     "name": "#%%\n"
    },
    "id": "ToLCT1KZM37p"
   }
  },
  {
   "cell_type": "markdown",
   "source": [
    "## train data test split"
   ],
   "metadata": {
    "collapsed": false,
    "pycharm": {
     "name": "#%% md\n"
    },
    "id": "pggmfVCiM37t"
   }
  },
  {
   "cell_type": "code",
   "execution_count": 16,
   "outputs": [
    {
     "name": "stdout",
     "output_type": "stream",
     "text": [
      "no reviews 40000\n",
      "no labels 40000\n",
      "train size 32000\n",
      "test size 8000\n"
     ]
    }
   ],
   "source": [
    "from sklearn.model_selection import train_test_split\n",
    "all_reviews=prep_reviews_txt.split('\\n')\n",
    "all_labels=prep_labels_txt.split('\\n')\n",
    "non_zero_labels=[]\n",
    "non_zero_rev_list=[]\n",
    "for i in range(len(all_reviews)):\n",
    "  if len(all_reviews[i])>2:\n",
    "    non_zero_rev_list.append(all_reviews[i])\n",
    "    non_zero_labels.append(all_labels[i])\n",
    "\n",
    "all_reviews=non_zero_rev_list\n",
    "all_labels=non_zero_labels\n",
    "print(f\"no reviews {len(all_reviews)}\")\n",
    "print(f\"no labels {len(all_labels)}\")\n",
    "\n",
    "train_reviews,test_reviews,train_labels,test_labels=train_test_split(all_reviews,all_labels,test_size=0.2)\n",
    "# train_reviews,valid_reviews,train_labels,valid_labels=train_test_split(train_reviews,train_labels,test_size=0.2)\n",
    "\n",
    "print(f\"train size {len(train_reviews)}\")\n",
    "# print(f\"valid size {len(valid_reviews)}\")\n",
    "print(f\"test size {len(test_reviews)}\")"
   ],
   "metadata": {
    "pycharm": {
     "name": "#%%\n"
    },
    "id": "JcaZ099ZM37t",
    "outputId": "1de827f6-d8dc-4f8b-a728-c133509e122d",
    "colab": {
     "base_uri": "https://localhost:8080/"
    }
   }
  },
  {
   "cell_type": "code",
   "source": [],
   "metadata": {
    "id": "sHa1nV7O36Xg"
   },
   "execution_count": 16,
   "outputs": []
  },
  {
   "cell_type": "code",
   "execution_count": 17,
   "outputs": [],
   "source": [
    "# save train data and test data in json file \n",
    "\n",
    "train_data_dict={\"reviews\":train_reviews,\"labels\":train_labels}\n",
    "test_data_dict={\"reviews\":test_reviews,\"labels\":test_labels}\n",
    "\n",
    "src.utils.save_json(train_data_dict,os.path.join(prep_dataset_dir,\"train.json\"))\n",
    "src.utils.save_json(test_data_dict,os.path.join(prep_dataset_dir,\"test.json\"))"
   ],
   "metadata": {
    "pycharm": {
     "name": "#%%\n"
    },
    "id": "9oAu9u9_M37u"
   }
  },
  {
   "cell_type": "code",
   "source": [],
   "metadata": {
    "id": "yoGiLDEyPXBh"
   },
   "execution_count": 17,
   "outputs": []
  },
  {
   "cell_type": "markdown",
   "source": [
    "# Train Data Loader\n",
    "- the train loader specifies a fixed length for a review and this will be the LSTM model sequence length\n",
    "- train loader will pad short reviews with zeros from left and trim large reviews from right\n",
    "- the shape of the input will be (batch_size,sequence_size(review length),1 (intValue for the word))"
   ],
   "metadata": {
    "collapsed": false,
    "pycharm": {
     "name": "#%% md\n"
    },
    "id": "8zU-M8jhM37u"
   }
  },
  {
   "cell_type": "code",
   "execution_count": 3,
   "outputs": [
    {
     "data": {
      "text/plain": "['labels.txt',\n 'reviews.txt',\n 'sentiment_analysis',\n 'skipgram',\n 'test.json',\n 'train.json',\n 'word2int.json']"
     },
     "execution_count": 3,
     "metadata": {},
     "output_type": "execute_result"
    }
   ],
   "source": [
    "os.listdir(prep_dataset_dir)"
   ],
   "metadata": {
    "pycharm": {
     "name": "#%%\n"
    },
    "id": "Gwi_1tNfM37u",
    "outputId": "98610a2b-29aa-4c56-e8f5-ed6b62198194",
    "colab": {
     "base_uri": "https://localhost:8080/"
    }
   }
  },
  {
   "cell_type": "code",
   "source": [
    "word2int=src.utils.load_json(os.path.join(prep_dataset_dir,\"word2int.json\"))\n"
   ],
   "metadata": {
    "id": "tB2RDJopPmVL"
   },
   "execution_count": 4,
   "outputs": []
  },
  {
   "cell_type": "code",
   "source": [
    "print(f\"int value for amazing {word2int['amazing']}\")\n",
    "print(f\"int value for good {word2int['good']}\")\n",
    "\n",
    "print(f\"int value for ridiculous {word2int['ridiculous']}\")\n",
    "print(f\"int value for bad {word2int['bad']}\")"
   ],
   "metadata": {
    "colab": {
     "base_uri": "https://localhost:8080/"
    },
    "id": "sc4pqohHPvC7",
    "outputId": "8d00bdea-7b9b-4e93-a1d8-47e406e66111"
   },
   "execution_count": 5,
   "outputs": [
    {
     "name": "stdout",
     "output_type": "stream",
     "text": [
      "int value for amazing 444\n",
      "int value for good 6\n",
      "int value for ridiculous 603\n",
      "int value for bad 39\n"
     ]
    }
   ]
  },
  {
   "cell_type": "code",
   "execution_count": 6,
   "outputs": [],
   "source": [
    "train_data=src.load_json(os.path.join(prep_dataset_dir,\"train.json\"))\n",
    "# valid_data=src.load_json(os.path.join(prep_dataset_dir,\"valid.json\"))\n",
    "test_data=src.load_json(os.path.join(prep_dataset_dir,\"test.json\"))\n"
   ],
   "metadata": {
    "pycharm": {
     "name": "#%%\n"
    },
    "id": "w1M9GW9OM37v"
   }
  },
  {
   "cell_type": "code",
   "execution_count": 6,
   "outputs": [],
   "source": [],
   "metadata": {
    "pycharm": {
     "name": "#%%\n"
    },
    "id": "MUoWAxBPM37v"
   }
  },
  {
   "cell_type": "code",
   "execution_count": 7,
   "outputs": [],
   "source": [
    "import torch\n",
    "def_review_len=500\n",
    "batch_size=512\n",
    "device=\"cuda\" if torch.cuda.is_available() else \"cpu\""
   ],
   "metadata": {
    "pycharm": {
     "name": "#%%\n"
    },
    "id": "61No6i5iM37v"
   }
  },
  {
   "cell_type": "code",
   "execution_count": 8,
   "outputs": [],
   "source": [
    "train_dataloader=src.SentimentAnalysisDataset(train_data['reviews'],train_data['labels'],word2int=word2int,batch_size=batch_size,def_review_len=def_review_len)\n",
    "# valid_dataloader=src.SentimentAnalysisDataset(valid_data['reviews'],valid_data['labels'],word2int=word2int,batch_size=batch_size,def_review_len=def_review_len)\n",
    "test_dataloader=src.SentimentAnalysisDataset(test_data['reviews'],test_data['labels'],word2int=word2int,batch_size=batch_size,def_review_len=def_review_len)"
   ],
   "metadata": {
    "pycharm": {
     "name": "#%%\n"
    },
    "id": "7ROWi7E0M37w"
   }
  },
  {
   "cell_type": "code",
   "execution_count": 9,
   "outputs": [
    {
     "name": "stdout",
     "output_type": "stream",
     "text": [
      "32000\n"
     ]
    }
   ],
   "source": [
    "print(len(train_dataloader.int_rev_list))"
   ],
   "metadata": {
    "pycharm": {
     "name": "#%%\n"
    },
    "id": "HZ_oj-SaM37w",
    "outputId": "9561fe52-4cf1-4673-9c56-b55a4d9bbe75",
    "colab": {
     "base_uri": "https://localhost:8080/"
    }
   }
  },
  {
   "cell_type": "markdown",
   "source": [
    "# Sentiment analysis model\n",
    "- the model takes a review of a fixed length (sequence length) as input and hidden (short term and long term output for the last word in the review ) outputs of the lstm layer\n",
    "- embedding layer outputs the vector representation for each word with embedding size as input-size for LSTM (bach_size,seq_length,embedding_dimension)\n",
    "- output for the sequence of words discarded except the output for the last word which is taken as the review output <br><br>\n",
    "- example for a review length =5 and batch dimension is ignored <br><br>\n",
    "- ![forward_img](./assets/model_forward.JPG)"
   ],
   "metadata": {
    "collapsed": false,
    "pycharm": {
     "name": "#%% md\n"
    },
    "id": "Xts5l8N6M37x"
   }
  },
  {
   "cell_type": "code",
   "source": [
    "# load embbeded from Skipgram model\n",
    "skip_gram_model=src.SkipGram(vocab_size=len(word2int),embedding_size=256).to(device)\n",
    "last_weights=traintracker.latest_weights_path(skip_gram_weights)\n",
    "print(last_weights)\n",
    "state_dict=torch.load(traintracker.latest_weights_path(skip_gram_weights))\n",
    "\n",
    "skip_gram_model.load_state_dict(state_dict)\n",
    "\n",
    "sentiment_model=src.SentimentAnalysis(word2int=word2int,embedding_dim=256,n_layers=2,hidden_nodes=256,embedding_layer=skip_gram_model.input_embedding).to(device)\n",
    "skip_gram_model=None"
   ],
   "metadata": {
    "id": "jcfpJVsqo28f",
    "colab": {
     "base_uri": "https://localhost:8080/"
    },
    "outputId": "804211d5-174c-4307-b67b-d96793544065",
    "pycharm": {
     "is_executing": true
    }
   },
   "execution_count": null,
   "outputs": []
  },
  {
   "cell_type": "code",
   "source": [
    "# load model from saved weights\n",
    "\n",
    "sentiment_model=src.SentimentAnalysis(word2int=word2int,embedding_dim=256,n_layers=2,hidden_nodes=256,dropout_prop=0.6).to(device)\n",
    "latest_weights=traintracker.latest_weights_path(weights_dir)\n",
    "state_dict=torch.load(latest_weights,map_location='cpu')\n",
    "sentiment_model.load_state_dict(state_dict)"
   ],
   "metadata": {
    "id": "BSw09m7wo_ny",
    "colab": {
     "base_uri": "https://localhost:8080/",
     "height": 363
    },
    "outputId": "6f1a1128-a9a7-4978-fa69-0318c79f9a4d"
   },
   "execution_count": 11,
   "outputs": [
    {
     "data": {
      "text/plain": "<All keys matched successfully>"
     },
     "execution_count": 11,
     "metadata": {},
     "output_type": "execute_result"
    }
   ]
  },
  {
   "cell_type": "code",
   "execution_count": null,
   "outputs": [],
   "source": [],
   "metadata": {
    "pycharm": {
     "name": "#%%\n"
    },
    "id": "0bTy7_I1M37x"
   }
  },
  {
   "cell_type": "markdown",
   "source": [
    "# Model training\n",
    "- train method exists in [model_training.py](../src/model_training.py)\n",
    "- the model first load the embedding layer from the skip-gram model\n",
    "- then the training starts with freezing the embedding layer and leaving the LSTM and fc to train for about 20 epochs to get the right weights without updating the embedding layer with learning rate 0.001\n",
    "- then the model trained for another 20 epochs after un-freezing the embedding to make it tailored for the sentiment analysis with small learning rate 0.0001\n",
    "- the model reached accuracy about 90%"
   ],
   "metadata": {
    "collapsed": false,
    "pycharm": {
     "name": "#%% md\n"
    },
    "id": "8ZtZdopYM37y"
   }
  },
  {
   "cell_type": "code",
   "source": [
    "import src.model_training as train\n",
    "reload(train)"
   ],
   "metadata": {
    "colab": {
     "base_uri": "https://localhost:8080/"
    },
    "id": "8dmQnrXHSPmU",
    "outputId": "6b040505-871e-46e5-d19e-1882f4ea84a2"
   },
   "execution_count": 31,
   "outputs": [
    {
     "data": {
      "text/plain": "<module 'src.model_training' from 'D:\\\\2022 acheivments\\\\Projects\\\\DeepLearning NanoDegree\\\\sentiment-analysis-RNN\\\\src\\\\model_training.py'>"
     },
     "execution_count": 31,
     "metadata": {},
     "output_type": "execute_result"
    }
   ]
  },
  {
   "cell_type": "code",
   "execution_count": null,
   "outputs": [],
   "source": [
    "# sentiment_model.lstm.requires_grad_(requires_grad=False)\n",
    "from torch import optim\n",
    "sentiment_model.embedding_layer.requires_grad_(requires_grad=False)\n",
    "optimizer=optim.Adam(sentiment_model.parameters(),lr=0.001)"
   ],
   "metadata": {
    "pycharm": {
     "name": "#%%\n"
    },
    "id": "YtaM6APSM37y"
   }
  },
  {
   "cell_type": "code",
   "source": [
    "latest_weights=traintracker.latest_weights_path(weights_dir)\n",
    "print(latest_weights)\n",
    "\n",
    "state_dict=torch.load(\"/content/drive/MyDrive/projects/sentiment-analysis-RNN/model_weights/sentiment_analysis/12_07 15_41 Train_(0.175) Test_(0.24458).pt\")\n",
    "sentiment_model.load_state_dict(state_dict)"
   ],
   "metadata": {
    "colab": {
     "base_uri": "https://localhost:8080/"
    },
    "id": "McsfE9PiVHl1",
    "outputId": "cfa447eb-42d1-44db-e26f-c821eb6d5947"
   },
   "execution_count": null,
   "outputs": [
    {
     "output_type": "stream",
     "name": "stdout",
     "text": [
      "/content/drive/MyDrive/projects/sentiment-analysis-RNN/model_weights/sentiment_analysis/last_weights.pt\n"
     ]
    },
    {
     "output_type": "execute_result",
     "data": {
      "text/plain": [
       "<All keys matched successfully>"
      ]
     },
     "metadata": {},
     "execution_count": 81
    }
   ]
  },
  {
   "cell_type": "code",
   "execution_count": null,
   "outputs": [],
   "source": [
    "train.sentiment_model_train(sentiment_model,20,train_dataloader,test_dataloader,notes=\"start with skip-gram 2.83 noise 10 window 4\",weights_dir=weights_dir,train_data_dir=train_data_dir,device=device,optimizer=optimizer)"
   ],
   "metadata": {
    "pycharm": {
     "name": "#%%\n",
     "is_executing": true
    },
    "id": "sPejCxrEM37y",
    "outputId": "c41dbfe9-f389-482d-aaa8-92c8bbc2c1b6",
    "colab": {
     "base_uri": "https://localhost:8080/"
    }
   }
  },
  {
   "cell_type": "code",
   "source": [
    "state_dict=torch.load(traintracker.latest_weights_path(weights_dir))\n",
    "sentiment_model.load_state_dict(state_dict)"
   ],
   "metadata": {
    "colab": {
     "base_uri": "https://localhost:8080/",
     "height": 304
    },
    "id": "JzFvJXvZawPq",
    "outputId": "576d6602-696b-4f69-a1eb-bf6bc523df76",
    "pycharm": {
     "is_executing": true
    }
   },
   "execution_count": null,
   "outputs": []
  },
  {
   "cell_type": "code",
   "execution_count": null,
   "outputs": [],
   "source": [
    "sentiment_model.embedding_layer.requires_grad_(requires_grad=True)\n",
    "train.sentiment_model_train(sentiment_model,1,train_dataloader,test_dataloader,notes=\"un freeze embbding layer\",weights_dir=weights_dir,train_data_dir=train_data_dir,device=device,optimizer=optimizer)"
   ],
   "metadata": {
    "pycharm": {
     "name": "#%%\n",
     "is_executing": true
    },
    "id": "rskF4KZXM37z",
    "colab": {
     "base_uri": "https://localhost:8080/"
    },
    "outputId": "61e4f144-6852-471c-8495-f75b26c34de2"
   }
  },
  {
   "cell_type": "code",
   "source": [
    "latest_weights=traintracker.latest_weights_path(weights_dir)\n",
    "state_dict=torch.load(latest_weights)\n",
    "sentiment_model.load_state_dict(state_dict)"
   ],
   "metadata": {
    "colab": {
     "base_uri": "https://localhost:8080/",
     "height": 321
    },
    "id": "8daM93EYPbfG",
    "outputId": "541274f9-c6e0-40a8-8872-5a1eb86757ff",
    "pycharm": {
     "is_executing": true
    }
   },
   "execution_count": null,
   "outputs": []
  },
  {
   "cell_type": "code",
   "execution_count": 78,
   "outputs": [],
   "source": [
    "hyperparameters_hist=pd.read_csv(train_data_dir+'/train_data.csv')\n",
    "epochs_hist=pd.read_csv(train_data_dir+'/epochs_data.csv')"
   ],
   "metadata": {
    "collapsed": false,
    "pycharm": {
     "name": "#%%\n"
    }
   }
  },
  {
   "cell_type": "code",
   "execution_count": 79,
   "outputs": [
    {
     "data": {
      "text/plain": "   epoch idx from                                 model architecture  \\\n0               1  SentimentAnalysis(\\n  (embedding_layer): Embed...   \n1               9  SentimentAnalysis(\\n  (embedding_layer): Embed...   \n2              13  SentimentAnalysis(\\n  (embedding_layer): Embed...   \n3              19  SentimentAnalysis(\\n  (embedding_layer): Embed...   \n4              27  SentimentAnalysis(\\n  (embedding_layer): Embed...   \n\n   batch_size                                          optimizer  \\\n0         256  Adam (\\nParameter Group 0\\n    amsgrad: False\\...   \n1         256  Adam (\\nParameter Group 0\\n    amsgrad: False\\...   \n2         256  Adam (\\nParameter Group 0\\n    amsgrad: False\\...   \n3         256  Adam (\\nParameter Group 0\\n    amsgrad: False\\...   \n4         256  Adam (\\nParameter Group 0\\n    amsgrad: False\\...   \n\n   review length  grad clip                                        notes  \\\n0            500          5  start with skip-gram 3.43 noise 20 window 4   \n1            500          5  start with skip-gram 3.43 noise 20 window 4   \n2            500          5  start with skip-gram 3.43 noise 20 window 4   \n3            500          5  start with skip-gram 3.43 noise 20 window 4   \n4            500          5  start with skip-gram 3.43 noise 20 window 4   \n\n                             changed hyperParameters  \n0  ['model architecture', 'batch_size', 'optimize...  \n1                             ['model architecture']  \n2                             ['model architecture']  \n3                             ['model architecture']  \n4                             ['model architecture']  ",
      "text/html": "<div>\n<style scoped>\n    .dataframe tbody tr th:only-of-type {\n        vertical-align: middle;\n    }\n\n    .dataframe tbody tr th {\n        vertical-align: top;\n    }\n\n    .dataframe thead th {\n        text-align: right;\n    }\n</style>\n<table border=\"1\" class=\"dataframe\">\n  <thead>\n    <tr style=\"text-align: right;\">\n      <th></th>\n      <th>epoch idx from</th>\n      <th>model architecture</th>\n      <th>batch_size</th>\n      <th>optimizer</th>\n      <th>review length</th>\n      <th>grad clip</th>\n      <th>notes</th>\n      <th>changed hyperParameters</th>\n    </tr>\n  </thead>\n  <tbody>\n    <tr>\n      <th>0</th>\n      <td>1</td>\n      <td>SentimentAnalysis(\\n  (embedding_layer): Embed...</td>\n      <td>256</td>\n      <td>Adam (\\nParameter Group 0\\n    amsgrad: False\\...</td>\n      <td>500</td>\n      <td>5</td>\n      <td>start with skip-gram 3.43 noise 20 window 4</td>\n      <td>['model architecture', 'batch_size', 'optimize...</td>\n    </tr>\n    <tr>\n      <th>1</th>\n      <td>9</td>\n      <td>SentimentAnalysis(\\n  (embedding_layer): Embed...</td>\n      <td>256</td>\n      <td>Adam (\\nParameter Group 0\\n    amsgrad: False\\...</td>\n      <td>500</td>\n      <td>5</td>\n      <td>start with skip-gram 3.43 noise 20 window 4</td>\n      <td>['model architecture']</td>\n    </tr>\n    <tr>\n      <th>2</th>\n      <td>13</td>\n      <td>SentimentAnalysis(\\n  (embedding_layer): Embed...</td>\n      <td>256</td>\n      <td>Adam (\\nParameter Group 0\\n    amsgrad: False\\...</td>\n      <td>500</td>\n      <td>5</td>\n      <td>start with skip-gram 3.43 noise 20 window 4</td>\n      <td>['model architecture']</td>\n    </tr>\n    <tr>\n      <th>3</th>\n      <td>19</td>\n      <td>SentimentAnalysis(\\n  (embedding_layer): Embed...</td>\n      <td>256</td>\n      <td>Adam (\\nParameter Group 0\\n    amsgrad: False\\...</td>\n      <td>500</td>\n      <td>5</td>\n      <td>start with skip-gram 3.43 noise 20 window 4</td>\n      <td>['model architecture']</td>\n    </tr>\n    <tr>\n      <th>4</th>\n      <td>27</td>\n      <td>SentimentAnalysis(\\n  (embedding_layer): Embed...</td>\n      <td>256</td>\n      <td>Adam (\\nParameter Group 0\\n    amsgrad: False\\...</td>\n      <td>500</td>\n      <td>5</td>\n      <td>start with skip-gram 3.43 noise 20 window 4</td>\n      <td>['model architecture']</td>\n    </tr>\n  </tbody>\n</table>\n</div>"
     },
     "execution_count": 79,
     "metadata": {},
     "output_type": "execute_result"
    }
   ],
   "source": [
    "hyperparameters_hist.head()"
   ],
   "metadata": {
    "collapsed": false,
    "pycharm": {
     "name": "#%%\n"
    }
   }
  },
  {
   "cell_type": "code",
   "execution_count": 80,
   "outputs": [
    {
     "data": {
      "text/plain": "   Train Loss  no train rows  Test Loss  No test rows  Time taken (M)  \\\n0    0.558425          32000   0.343062          7936            1.36   \n1    0.323052          32000   0.310125          7936            1.33   \n2    0.297753          32000   0.302829          7936            1.38   \n3    0.295758          32000   0.319415          7936            1.38   \n4    0.285818          32000   0.294930          7936            1.38   \n\n        Date      Time  \n0  6/12/2022  12:11:00  \n1  6/12/2022  12:12:00  \n2  6/12/2022  12:12:00  \n3  6/12/2022  12:13:00  \n4  6/12/2022  12:14:00  ",
      "text/html": "<div>\n<style scoped>\n    .dataframe tbody tr th:only-of-type {\n        vertical-align: middle;\n    }\n\n    .dataframe tbody tr th {\n        vertical-align: top;\n    }\n\n    .dataframe thead th {\n        text-align: right;\n    }\n</style>\n<table border=\"1\" class=\"dataframe\">\n  <thead>\n    <tr style=\"text-align: right;\">\n      <th></th>\n      <th>Train Loss</th>\n      <th>no train rows</th>\n      <th>Test Loss</th>\n      <th>No test rows</th>\n      <th>Time taken (M)</th>\n      <th>Date</th>\n      <th>Time</th>\n    </tr>\n  </thead>\n  <tbody>\n    <tr>\n      <th>0</th>\n      <td>0.558425</td>\n      <td>32000</td>\n      <td>0.343062</td>\n      <td>7936</td>\n      <td>1.36</td>\n      <td>6/12/2022</td>\n      <td>12:11:00</td>\n    </tr>\n    <tr>\n      <th>1</th>\n      <td>0.323052</td>\n      <td>32000</td>\n      <td>0.310125</td>\n      <td>7936</td>\n      <td>1.33</td>\n      <td>6/12/2022</td>\n      <td>12:12:00</td>\n    </tr>\n    <tr>\n      <th>2</th>\n      <td>0.297753</td>\n      <td>32000</td>\n      <td>0.302829</td>\n      <td>7936</td>\n      <td>1.38</td>\n      <td>6/12/2022</td>\n      <td>12:12:00</td>\n    </tr>\n    <tr>\n      <th>3</th>\n      <td>0.295758</td>\n      <td>32000</td>\n      <td>0.319415</td>\n      <td>7936</td>\n      <td>1.38</td>\n      <td>6/12/2022</td>\n      <td>12:13:00</td>\n    </tr>\n    <tr>\n      <th>4</th>\n      <td>0.285818</td>\n      <td>32000</td>\n      <td>0.294930</td>\n      <td>7936</td>\n      <td>1.38</td>\n      <td>6/12/2022</td>\n      <td>12:14:00</td>\n    </tr>\n  </tbody>\n</table>\n</div>"
     },
     "execution_count": 80,
     "metadata": {},
     "output_type": "execute_result"
    }
   ],
   "source": [
    "epochs_hist.head()"
   ],
   "metadata": {
    "collapsed": false,
    "pycharm": {
     "name": "#%%\n"
    }
   }
  },
  {
   "cell_type": "markdown",
   "source": [
    "- the best result came with the last 4 intervals of training after training skip-gram model with 256 embedding dimension and remove text that doesn't affect the review context\n",
    "- starting with skip-gram model with loss 2.84 with window size around  word 4 and noise output size for each word 10 words\n",
    "- the model first trained 20 epochs with freezing the embedding layer and then the full model trained  6 epochs with a learning rate decreased from 0.001 to 0.0001"
   ],
   "metadata": {
    "collapsed": false,
    "pycharm": {
     "name": "#%% md\n"
    }
   }
  },
  {
   "cell_type": "code",
   "execution_count": 81,
   "outputs": [
    {
     "data": {
      "text/plain": "    epoch idx from                                 model architecture  \\\n20             156  SentimentAnalysis(\\n  (embedding_layer): Embed...   \n21             176  SentimentAnalysis(\\n  (embedding_layer): Embed...   \n22             177  SentimentAnalysis(\\n  (embedding_layer): Embed...   \n\n    batch_size                                          optimizer  \\\n20         512  Adam (\\nParameter Group 0\\n    amsgrad: False\\...   \n21         512  Adam (\\nParameter Group 0\\n    amsgrad: False\\...   \n22         512  Adam (\\nParameter Group 0\\n    amsgrad: False\\...   \n\n    review length  grad clip                                        notes  \\\n20            500          5  start with skip-gram 2.84 noise 10 window 4   \n21            500          5                     un freeze embbding layer   \n22            500          5                     un freeze embbding layer   \n\n            changed hyperParameters  \n20  ['model architecture', 'notes']  \n21                        ['notes']  \n22                    ['optimizer']  ",
      "text/html": "<div>\n<style scoped>\n    .dataframe tbody tr th:only-of-type {\n        vertical-align: middle;\n    }\n\n    .dataframe tbody tr th {\n        vertical-align: top;\n    }\n\n    .dataframe thead th {\n        text-align: right;\n    }\n</style>\n<table border=\"1\" class=\"dataframe\">\n  <thead>\n    <tr style=\"text-align: right;\">\n      <th></th>\n      <th>epoch idx from</th>\n      <th>model architecture</th>\n      <th>batch_size</th>\n      <th>optimizer</th>\n      <th>review length</th>\n      <th>grad clip</th>\n      <th>notes</th>\n      <th>changed hyperParameters</th>\n    </tr>\n  </thead>\n  <tbody>\n    <tr>\n      <th>20</th>\n      <td>156</td>\n      <td>SentimentAnalysis(\\n  (embedding_layer): Embed...</td>\n      <td>512</td>\n      <td>Adam (\\nParameter Group 0\\n    amsgrad: False\\...</td>\n      <td>500</td>\n      <td>5</td>\n      <td>start with skip-gram 2.84 noise 10 window 4</td>\n      <td>['model architecture', 'notes']</td>\n    </tr>\n    <tr>\n      <th>21</th>\n      <td>176</td>\n      <td>SentimentAnalysis(\\n  (embedding_layer): Embed...</td>\n      <td>512</td>\n      <td>Adam (\\nParameter Group 0\\n    amsgrad: False\\...</td>\n      <td>500</td>\n      <td>5</td>\n      <td>un freeze embbding layer</td>\n      <td>['notes']</td>\n    </tr>\n    <tr>\n      <th>22</th>\n      <td>177</td>\n      <td>SentimentAnalysis(\\n  (embedding_layer): Embed...</td>\n      <td>512</td>\n      <td>Adam (\\nParameter Group 0\\n    amsgrad: False\\...</td>\n      <td>500</td>\n      <td>5</td>\n      <td>un freeze embbding layer</td>\n      <td>['optimizer']</td>\n    </tr>\n  </tbody>\n</table>\n</div>"
     },
     "execution_count": 81,
     "metadata": {},
     "output_type": "execute_result"
    }
   ],
   "source": [
    "hyperparameters_hist[-3:]"
   ],
   "metadata": {
    "collapsed": false,
    "pycharm": {
     "name": "#%%\n"
    }
   }
  },
  {
   "cell_type": "code",
   "execution_count": 82,
   "outputs": [
    {
     "data": {
      "text/plain": "     Train Loss  no train rows  Test Loss  No test rows  Time taken (M)  \\\n156    0.407674          31744   0.399347          7680            1.30   \n157    0.379864          31744   0.374632          7680            1.34   \n158    0.380238          31744   0.379936          7680            1.30   \n159    0.343455          31744   0.317049          7680            1.32   \n160    0.322637          31744   0.330400          7680            1.32   \n161    0.328207          31744   0.306236          7680            1.32   \n162    0.281549          31744   0.288165          7680            1.34   \n163    0.269618          31744   0.297496          7680            1.34   \n164    0.284772          31744   0.307462          7680            1.34   \n165    0.290681          31744   0.293288          7680            1.34   \n166    0.268971          31744   0.275520          7680            1.32   \n167    0.247010          31744   0.266745          7680            1.34   \n168    0.242315          31744   0.262555          7680            1.32   \n169    0.234889          31744   0.261014          7680            1.30   \n170    0.223460          31744   0.255324          7680            1.32   \n171    0.217937          31744   0.255231          7680            1.34   \n172    0.207460          31744   0.253467          7680            1.32   \n173    0.204570          31744   0.271019          7680            1.30   \n174    0.202653          31744   0.276715          7680            1.30   \n175    0.198998          31744   0.234855          7680            1.41   \n176    0.187397          31744   0.246708          7680            1.42   \n177    0.175003          31744   0.244583          7680            1.32   \n178    0.165720          31744   0.244694          7680            1.34   \n179    0.155743          31744   0.249349          7680            1.32   \n180    0.165899          31744   0.243561          7680            1.40   \n\n          Date      Time  \n156  7/12/2022  15:22:00  \n157  7/12/2022  15:23:00  \n158  7/12/2022  15:23:00  \n159  7/12/2022  15:24:00  \n160  7/12/2022  15:25:00  \n161  7/12/2022  15:25:00  \n162  7/12/2022  15:26:00  \n163  7/12/2022  15:27:00  \n164  7/12/2022  15:27:00  \n165  7/12/2022  15:28:00  \n166  7/12/2022  15:29:00  \n167  7/12/2022  15:29:00  \n168  7/12/2022  15:30:00  \n169  7/12/2022  15:31:00  \n170  7/12/2022  15:31:00  \n171  7/12/2022  15:32:00  \n172  7/12/2022  15:33:00  \n173  7/12/2022  15:33:00  \n174  7/12/2022  15:34:00  \n175  7/12/2022  15:35:00  \n176  7/12/2022  15:41:00  \n177  7/12/2022  15:41:00  \n178  7/12/2022  15:42:00  \n179  7/12/2022  15:43:00  \n180  7/12/2022  15:46:00  ",
      "text/html": "<div>\n<style scoped>\n    .dataframe tbody tr th:only-of-type {\n        vertical-align: middle;\n    }\n\n    .dataframe tbody tr th {\n        vertical-align: top;\n    }\n\n    .dataframe thead th {\n        text-align: right;\n    }\n</style>\n<table border=\"1\" class=\"dataframe\">\n  <thead>\n    <tr style=\"text-align: right;\">\n      <th></th>\n      <th>Train Loss</th>\n      <th>no train rows</th>\n      <th>Test Loss</th>\n      <th>No test rows</th>\n      <th>Time taken (M)</th>\n      <th>Date</th>\n      <th>Time</th>\n    </tr>\n  </thead>\n  <tbody>\n    <tr>\n      <th>156</th>\n      <td>0.407674</td>\n      <td>31744</td>\n      <td>0.399347</td>\n      <td>7680</td>\n      <td>1.30</td>\n      <td>7/12/2022</td>\n      <td>15:22:00</td>\n    </tr>\n    <tr>\n      <th>157</th>\n      <td>0.379864</td>\n      <td>31744</td>\n      <td>0.374632</td>\n      <td>7680</td>\n      <td>1.34</td>\n      <td>7/12/2022</td>\n      <td>15:23:00</td>\n    </tr>\n    <tr>\n      <th>158</th>\n      <td>0.380238</td>\n      <td>31744</td>\n      <td>0.379936</td>\n      <td>7680</td>\n      <td>1.30</td>\n      <td>7/12/2022</td>\n      <td>15:23:00</td>\n    </tr>\n    <tr>\n      <th>159</th>\n      <td>0.343455</td>\n      <td>31744</td>\n      <td>0.317049</td>\n      <td>7680</td>\n      <td>1.32</td>\n      <td>7/12/2022</td>\n      <td>15:24:00</td>\n    </tr>\n    <tr>\n      <th>160</th>\n      <td>0.322637</td>\n      <td>31744</td>\n      <td>0.330400</td>\n      <td>7680</td>\n      <td>1.32</td>\n      <td>7/12/2022</td>\n      <td>15:25:00</td>\n    </tr>\n    <tr>\n      <th>161</th>\n      <td>0.328207</td>\n      <td>31744</td>\n      <td>0.306236</td>\n      <td>7680</td>\n      <td>1.32</td>\n      <td>7/12/2022</td>\n      <td>15:25:00</td>\n    </tr>\n    <tr>\n      <th>162</th>\n      <td>0.281549</td>\n      <td>31744</td>\n      <td>0.288165</td>\n      <td>7680</td>\n      <td>1.34</td>\n      <td>7/12/2022</td>\n      <td>15:26:00</td>\n    </tr>\n    <tr>\n      <th>163</th>\n      <td>0.269618</td>\n      <td>31744</td>\n      <td>0.297496</td>\n      <td>7680</td>\n      <td>1.34</td>\n      <td>7/12/2022</td>\n      <td>15:27:00</td>\n    </tr>\n    <tr>\n      <th>164</th>\n      <td>0.284772</td>\n      <td>31744</td>\n      <td>0.307462</td>\n      <td>7680</td>\n      <td>1.34</td>\n      <td>7/12/2022</td>\n      <td>15:27:00</td>\n    </tr>\n    <tr>\n      <th>165</th>\n      <td>0.290681</td>\n      <td>31744</td>\n      <td>0.293288</td>\n      <td>7680</td>\n      <td>1.34</td>\n      <td>7/12/2022</td>\n      <td>15:28:00</td>\n    </tr>\n    <tr>\n      <th>166</th>\n      <td>0.268971</td>\n      <td>31744</td>\n      <td>0.275520</td>\n      <td>7680</td>\n      <td>1.32</td>\n      <td>7/12/2022</td>\n      <td>15:29:00</td>\n    </tr>\n    <tr>\n      <th>167</th>\n      <td>0.247010</td>\n      <td>31744</td>\n      <td>0.266745</td>\n      <td>7680</td>\n      <td>1.34</td>\n      <td>7/12/2022</td>\n      <td>15:29:00</td>\n    </tr>\n    <tr>\n      <th>168</th>\n      <td>0.242315</td>\n      <td>31744</td>\n      <td>0.262555</td>\n      <td>7680</td>\n      <td>1.32</td>\n      <td>7/12/2022</td>\n      <td>15:30:00</td>\n    </tr>\n    <tr>\n      <th>169</th>\n      <td>0.234889</td>\n      <td>31744</td>\n      <td>0.261014</td>\n      <td>7680</td>\n      <td>1.30</td>\n      <td>7/12/2022</td>\n      <td>15:31:00</td>\n    </tr>\n    <tr>\n      <th>170</th>\n      <td>0.223460</td>\n      <td>31744</td>\n      <td>0.255324</td>\n      <td>7680</td>\n      <td>1.32</td>\n      <td>7/12/2022</td>\n      <td>15:31:00</td>\n    </tr>\n    <tr>\n      <th>171</th>\n      <td>0.217937</td>\n      <td>31744</td>\n      <td>0.255231</td>\n      <td>7680</td>\n      <td>1.34</td>\n      <td>7/12/2022</td>\n      <td>15:32:00</td>\n    </tr>\n    <tr>\n      <th>172</th>\n      <td>0.207460</td>\n      <td>31744</td>\n      <td>0.253467</td>\n      <td>7680</td>\n      <td>1.32</td>\n      <td>7/12/2022</td>\n      <td>15:33:00</td>\n    </tr>\n    <tr>\n      <th>173</th>\n      <td>0.204570</td>\n      <td>31744</td>\n      <td>0.271019</td>\n      <td>7680</td>\n      <td>1.30</td>\n      <td>7/12/2022</td>\n      <td>15:33:00</td>\n    </tr>\n    <tr>\n      <th>174</th>\n      <td>0.202653</td>\n      <td>31744</td>\n      <td>0.276715</td>\n      <td>7680</td>\n      <td>1.30</td>\n      <td>7/12/2022</td>\n      <td>15:34:00</td>\n    </tr>\n    <tr>\n      <th>175</th>\n      <td>0.198998</td>\n      <td>31744</td>\n      <td>0.234855</td>\n      <td>7680</td>\n      <td>1.41</td>\n      <td>7/12/2022</td>\n      <td>15:35:00</td>\n    </tr>\n    <tr>\n      <th>176</th>\n      <td>0.187397</td>\n      <td>31744</td>\n      <td>0.246708</td>\n      <td>7680</td>\n      <td>1.42</td>\n      <td>7/12/2022</td>\n      <td>15:41:00</td>\n    </tr>\n    <tr>\n      <th>177</th>\n      <td>0.175003</td>\n      <td>31744</td>\n      <td>0.244583</td>\n      <td>7680</td>\n      <td>1.32</td>\n      <td>7/12/2022</td>\n      <td>15:41:00</td>\n    </tr>\n    <tr>\n      <th>178</th>\n      <td>0.165720</td>\n      <td>31744</td>\n      <td>0.244694</td>\n      <td>7680</td>\n      <td>1.34</td>\n      <td>7/12/2022</td>\n      <td>15:42:00</td>\n    </tr>\n    <tr>\n      <th>179</th>\n      <td>0.155743</td>\n      <td>31744</td>\n      <td>0.249349</td>\n      <td>7680</td>\n      <td>1.32</td>\n      <td>7/12/2022</td>\n      <td>15:43:00</td>\n    </tr>\n    <tr>\n      <th>180</th>\n      <td>0.165899</td>\n      <td>31744</td>\n      <td>0.243561</td>\n      <td>7680</td>\n      <td>1.40</td>\n      <td>7/12/2022</td>\n      <td>15:46:00</td>\n    </tr>\n  </tbody>\n</table>\n</div>"
     },
     "execution_count": 82,
     "metadata": {},
     "output_type": "execute_result"
    }
   ],
   "source": [
    "epochs_hist[156:]"
   ],
   "metadata": {
    "collapsed": false,
    "pycharm": {
     "name": "#%%\n"
    }
   }
  },
  {
   "cell_type": "code",
   "execution_count": 83,
   "outputs": [
    {
     "data": {
      "text/plain": "<AxesSubplot:>"
     },
     "execution_count": 83,
     "metadata": {},
     "output_type": "execute_result"
    },
    {
     "data": {
      "text/plain": "<Figure size 432x288 with 1 Axes>",
      "image/png": "[encoded data removed]"
     },
     "metadata": {
      "needs_background": "light"
     },
     "output_type": "display_data"
    }
   ],
   "source": [
    "epochs_hist[156:].plot(y=['Train Loss','Test Loss'])"
   ],
   "metadata": {
    "collapsed": false,
    "pycharm": {
     "name": "#%%\n"
    }
   }
  },
  {
   "cell_type": "markdown",
   "source": [
    "# Model perfromance"
   ],
   "metadata": {
    "pycharm": {
     "name": "#%% md\n"
    },
    "id": "PZ5k1gIpM37z"
   }
  },
  {
   "cell_type": "code",
   "execution_count": null,
   "outputs": [],
   "source": [],
   "metadata": {
    "collapsed": false,
    "pycharm": {
     "name": "#%%\n"
    }
   }
  },
  {
   "cell_type": "code",
   "execution_count": 19,
   "outputs": [],
   "source": [
    "threshold=0.50\n",
    "sentiment_model.eval()\n",
    "actual_values=[]\n",
    "predicted_values=[]\n",
    "with torch.no_grad():\n",
    "  hidden=None\n",
    "  for batch_x,actual_out in test_dataloader:\n",
    "\n",
    "    actual_values.extend(torch.flatten(actual_out==1).tolist())\n",
    "\n",
    "    batch_x, actual_out = batch_x.to(device), actual_out.to(device)\n",
    "\n",
    "    # shape --> (batch_size,1)\n",
    "\n",
    "\n",
    "    pred_out,hidden=sentiment_model(batch_x,hidden)\n",
    "\n",
    "    pred_out=pred_out>threshold\n",
    "\n",
    "    predicted_values.extend(torch.flatten(pred_out).to('cpu').tolist())\n",
    "\n"
   ],
   "metadata": {
    "pycharm": {
     "name": "#%%\n"
    },
    "id": "jVUkWALSM37z"
   }
  },
  {
   "cell_type": "code",
   "execution_count": 31,
   "outputs": [],
   "source": [
    "from sklearn.metrics import confusion_matrix,recall_score,precision_score,f1_score,accuracy_score\n",
    "\n",
    "conf_matrix=confusion_matrix(actual_values,predicted_values)\n",
    "model_score_list=[['accuracy_score',accuracy_score(actual_values,predicted_values)],\n",
    "                  ['recall_score',recall_score(actual_values,predicted_values)],\n",
    "                  ['precision_score',precision_score(actual_values,predicted_values)],\n",
    "                  ['f1_score',f1_score(actual_values,predicted_values)]\n",
    "                  ]\n",
    "model_score_df=pd.DataFrame(model_score_list,columns=['metric','score'])\n",
    "\n",
    "conf_matrix_df=pd.DataFrame(conf_matrix,index=['Actual (P)','Actual (N)'],columns=['Predicted (P)','Predicted (N)'])\n",
    "\n"
   ],
   "metadata": {
    "collapsed": false,
    "pycharm": {
     "name": "#%%\n"
    }
   }
  },
  {
   "cell_type": "code",
   "execution_count": 28,
   "outputs": [
    {
     "data": {
      "text/plain": "               Actual (P)  Actual (N)\nPredicted (P)        3434         353\nPredicted (N)         297        3596",
      "text/html": "<div>\n<style scoped>\n    .dataframe tbody tr th:only-of-type {\n        vertical-align: middle;\n    }\n\n    .dataframe tbody tr th {\n        vertical-align: top;\n    }\n\n    .dataframe thead th {\n        text-align: right;\n    }\n</style>\n<table border=\"1\" class=\"dataframe\">\n  <thead>\n    <tr style=\"text-align: right;\">\n      <th></th>\n      <th>Actual (P)</th>\n      <th>Actual (N)</th>\n    </tr>\n  </thead>\n  <tbody>\n    <tr>\n      <th>Predicted (P)</th>\n      <td>3434</td>\n      <td>353</td>\n    </tr>\n    <tr>\n      <th>Predicted (N)</th>\n      <td>297</td>\n      <td>3596</td>\n    </tr>\n  </tbody>\n</table>\n</div>"
     },
     "execution_count": 28,
     "metadata": {},
     "output_type": "execute_result"
    }
   ],
   "source": [
    "conf_matrix_df"
   ],
   "metadata": {
    "collapsed": false,
    "pycharm": {
     "name": "#%%\n"
    }
   }
  },
  {
   "cell_type": "code",
   "source": [
    "model_score_df"
   ],
   "metadata": {
    "colab": {
     "base_uri": "https://localhost:8080/"
    },
    "id": "NCvOMB5yMEtn",
    "outputId": "ead68662-e01a-49a1-804b-e37d151d3a3c"
   },
   "execution_count": 32,
   "outputs": [
    {
     "data": {
      "text/plain": "            metric     score\n0   accuracy_score  0.915365\n1     recall_score  0.923709\n2  precision_score  0.910610\n3         f1_score  0.917113",
      "text/html": "<div>\n<style scoped>\n    .dataframe tbody tr th:only-of-type {\n        vertical-align: middle;\n    }\n\n    .dataframe tbody tr th {\n        vertical-align: top;\n    }\n\n    .dataframe thead th {\n        text-align: right;\n    }\n</style>\n<table border=\"1\" class=\"dataframe\">\n  <thead>\n    <tr style=\"text-align: right;\">\n      <th></th>\n      <th>metric</th>\n      <th>score</th>\n    </tr>\n  </thead>\n  <tbody>\n    <tr>\n      <th>0</th>\n      <td>accuracy_score</td>\n      <td>0.915365</td>\n    </tr>\n    <tr>\n      <th>1</th>\n      <td>recall_score</td>\n      <td>0.923709</td>\n    </tr>\n    <tr>\n      <th>2</th>\n      <td>precision_score</td>\n      <td>0.910610</td>\n    </tr>\n    <tr>\n      <th>3</th>\n      <td>f1_score</td>\n      <td>0.917113</td>\n    </tr>\n  </tbody>\n</table>\n</div>"
     },
     "execution_count": 32,
     "metadata": {},
     "output_type": "execute_result"
    }
   ]
  },
  {
   "cell_type": "code",
   "source": [],
   "metadata": {
    "id": "ADCAdANSR-uZ"
   },
   "execution_count": null,
   "outputs": []
  },
  {
   "cell_type": "markdown",
   "source": [
    "# Model usage"
   ],
   "metadata": {
    "collapsed": false,
    "pycharm": {
     "name": "#%% md\n"
    }
   }
  },
  {
   "cell_type": "code",
   "execution_count": 7,
   "outputs": [],
   "source": [
    "from src import sentiment_analyisis\n",
    "import random\n",
    "\n",
    "\n",
    "# load model for prediction first\n",
    "sentiment_analyisis.load_model()\n",
    "threshold=0.5\n",
    "n_samples=5"
   ],
   "metadata": {
    "collapsed": false,
    "pycharm": {
     "name": "#%%\n"
    }
   }
  },
  {
   "cell_type": "code",
   "execution_count": 8,
   "outputs": [],
   "source": [
    "import os\n",
    "# load raw not preprocessed reviews\n",
    "with open(os.path.join(raw_dataset_dir, 'reviews.txt'), 'r',encoding='utf-8') as rev_file:\n",
    "    raw_reviews_txt = rev_file.read()\n",
    "with open(os.path.join(raw_dataset_dir, 'labels.txt'), 'r',encoding='utf-8') as labels_file:\n",
    "    raw_labels_txt = labels_file.read()\n",
    "\n",
    "\n",
    "reviews_list = raw_reviews_txt.split('\\n')\n",
    "labels_list = raw_labels_txt.split('\\n')"
   ],
   "metadata": {
    "collapsed": false,
    "pycharm": {
     "name": "#%%\n"
    }
   }
  },
  {
   "cell_type": "code",
   "execution_count": 9,
   "outputs": [
    {
     "name": "stdout",
     "output_type": "stream",
     "text": [
      "This is one of those movies that's difficult to review without giving away the plot. Suffice to say there are weird things and unexpected twists going on, beyond the initial superficial \"Tom Cruise screws around with multiple women\" plot.<br /><br />The quality cast elevate this movie above the norm, and all the cast are well suited to their parts: Cruise as the irritatingly smug playboy who has it all - and then loses it all, Diaz as the attractive but slightly deranged jilted lover, Cruz as the exotic new girl on the scene and Russell as the fatherly psychologist. The story involves elements of romance, morality, murder-mystery, suspense and sci-fi and is generally an entertaining trip.<br /><br />I should add that the photography is also uniformly excellent and the insertion of various visual metaphors is beautiful once you realize what's going on.<br /><br />If you enjoy well-acted movies with twists and suspense, and are prepared to accept a slightly fantastic Philip K Dick style resolution, then this is a must-see. <br /><br />9/10\n",
      "\n",
      "actual label:positive\n",
      "predicted probability:0.997882068157196\n",
      "predicted label:positive\n",
      "\n",
      "Somehow, this documentary about Miles manages to include very little music and no complete tunes. Though Miles appears in the film, 95% of the interviews are other folks, not Miles. There are huge chronological gaps, many aspects of his life (his childhood prodigy, his drug addiction) are skipped or glossed over, and you'll learn little about what made the man and his contribution to music so groundbreaking. Skip it.\n",
      "\n",
      "actual label:negative\n",
      "predicted probability:0.220807746052742\n",
      "predicted label:negative\n",
      "\n",
      "Wayne Wang's direction may be the ingredient which made this film much more impressive to me than \"Slums of Beverly Hills\", which covers remarkably similar ground. The interplay between Susan Sarandon and Natalie Portman is riveting. Real chemistry there. This film succeeded in bringing me inside the dysfunctional life of these two women without dragging me down into depressed frustration. Susan Sarandon's character hammers at all the nerves which a narcissistic parent is capable of touching in an insecure adolescent. She amazingly manages to do this without coming across as floridly insane or intentionally sadistic. And, Natalie Portman deflects each attack on her character's ego with the resigned grace of an intelligent codependent child, untainted by the smug cynicism of the Natasha Lyonne character in \"Slums of Beverly Hills\". Portman's character is an adolescent with dignity under stress, an unusual creature in modern films. The film reaches a very satisfying resolution without trying too hard. I highly recommend this film to the viewer who wants to be challenged and entertained.\n",
      "\n",
      "actual label:positive\n",
      "predicted probability:0.9918726086616516\n",
      "predicted label:positive\n",
      "\n",
      "This film, originally released at Christmas, 1940, was long thought lost. A very poor copy has resurfaced and made into a CD, now for sale. Don't buy it! The film is unspeakably terrible. The casting is poor, the script is awful, and the directing is dreadful.<br /><br />Picture Roland Young singing and dancing. And that was the highlight.<br /><br />Perhaps this movie was lost deliberately.\n",
      "\n",
      "actual label:negative\n",
      "predicted probability:0.008642204105854034\n",
      "predicted label:negative\n",
      "\n",
      "Okay, I'll admit the casting in the film is REALLY strange--part of this is due to the plot, but I still had a bit of trouble believing Pierce Brosnan playing this lead (though he really did a pretty good job).<br /><br />It's based on a true story of an Englishman who went to live with the Canadian Indians in the early 20th century. He claimed to be a mixed blood Indian. He was, in fact, so successful and well thought of that people came from all over to hear his lectures and be taken on his wilderness treks--even though he was not a mixed blood Indian and all his knowledge was from books or faked! The movie centers on this and what occurred when the hoax was uncovered.<br /><br />The acting and settings were great and I really liked the film (once I suspended disbelief about Brosnan). It didn't get widespread distribution--probably because it was pretty cerebral--not a Bond film nor a romance--just a really odd film about a remarkable man.\n",
      "\n",
      "actual label:positive\n",
      "predicted probability:0.8889216780662537\n",
      "predicted label:positive\n",
      "\n"
     ]
    }
   ],
   "source": [
    "for i in range(n_samples):\n",
    "    rand_rev_idx=random.randint(0,len(reviews_list))\n",
    "\n",
    "    print(reviews_list[rand_rev_idx])\n",
    "    print()\n",
    "    print(f\"actual label:{labels_list[rand_rev_idx]}\")\n",
    "\n",
    "    predicted_probability=sentiment_analyisis.predict(reviews_list[rand_rev_idx])\n",
    "\n",
    "    print(f\"predicted probability:{predicted_probability}\")\n",
    "    print(f\"predicted label:{'positive' if predicted_probability>=threshold else 'negative'}\")\n",
    "    print()"
   ],
   "metadata": {
    "collapsed": false,
    "pycharm": {
     "name": "#%%\n"
    }
   }
  },
  {
   "cell_type": "code",
   "execution_count": null,
   "outputs": [],
   "source": [],
   "metadata": {
    "collapsed": false,
    "pycharm": {
     "name": "#%%\n"
    }
   }
  }
 ],
 "metadata": {
  "kernelspec": {
   "display_name": "Python 3",
   "language": "python",
   "name": "python3"
  },
  "language_info": {
   "codemirror_mode": {
    "name": "ipython",
    "version": 2
   },
   "file_extension": ".py",
   "mimetype": "text/x-python",
   "name": "python",
   "nbconvert_exporter": "python",
   "pygments_lexer": "ipython2",
   "version": "2.7.6"
  },
  "colab": {
   "provenance": [],
   "toc_visible": true
  },
  "gpuClass": "standard",
  "accelerator": "GPU"
 },
 "nbformat": 4,
 "nbformat_minor": 0
}