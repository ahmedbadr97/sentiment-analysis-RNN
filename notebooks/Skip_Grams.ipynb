{
 "cells": [
  {
   "cell_type": "markdown",
   "metadata": {
    "collapsed": true,
    "pycharm": {
     "name": "#%% md\n"
    }
   },
   "source": [
    "# Introduction\n",
    "In this notebook, I'll  implement the [Word2Vec algorithm](https://en.wikipedia.org/wiki/Word2vec) using the skip-gram architecture as a starter step for sentiment analysis creating first the words embeddings then use these embeddings for sentiment analysis"
   ]
  },
  {
   "cell_type": "code",
   "execution_count": 5,
   "outputs": [],
   "source": [
    "# Define Constants and imports\n",
    "import os\n",
    "from collections import Counter\n",
    "import matplotlib.pyplot as plt\n",
    "import pandas as pd\n",
    "from string import punctuation\n",
    "import src\n",
    "from importlib import reload\n",
    "\n",
    "reload(src)\n",
    "\n",
    "raw_dataset_dir = \"../dataset/raw\"\n",
    "prep_dataset_dir = \"../dataset/preprocessed/skipgram\""
   ],
   "metadata": {
    "collapsed": false,
    "pycharm": {
     "name": "#%%\n"
    }
   }
  },
  {
   "cell_type": "code",
   "execution_count": 2,
   "outputs": [
    {
     "data": {
      "text/plain": "0.04777781983362106"
     },
     "execution_count": 2,
     "metadata": {},
     "output_type": "execute_result"
    }
   ],
   "source": [
    "import random\n",
    "\n",
    "random.random()"
   ],
   "metadata": {
    "collapsed": false,
    "pycharm": {
     "name": "#%%\n"
    }
   }
  },
  {
   "cell_type": "markdown",
   "source": [
    "# Data Loading\n",
    "- load and view the reviews dataset"
   ],
   "metadata": {
    "collapsed": false,
    "pycharm": {
     "name": "#%% md\n"
    }
   }
  },
  {
   "cell_type": "code",
   "execution_count": 3,
   "outputs": [
    {
     "data": {
      "text/plain": "['labels.txt', 'reviews.txt', 'text8']"
     },
     "execution_count": 3,
     "metadata": {},
     "output_type": "execute_result"
    }
   ],
   "source": [
    "os.listdir(raw_dataset_dir)"
   ],
   "metadata": {
    "collapsed": false,
    "pycharm": {
     "name": "#%%\n"
    }
   }
  },
  {
   "cell_type": "code",
   "execution_count": 4,
   "outputs": [],
   "source": [
    "with open(os.path.join(raw_dataset_dir, \"reviews.txt\"), 'r') as reviews_file:\n",
    "    raw_reviews_txt = reviews_file.read()\n",
    "\n",
    "with open(os.path.join(raw_dataset_dir, \"labels.txt\"), 'r') as labels_file:\n",
    "    raw_labels_txt = labels_file.read()"
   ],
   "metadata": {
    "collapsed": false,
    "pycharm": {
     "name": "#%%\n"
    }
   }
  },
  {
   "cell_type": "code",
   "source": [
    "print(raw_reviews_txt[:1000])\n",
    "print(raw_labels_txt[:100])"
   ],
   "metadata": {
    "collapsed": false,
    "pycharm": {
     "name": "#%%\n",
     "is_executing": true
    }
   },
   "execution_count": null,
   "outputs": []
  },
  {
   "cell_type": "markdown",
   "source": [
    "- reviews are line separated and the reviews also"
   ],
   "metadata": {
    "collapsed": false
   }
  },
  {
   "cell_type": "code",
   "execution_count": null,
   "outputs": [],
   "source": [
    "# Note here the last index will be empty line so iam taking from 0 to n-1\n",
    "reviews_list = raw_reviews_txt.split('\\n')[:-1]\n",
    "labels_list = raw_labels_txt.split('\\n')[:-1]"
   ],
   "metadata": {
    "collapsed": false,
    "pycharm": {
     "name": "#%%\n",
     "is_executing": true
    }
   }
  },
  {
   "cell_type": "code",
   "execution_count": null,
   "outputs": [],
   "source": [
    "print(f\"No Reviews:{len(reviews_list)}\")\n",
    "print(f\"No Labels:{len(labels_list)}\")"
   ],
   "metadata": {
    "collapsed": false,
    "pycharm": {
     "name": "#%%\n",
     "is_executing": true
    }
   }
  },
  {
   "cell_type": "code",
   "execution_count": null,
   "outputs": [],
   "source": [
    "words_counter = Counter(raw_reviews_txt.split())\n"
   ],
   "metadata": {
    "collapsed": false,
    "pycharm": {
     "name": "#%%\n",
     "is_executing": true
    }
   }
  },
  {
   "cell_type": "code",
   "execution_count": 9,
   "outputs": [
    {
     "name": "stdout",
     "output_type": "stream",
     "text": [
      "no of unique words=74073\n",
      "no of words =6347388\n"
     ]
    }
   ],
   "source": [
    "words_df = pd.DataFrame(words_counter.items(), columns=['word', 'count'])\n",
    "words_df.sort_values(by=['count'], ascending=False, inplace=True)\n",
    "print(f\"no of unique words={len(words_df)}\\nno of words ={words_df['count'].sum()}\")"
   ],
   "metadata": {
    "collapsed": false,
    "pycharm": {
     "name": "#%%\n"
    }
   }
  },
  {
   "cell_type": "code",
   "execution_count": 10,
   "outputs": [
    {
     "data": {
      "text/plain": "   word   count\n10  the  336713\n6     .  327192\n60  and  164107\n3     a  163009\n52   of  145864",
      "text/html": "<div>\n<style scoped>\n    .dataframe tbody tr th:only-of-type {\n        vertical-align: middle;\n    }\n\n    .dataframe tbody tr th {\n        vertical-align: top;\n    }\n\n    .dataframe thead th {\n        text-align: right;\n    }\n</style>\n<table border=\"1\" class=\"dataframe\">\n  <thead>\n    <tr style=\"text-align: right;\">\n      <th></th>\n      <th>word</th>\n      <th>count</th>\n    </tr>\n  </thead>\n  <tbody>\n    <tr>\n      <th>10</th>\n      <td>the</td>\n      <td>336713</td>\n    </tr>\n    <tr>\n      <th>6</th>\n      <td>.</td>\n      <td>327192</td>\n    </tr>\n    <tr>\n      <th>60</th>\n      <td>and</td>\n      <td>164107</td>\n    </tr>\n    <tr>\n      <th>3</th>\n      <td>a</td>\n      <td>163009</td>\n    </tr>\n    <tr>\n      <th>52</th>\n      <td>of</td>\n      <td>145864</td>\n    </tr>\n  </tbody>\n</table>\n</div>"
     },
     "execution_count": 10,
     "metadata": {},
     "output_type": "execute_result"
    }
   ],
   "source": [
    "words_df.head()"
   ],
   "metadata": {
    "collapsed": false,
    "pycharm": {
     "name": "#%%\n"
    }
   }
  },
  {
   "cell_type": "code",
   "execution_count": 11,
   "outputs": [
    {
     "data": {
      "text/plain": "               count\ncount   74073.000000\nmean       85.690981\nstd      2372.293271\nmin         1.000000\n25%         1.000000\n50%         3.000000\n75%        11.000000\nmax    336713.000000",
      "text/html": "<div>\n<style scoped>\n    .dataframe tbody tr th:only-of-type {\n        vertical-align: middle;\n    }\n\n    .dataframe tbody tr th {\n        vertical-align: top;\n    }\n\n    .dataframe thead th {\n        text-align: right;\n    }\n</style>\n<table border=\"1\" class=\"dataframe\">\n  <thead>\n    <tr style=\"text-align: right;\">\n      <th></th>\n      <th>count</th>\n    </tr>\n  </thead>\n  <tbody>\n    <tr>\n      <th>count</th>\n      <td>74073.000000</td>\n    </tr>\n    <tr>\n      <th>mean</th>\n      <td>85.690981</td>\n    </tr>\n    <tr>\n      <th>std</th>\n      <td>2372.293271</td>\n    </tr>\n    <tr>\n      <th>min</th>\n      <td>1.000000</td>\n    </tr>\n    <tr>\n      <th>25%</th>\n      <td>1.000000</td>\n    </tr>\n    <tr>\n      <th>50%</th>\n      <td>3.000000</td>\n    </tr>\n    <tr>\n      <th>75%</th>\n      <td>11.000000</td>\n    </tr>\n    <tr>\n      <th>max</th>\n      <td>336713.000000</td>\n    </tr>\n  </tbody>\n</table>\n</div>"
     },
     "execution_count": 11,
     "metadata": {},
     "output_type": "execute_result"
    }
   ],
   "source": [
    "words_df.describe()"
   ],
   "metadata": {
    "collapsed": false,
    "pycharm": {
     "name": "#%%\n"
    }
   }
  },
  {
   "cell_type": "markdown",
   "source": [
    "- high standard deviation due the usage of words like 'the' and punctuations and spaces will be discarded in data preprocessing\n",
    "- 75% of the words count smaller than 11\n",
    "- about 25% words appear once , may be misspelled words"
   ],
   "metadata": {
    "collapsed": false,
    "pycharm": {
     "name": "#%% md\n"
    }
   }
  },
  {
   "cell_type": "code",
   "execution_count": 12,
   "outputs": [
    {
     "data": {
      "text/plain": "<AxesSubplot:>"
     },
     "execution_count": 12,
     "metadata": {},
     "output_type": "execute_result"
    },
    {
     "data": {
      "text/plain": "<Figure size 360x1080 with 1 Axes>",
      "image/png": "[encoded data removed]"
     },
     "metadata": {
      "needs_background": "light"
     },
     "output_type": "display_data"
    }
   ],
   "source": [
    "words_df.boxplot(figsize=(5, 15))"
   ],
   "metadata": {
    "collapsed": false,
    "pycharm": {
     "name": "#%%\n"
    }
   }
  },
  {
   "cell_type": "code",
   "execution_count": 13,
   "outputs": [
    {
     "data": {
      "text/plain": "       word   count\n10      the  336713\n6         .  327192\n60      and  164107\n3         a  163009\n52       of  145864\n..      ...     ...\n770     way    8025\n361    them    7970\n499   could    7923\n128     too    7833\n835  movies    7666\n\n[100 rows x 2 columns]",
      "text/html": "<div>\n<style scoped>\n    .dataframe tbody tr th:only-of-type {\n        vertical-align: middle;\n    }\n\n    .dataframe tbody tr th {\n        vertical-align: top;\n    }\n\n    .dataframe thead th {\n        text-align: right;\n    }\n</style>\n<table border=\"1\" class=\"dataframe\">\n  <thead>\n    <tr style=\"text-align: right;\">\n      <th></th>\n      <th>word</th>\n      <th>count</th>\n    </tr>\n  </thead>\n  <tbody>\n    <tr>\n      <th>10</th>\n      <td>the</td>\n      <td>336713</td>\n    </tr>\n    <tr>\n      <th>6</th>\n      <td>.</td>\n      <td>327192</td>\n    </tr>\n    <tr>\n      <th>60</th>\n      <td>and</td>\n      <td>164107</td>\n    </tr>\n    <tr>\n      <th>3</th>\n      <td>a</td>\n      <td>163009</td>\n    </tr>\n    <tr>\n      <th>52</th>\n      <td>of</td>\n      <td>145864</td>\n    </tr>\n    <tr>\n      <th>...</th>\n      <td>...</td>\n      <td>...</td>\n    </tr>\n    <tr>\n      <th>770</th>\n      <td>way</td>\n      <td>8025</td>\n    </tr>\n    <tr>\n      <th>361</th>\n      <td>them</td>\n      <td>7970</td>\n    </tr>\n    <tr>\n      <th>499</th>\n      <td>could</td>\n      <td>7923</td>\n    </tr>\n    <tr>\n      <th>128</th>\n      <td>too</td>\n      <td>7833</td>\n    </tr>\n    <tr>\n      <th>835</th>\n      <td>movies</td>\n      <td>7666</td>\n    </tr>\n  </tbody>\n</table>\n<p>100 rows × 2 columns</p>\n</div>"
     },
     "execution_count": 13,
     "metadata": {},
     "output_type": "execute_result"
    }
   ],
   "source": [
    "words_df.head(100)"
   ],
   "metadata": {
    "collapsed": false,
    "pycharm": {
     "name": "#%%\n"
    }
   }
  },
  {
   "cell_type": "markdown",
   "source": [
    "# Data preprocessing\n",
    "- remove punctuations\n",
    "- remove noise words that appear once , that might be misspelling\n",
    "- remove high frequent words that doesn't add thing to the neighboring word\n",
    "- save the preprocessed data"
   ],
   "metadata": {
    "collapsed": false,
    "pycharm": {
     "name": "#%% md\n"
    }
   }
  },
  {
   "cell_type": "code",
   "execution_count": 2,
   "outputs": [
    {
     "ename": "NameError",
     "evalue": "name 'raw_reviews_txt' is not defined",
     "output_type": "error",
     "traceback": [
      "\u001B[1;31m---------------------------------------------------------------------------\u001B[0m",
      "\u001B[1;31mNameError\u001B[0m                                 Traceback (most recent call last)",
      "Input \u001B[1;32mIn [2]\u001B[0m, in \u001B[0;36m<cell line: 1>\u001B[1;34m()\u001B[0m\n\u001B[1;32m----> 1\u001B[0m prep_txt\u001B[38;5;241m=\u001B[39msrc\u001B[38;5;241m.\u001B[39mremove_punctuations(\u001B[43mraw_reviews_txt\u001B[49m)\n",
      "\u001B[1;31mNameError\u001B[0m: name 'raw_reviews_txt' is not defined"
     ]
    }
   ],
   "source": [
    "prep_txt = src.remove_punctuations(raw_reviews_txt)\n"
   ],
   "metadata": {
    "collapsed": false,
    "pycharm": {
     "name": "#%%\n"
    }
   }
  },
  {
   "cell_type": "code",
   "execution_count": 3,
   "outputs": [
    {
     "ename": "NameError",
     "evalue": "name 'raw_reviews_txt' is not defined",
     "output_type": "error",
     "traceback": [
      "\u001B[1;31m---------------------------------------------------------------------------\u001B[0m",
      "\u001B[1;31mNameError\u001B[0m                                 Traceback (most recent call last)",
      "Input \u001B[1;32mIn [3]\u001B[0m, in \u001B[0;36m<cell line: 1>\u001B[1;34m()\u001B[0m\n\u001B[1;32m----> 1\u001B[0m prep_txt,noise_words\u001B[38;5;241m=\u001B[39msrc\u001B[38;5;241m.\u001B[39mremove_noise(\u001B[43mraw_reviews_txt\u001B[49m,filtering_ratio\u001B[38;5;241m=\u001B[39m\u001B[38;5;241m1e3\u001B[39m,prob_threshold\u001B[38;5;241m=\u001B[39m\u001B[38;5;241m0.2\u001B[39m,min_freq\u001B[38;5;241m=\u001B[39m\u001B[38;5;241m2\u001B[39m)\n",
      "\u001B[1;31mNameError\u001B[0m: name 'raw_reviews_txt' is not defined"
     ]
    }
   ],
   "source": [
    "prep_txt, noise_words = src.remove_noise(raw_reviews_txt, filtering_ratio=1e3, prob_threshold=0.2, min_freq=2)"
   ],
   "metadata": {
    "collapsed": false,
    "pycharm": {
     "name": "#%%\n"
    }
   }
  },
  {
   "cell_type": "code",
   "execution_count": 49,
   "outputs": [
    {
     "data": {
      "text/plain": "['digusted',\n 'ravetch',\n 'mayday',\n 'campsites',\n 'happing',\n 'heuristic',\n 'trista',\n 'citywide',\n 'nausicca',\n 'alberson',\n 'scooping',\n 'parliamentary',\n 'feij',\n 'purply',\n 'kurta',\n 'supposebly',\n 'cripples',\n 'hermamdad',\n 'psychedelia',\n 'hems',\n 'lapyuta',\n 'gapes',\n 'bullard',\n 'torino',\n 'grower',\n 'goldinger',\n 'tels',\n 'farenheit',\n 'fukasaku',\n 'ansonia',\n 'pneumaticaly',\n 'frisch',\n 'calzone',\n 'nowt',\n 'jaongi',\n 'actriss',\n 'hairpin',\n 'transunto',\n 'intimacies',\n 'sellon',\n 'scarefests',\n 'shiph',\n 'constanly',\n 'flavius',\n 'subordination',\n 'assi',\n 'philharmoniker',\n 'andunlike',\n 'urichfamily',\n 'damiana',\n 'yuks',\n 'spinsters',\n 'mendocino',\n 'whow',\n 'woodmobile',\n 'repose',\n 'taximeter',\n 'jezuz',\n 'freddyshoop',\n 'unhelpful',\n 'talenamely',\n 'northfork',\n 'darthvader',\n 'callousness',\n 'mackichan',\n 'epsilon',\n 'frumpish',\n 'mittel',\n 'redstone',\n 'secreteary',\n 'enfantines',\n 'kristoffersons',\n 'cutdowns',\n 'pancreatitis',\n 'deployments',\n 'wasson',\n 'fashionista',\n 'johnnys',\n 'vigilant',\n 'ploughing',\n 'stepfamily',\n 'erosion',\n 'thisworld',\n 'predeccesors',\n 'silouhettes',\n 'predispose',\n 'expeditions',\n 'mooner',\n 'baudy',\n 'checkmated',\n 'preem',\n 'colts',\n 'monolog',\n 'hermiting',\n 'beautifule',\n 'soutendjik',\n 'airspeed',\n 'michalakis',\n 'marishcka',\n 'quarrelling',\n 'doones',\n 'underworlds',\n 'laughtrack',\n 'meshuganah',\n 'cloaks',\n 'misued',\n 'shazbot',\n 'mollusks',\n 'envisages',\n 'physcedelic',\n 'pesticides',\n 'glistening',\n 'biospheres',\n 'msr',\n 'boatworkers',\n 'potheads',\n 'speared',\n 'coxsucker',\n 'shlater',\n 'coupledom',\n 'mastrontonio',\n 'kruk',\n 'benefitnot',\n 'upish',\n 'loosened',\n 'splendorous',\n 'spirts',\n 'foole',\n 'hasen',\n 'kabinett',\n 'rgb',\n 'effusive',\n 'expositive',\n 'plat',\n 'sherawali',\n 'lackthereof',\n 'aikidoist',\n 'parapyschologist',\n 'bikay',\n 'bwitch',\n 'slothy',\n 'gimore',\n 'wellbeing',\n 'yucca',\n 'occastional',\n 'nav',\n 'intriquing',\n 'repleat',\n 'benq',\n 'dentatta',\n 'thorstein',\n 'ravindra',\n 'scarsely',\n 'braik',\n 'meri',\n 'levelheaded',\n 'cecelia',\n 'honeycomb',\n 'callipygian',\n 'dejas',\n 'aleopathic',\n 'actives',\n 'clippie',\n 'kampala',\n 'naddel',\n 'bloods',\n 'hindustaan',\n 'warmongering',\n 'bighouse',\n 'rivkin',\n 'kathe',\n 'ragging',\n 'wrested',\n 'adenoidal',\n 'dosh',\n 'rockumentaries',\n 'lene',\n 'itelf',\n 'lightfootedness',\n 'grido',\n 'engelbert',\n 'weihenmeyer',\n 'unfairness',\n 'francophone',\n 'qua',\n 'mattia',\n 'expositories',\n 'dramatising',\n 'seijun',\n 'magus',\n 'appologise',\n 'amg',\n 'movee',\n 'cocoran',\n 'hu',\n 'exacted',\n 'lippman',\n 'revved',\n 'cuticle',\n 'journos',\n 'atlanteans',\n 'kirov',\n 'bouncers',\n 'dovetail',\n 'eggbert',\n 'chaimsaw',\n 'dolphy',\n 'vg',\n 'mortitz',\n 'gleanings',\n 'perr',\n 'googy',\n 'jw',\n 'fritzsche',\n 'mres',\n 'lattanzi',\n 'rossilini',\n 'playwrite',\n 'seus',\n 'hannayesque',\n 'invierno',\n 'uruk',\n 'laughtracks',\n 'crematorium',\n 'ainsworth',\n 'brokerage',\n 'heartstopping',\n 'conscript',\n 'physco',\n 'jivetalking',\n 'koma',\n 'reni',\n 'decodes',\n 'gnter',\n 'moneyfamefashion',\n 'unfun',\n 'turners',\n 'attemps',\n 'kossack',\n 'splitz',\n 'magesticcough',\n 'bonnevie',\n 'anuses',\n 'gracen',\n 'kinematograph',\n 'offfice',\n 'ospenskya',\n 'oracular',\n 'banquo',\n 'ashtray',\n 'louiguy',\n 'finito',\n 'ngyuen',\n 'reona',\n 'gradations',\n 'samaha',\n 'mmff',\n 'muffins',\n 'humilation',\n 'enbom',\n 'solange',\n 'aligning',\n 'ingwasted',\n 'icarus',\n 'irrefutably',\n 'corroborration',\n 'maciste',\n 'wyke',\n 'chiaroschuro',\n 'educative',\n 'automation',\n 'snowflake',\n 'braided',\n 'walkthrough',\n 'hereespecially',\n 'dukakas',\n 'paralyze',\n 'dorday',\n 'ikeda',\n 'flutist',\n 'screwiest',\n 'urrrghhh',\n 'intransigent',\n 'hamliton',\n 'fragmentation',\n 'pliskin',\n 'resets',\n 'bobbity',\n 'honoria',\n 'ladislav',\n 'clemence',\n 'byways',\n 'northbound',\n 'contemporize',\n 'legrix',\n 'quella',\n 'lawnmowers',\n 'nickles',\n 'connory',\n 'zalman',\n 'doos',\n 'playlist',\n 'mendanassos',\n 'vexingly',\n 'malcomx',\n 'rigshospitalet',\n 'dispersement',\n 'externalised',\n 'ssooooo',\n 'setna',\n 'piotr',\n 'wranglers',\n 'californication',\n 'gatling',\n 'supersoldiers',\n 'quimnn',\n 'laupta',\n 'floberg',\n 'churchgoers',\n 'fysical',\n 'superabundance',\n 'leguizano',\n 'tarpon',\n 'starand',\n 'roodt',\n 'warningthis',\n 'boi',\n 'shets',\n 'colebill',\n 'kapoors',\n 'virginities',\n 'thumbtack',\n 'schweibert',\n 'grandiosely',\n 'unsees',\n 'lavvies',\n 'driest',\n 'commandoes',\n 'hispano',\n 'mummifies',\n 'tais',\n 'leger',\n 'overcaution',\n 'archiving',\n 'tulips',\n 'medicore',\n 'treetops',\n 'picturehe',\n 'prostrate',\n 'hupfel',\n 'gambas',\n 'occhi',\n 'roadway',\n 'buch',\n 'congestion',\n 'exoskeleton',\n 'falangists',\n 'leidner',\n 'ou',\n 'concurrence',\n 'behl',\n 'terriers',\n 'backbreaking',\n 'chennai',\n 'gona',\n 'bellum',\n 'dulls',\n 'pirro',\n 'bachlor',\n 'acually',\n 'dispensationalists',\n 'frenziedly',\n 'mishin',\n 'scenification',\n 'econovan',\n 'conpiricy',\n 'lindstrm',\n 'theathre',\n 'noughts',\n 'balkanic',\n 'inappreciable',\n 'woodsy',\n 'exaltation',\n 'spanishness',\n 'dilution',\n 'ameteurish',\n 'fication',\n 'washrooms',\n 'chediak',\n 'argonautica',\n 'efff',\n 'mcgyver',\n 'vanderpark',\n 'quiting',\n 'aaaugh',\n 'consacrates',\n 'interlaces',\n 'wolfie',\n 'albin',\n 'hoshino',\n 'nincompoops',\n 'pettiette',\n 'tumbuan',\n 'slobber',\n 'bmx',\n 'lustreless',\n 'crappily',\n 'plating',\n 'cornrows',\n 'mihaela',\n 'briley',\n 'dedicative',\n 'fitzroy',\n 'jyotika',\n 'herods',\n 'sorrell',\n 'sarat',\n 'akelly',\n 'eko',\n 'exasperatedly',\n 'guyland',\n 'triviality',\n 'externalize',\n 'cusswords',\n 'kurita',\n 'poopchev',\n 'konstadinou',\n 'meanspirited',\n 'shiktak',\n 'jelinek',\n 'goerge',\n 'transposal',\n 'timeing',\n 'eddi',\n 'giner',\n 'clansman',\n 'lathe',\n 'mishandling',\n 'faylen',\n 'turakistan',\n 'aborigin',\n 'pachebel',\n 'amenbar',\n 'noriaki',\n 'sumpthin',\n 'goforth',\n 'unmet',\n 'liposuction',\n 'critcism',\n 'hotbod',\n 'kananga',\n 'tenses',\n 'lisette',\n 'birthmarks',\n 'turaqui',\n 'streetlamps',\n 'uhh',\n 'balfour',\n 'nivoli',\n 'dotcom',\n 'reissuing',\n 'disclosures',\n 'monahans',\n 'cicus',\n 'messianic',\n 'tormei',\n 'btardly',\n 'compiling',\n 'mjyoung',\n 'egyptianas',\n 'folkways',\n 'celebre',\n 'guerrerro',\n 'vikki',\n 'tragedian',\n 'hooooottttttttttt',\n 'smudges',\n 'isareli',\n 'philippians',\n 'copyrights',\n 'envoled',\n 'colorist',\n 'dimes',\n 'tenseness',\n 'atemp',\n 'hoppy',\n 'rohauer',\n 'shagayu',\n 'gring',\n 'hazed',\n 'kookiness',\n 'stairsteps',\n 'psyciatrist',\n 'kennif',\n 'hjitler',\n 'misconduct',\n 'beatliest',\n 'brangelina',\n 'enquiries',\n 'fannie',\n 'exult',\n 'carafotes',\n 'sharkey',\n 'kote',\n 'toplining',\n 'alcs',\n 'janelle',\n 'kirchenbauer',\n 'gon',\n 'levieva',\n 'lapaglia',\n 'preferisco',\n 'ranyaldo',\n 'misquotes',\n 'uncronological',\n 'shingles',\n 'trancer',\n 'lotharios',\n 'paarthale',\n 'shunji',\n 'hourand',\n 'newberry',\n 'reacquainted',\n 'ungratefulness',\n 'sulia',\n 'onishi',\n 'fownd',\n 'gorbachev',\n 'syvlie',\n 'riles',\n 'escpecially',\n 'fanned',\n 'stupefaction',\n 'uninhibitedly',\n 'sniffy',\n 'binev',\n 'sauvage',\n 'phriends',\n 'telkovsky',\n 'hamnett',\n 'unfaltering',\n 'freakshow',\n 'hoarsely',\n 'joab',\n 'spaceman',\n 'tolkin',\n 'wunderbar',\n 'mudge',\n 'goggins',\n 'forysthe',\n 'labrynth',\n 'moscovite',\n 'kamaal',\n 'buchinsky',\n 'physchedelia',\n 'athmosphere',\n 'britta',\n 'mickeythe',\n 'provision',\n 'evolutionists',\n 'cocoons',\n 'vonbraun',\n 'gelatin',\n 'indict',\n 'gaffers',\n 'sycophants',\n 'totall',\n 'connel',\n 'bennah',\n 'maneuverability',\n 'mutations',\n 'setembro',\n 'dresdel',\n 'irma',\n 'adhura',\n 'debi',\n 'modernists',\n 'comtemporary',\n 'foggier',\n 'appart',\n 'shudderingly',\n 'disovered',\n 'jace',\n 'refueled',\n 'beegees',\n 'millenni',\n 'deepa',\n 'lifeguards',\n 'moviejust',\n 'bromidic',\n 'lusciousness',\n 'appropriates',\n 'pearlstein',\n 'candlelit',\n 'reparation',\n 'raver',\n 'ustr',\n 'shemekia',\n 'cspan',\n 'jordache',\n 'traped',\n 'glimpsing',\n 'trantula',\n 'goodluck',\n 'gaots',\n 'cashman',\n 'carte',\n 'ticonderoga',\n 'sikelel',\n 'ginga',\n 'pests',\n 'achero',\n 'patb',\n 'parachutists',\n 'roarke',\n 'metacinematic',\n 'clot',\n 'griminess',\n 'munoz',\n 'yaks',\n 'entebbe',\n 'terminators',\n 'revisioning',\n 'unredeeming',\n 'shuttlecrafts',\n 'reprobate',\n 'auxiliary',\n 'antiguo',\n 'rehabilitated',\n 'cinenephile',\n 'provincialism',\n 'mch',\n 'apeshyt',\n 'viveca',\n 'scrawl',\n 'unberhrbare',\n 'hjelmet',\n 'dislocating',\n 'corlan',\n 'burnishing',\n 'pooled',\n 'damroo',\n 'convalescing',\n 'haight',\n 'poas',\n 'terminals',\n 'privatize',\n 'craved',\n 'dstmob',\n 'wcws',\n 'ambricourt',\n 'distantiate',\n 'costell',\n 'momento',\n 'sharples',\n 'barometric',\n 'overheating',\n 'tvone',\n 'stretta',\n 'outstripped',\n 'caving',\n 'reynold',\n 'crawler',\n 'pigozzi',\n 'topicstolen',\n 'yankland',\n 'minium',\n 'pish',\n 'platini',\n 'frauded',\n 'fangless',\n 'psychodramas',\n 'unhand',\n 'ordo',\n 'elstree',\n 'valuing',\n 'cardigan',\n 'gian',\n 'strobes',\n 'kornbluths',\n 'piebeta',\n 'minuted',\n 'hollywoodised',\n 'boise',\n 'batwomen',\n 'baddddd',\n 'chowderheads',\n 'zaroffs',\n 'duvet',\n 'newbs',\n 'caribbeans',\n 'chiropractor',\n 'gacktnhydehawt',\n 'adulterate',\n 'teek',\n 'martains',\n 'hillybilly',\n 'jaregard',\n 'mbb',\n 'reanimate',\n 'rigoli',\n 'borowczyks',\n 'converses',\n 'loveday',\n 'reate',\n 'patronize',\n 'warningi',\n 'playes',\n 'jacobb',\n 'majyo',\n 'snowbeast',\n 'rossetti',\n 'sokorowska',\n 'francie',\n 'referat',\n 'unrecycled',\n 'blatty',\n 'displeasing',\n 'harltey',\n 'bucatinsky',\n 'schirripa',\n 'sarda',\n 'badgering',\n 'injustise',\n 'antwones',\n 'carvan',\n 'philisophic',\n 'conservationism',\n 'countlessly',\n 'ameliorative',\n 'swindled',\n 'blackwhite',\n 'mappo',\n 'waiving',\n 'bachmann',\n 'corigliano',\n 'filmwhat',\n 'melnick',\n 'krystina',\n 'fastball',\n 'cinemtrophy',\n 'mortification',\n 'spurist',\n 'chromosome',\n 'lorden',\n 'arriv',\n 'spatter',\n 'stalone',\n 'effet',\n 'phoolwati',\n 'pasar',\n 'creame',\n 'endanger',\n 'manica',\n 'organizational',\n 'sulphuric',\n 'exertion',\n 'loring',\n 'hollinghurst',\n 'mudbank',\n 'hunchbacked',\n 'dary',\n 'underztand',\n 'miley',\n 'defenetly',\n 'encircle',\n 'wui',\n 'doppelgnger',\n 'taipei',\n 'sikking',\n 'shamoo',\n 'phillpotts',\n 'hurtle',\n 'jasons',\n 'greyhound',\n 'hugues',\n 'inconsequentiality',\n 'macanally',\n 'abdicating',\n 'coupes',\n 'impounding',\n 'afroamerican',\n 'marmelstein',\n 'rhymin',\n 'loafer',\n 'lomax',\n 'reties',\n 'ramonesmobile',\n 'cleancut',\n 'piccin',\n 'zanes',\n 'lolling',\n 'lefteris',\n 'larvas',\n 'cushions',\n 'wildfowl',\n 'peppard',\n 'temperment',\n 'shabbir',\n 'animetv',\n 'reintroduced',\n 'ves',\n 'littttle',\n 'motormouth',\n 'gyarah',\n 'dawood',\n 'sautet',\n 'legioners',\n 'arbus',\n 'galles',\n 'tcp',\n 'nvm',\n 'albot',\n 'macs',\n 'irremediably',\n 'touts',\n 'uktv',\n 'placage',\n 'eggleston',\n 'manjayegi',\n 'recedes',\n 'codec',\n 'obstructs',\n 'debney',\n 'movieeven',\n 'disentangling',\n 'freudians',\n 'coppy',\n 'cloudscape',\n 'unsalted',\n 'taskmaster',\n 'stuckey',\n 'shahi',\n 'pafific',\n 'susham',\n 'trebles',\n 'rappelling',\n 'innsbruck',\n 'beuregard',\n 'transacting',\n 'suvs',\n 'exiling',\n 'enguled',\n 'bendan',\n 'zouganelis',\n 'hermine',\n 'contextualising',\n 'weasing',\n 'nontheless',\n 'capacitor',\n 'wadsworth',\n 'noodled',\n 'qaulen',\n 'teorema',\n 'chichi',\n 'trifles',\n 'warnedit',\n 'unrealness',\n 'schmooze',\n 'pacifical',\n 'macguyver',\n 'yelena',\n 'poofed',\n 'schlessinger',\n 'castigates',\n 'excoriated',\n 'leben',\n 'brigley',\n 'mercedez',\n 'trashiness',\n 'kramden',\n 'erothism',\n 'pucky',\n 'mementos',\n 'darma',\n 'unforunatley',\n 'jeopardizes',\n 'chavalier',\n 'sublimate',\n 'reconnoitering',\n 'commitophobe',\n 'swindles',\n 'celticism',\n 'resse',\n 'orphanages',\n 'khazzan',\n 'eniemy',\n 'rejuvenating',\n 'geddy',\n 'stromberg',\n 'starboard',\n 'konec',\n 'mitevska',\n 'dechifered',\n 'accidence',\n 'golddigger',\n 'procurator',\n 'slake',\n 'mishkin',\n 'excursionists',\n 'headtripping',\n 'soaks',\n 'convulsed',\n 'acedemy',\n 'leut',\n 'wooww',\n 'deckard',\n 'hannay',\n 'sulfurous',\n 'imy',\n 'gmd',\n 'gentlemens',\n 'zither',\n 'inquisitions',\n 'diddley',\n 'artisticly',\n 'emulations',\n 'byran',\n 'daintily',\n 'fantafestival',\n 'baguette',\n 'annonymous',\n 'whitecloud',\n 'exhuberance',\n 'cleary',\n 'salmonella',\n 'centurians',\n 'postdates',\n 'squeezable',\n 'gto',\n 'cadaverous',\n 'rodnunsky',\n 'mediacorp',\n 'assylum',\n 'squeemish',\n 'helsinki',\n 'sasural',\n 'galveston',\n 'barreling',\n 'abishek',\n 'oreilles',\n 'overwork',\n 'leonida',\n 'resourcefully',\n 'eurosleaze',\n 'spotlights',\n 'luminously',\n 'slasherville',\n 'tankers',\n 'herredia',\n 'dyslexia',\n 'moronov',\n 'ballyhoo',\n 'topcoat',\n 'biarkan',\n 'stiltedness',\n 'dachsund',\n 'plunt',\n 'digitizing',\n 'nightsheet',\n 'ravera',\n 'unlocking',\n 'contravert',\n 'reconfirmed',\n 'dappled',\n 'origination',\n 'yodelling',\n 'radicalized',\n 'punted',\n 'thialnd',\n 'raymie',\n 'wellesley',\n 'reexamined',\n 'antecedently',\n 'aden',\n 'imposture',\n 'humberto',\n 'incense',\n 'fumbler',\n 'stuyvesant',\n 'rackham',\n 'slacken',\n 'fightclub',\n 'reeducation',\n 'maguires',\n 'escrow',\n 'baptises',\n 'bartend',\n 'yardsale',\n 'blackmore',\n 'uriel',\n 'thunderhead',\n 'jimbo',\n 'pleb',\n 'manouever',\n 'cheezoid',\n 'aldiss',\n 'kareesha',\n 'sergej',\n 'womanize',\n ...]"
     },
     "execution_count": 49,
     "metadata": {},
     "output_type": "execute_result"
    }
   ],
   "source": [
    "noise_words"
   ],
   "metadata": {
    "collapsed": false,
    "pycharm": {
     "name": "#%%\n"
    }
   }
  },
  {
   "cell_type": "code",
   "execution_count": 50,
   "outputs": [
    {
     "data": {
      "text/plain": "27730"
     },
     "execution_count": 50,
     "metadata": {},
     "output_type": "execute_result"
    }
   ],
   "source": [
    "len(noise_words)"
   ],
   "metadata": {
    "collapsed": false,
    "pycharm": {
     "name": "#%%\n"
    }
   }
  },
  {
   "cell_type": "code",
   "execution_count": 51,
   "outputs": [
    {
     "data": {
      "text/plain": "'bromwell high is a cartoon comedy . it ran at the same time as some other programs about school life  such as  teachers  . my   years in the teaching profession lead me to believe that bromwell high  s satire is much closer to reality than is  teache'"
     },
     "execution_count": 51,
     "metadata": {},
     "output_type": "execute_result"
    }
   ],
   "source": [
    "raw_reviews_txt[:250]"
   ],
   "metadata": {
    "collapsed": false,
    "pycharm": {
     "name": "#%%\n"
    }
   }
  },
  {
   "cell_type": "code",
   "execution_count": 52,
   "outputs": [
    {
     "data": {
      "text/plain": "'bromwell high cartoon comedy ran same other programs school life such teachers years teaching profession lead believe bromwell high satire much closer reality teachers scramble survive financially insightful students right through pathetic teachers p'"
     },
     "execution_count": 52,
     "metadata": {},
     "output_type": "execute_result"
    }
   ],
   "source": [
    "prep_txt[:250]"
   ],
   "metadata": {
    "collapsed": false,
    "pycharm": {
     "name": "#%%\n"
    }
   }
  },
  {
   "cell_type": "code",
   "execution_count": 53,
   "outputs": [],
   "source": [
    "with open(os.path.join(prep_dataset_dir, \"reviews.txt\"), 'w') as reviews_file:\n",
    "    reviews_file.write(prep_txt)"
   ],
   "metadata": {
    "collapsed": false,
    "pycharm": {
     "name": "#%%\n"
    }
   }
  },
  {
   "cell_type": "code",
   "execution_count": 53,
   "outputs": [],
   "source": [],
   "metadata": {
    "collapsed": false,
    "pycharm": {
     "name": "#%%\n"
    }
   }
  },
  {
   "cell_type": "code",
   "execution_count": 54,
   "outputs": [
    {
     "name": "stdout",
     "output_type": "stream",
     "text": [
      "no of unique words=46343\n",
      "no of words =3063394\n"
     ]
    }
   ],
   "source": [
    "prep_words_counter = Counter(prep_txt.split())\n",
    "prep_words_df = pd.DataFrame(prep_words_counter.items(), columns=['word', 'count'])\n",
    "print(f\"no of unique words={len(prep_words_df)}\\nno of words ={prep_words_df['count'].sum()}\")\n",
    "prep_words_df.sort_values(by=['count'], ascending=False, inplace=True)"
   ],
   "metadata": {
    "collapsed": false,
    "pycharm": {
     "name": "#%%\n"
    }
   }
  },
  {
   "cell_type": "code",
   "source": [
    "prep_words_df.head(100)"
   ],
   "metadata": {
    "collapsed": false,
    "pycharm": {
     "name": "#%%\n"
    }
   },
   "execution_count": 55,
   "outputs": [
    {
     "data": {
      "text/plain": "       word  count\n18     much   9763\n975     get   9309\n433     bad   9308\n122    been   9289\n138  people   9285\n..      ...    ...\n133   going   4102\n461     few   4076\n5      same   4053\n634    part   4040\n386   again   4007\n\n[100 rows x 2 columns]",
      "text/html": "<div>\n<style scoped>\n    .dataframe tbody tr th:only-of-type {\n        vertical-align: middle;\n    }\n\n    .dataframe tbody tr th {\n        vertical-align: top;\n    }\n\n    .dataframe thead th {\n        text-align: right;\n    }\n</style>\n<table border=\"1\" class=\"dataframe\">\n  <thead>\n    <tr style=\"text-align: right;\">\n      <th></th>\n      <th>word</th>\n      <th>count</th>\n    </tr>\n  </thead>\n  <tbody>\n    <tr>\n      <th>18</th>\n      <td>much</td>\n      <td>9763</td>\n    </tr>\n    <tr>\n      <th>975</th>\n      <td>get</td>\n      <td>9309</td>\n    </tr>\n    <tr>\n      <th>433</th>\n      <td>bad</td>\n      <td>9308</td>\n    </tr>\n    <tr>\n      <th>122</th>\n      <td>been</td>\n      <td>9289</td>\n    </tr>\n    <tr>\n      <th>138</th>\n      <td>people</td>\n      <td>9285</td>\n    </tr>\n    <tr>\n      <th>...</th>\n      <td>...</td>\n      <td>...</td>\n    </tr>\n    <tr>\n      <th>133</th>\n      <td>going</td>\n      <td>4102</td>\n    </tr>\n    <tr>\n      <th>461</th>\n      <td>few</td>\n      <td>4076</td>\n    </tr>\n    <tr>\n      <th>5</th>\n      <td>same</td>\n      <td>4053</td>\n    </tr>\n    <tr>\n      <th>634</th>\n      <td>part</td>\n      <td>4040</td>\n    </tr>\n    <tr>\n      <th>386</th>\n      <td>again</td>\n      <td>4007</td>\n    </tr>\n  </tbody>\n</table>\n<p>100 rows × 2 columns</p>\n</div>"
     },
     "execution_count": 55,
     "metadata": {},
     "output_type": "execute_result"
    }
   ]
  },
  {
   "cell_type": "markdown",
   "source": [
    "- only `.` is removed with size `327192` , it was the second most frequent word , the std will decrease a little"
   ],
   "metadata": {
    "collapsed": false,
    "pycharm": {
     "name": "#%% md\n"
    }
   }
  },
  {
   "cell_type": "code",
   "execution_count": 56,
   "outputs": [
    {
     "data": {
      "text/plain": "              count\ncount  46343.000000\nmean      66.102626\nstd      368.406740\nmin        2.000000\n25%        3.000000\n50%        7.000000\n75%       24.000000\nmax     9763.000000",
      "text/html": "<div>\n<style scoped>\n    .dataframe tbody tr th:only-of-type {\n        vertical-align: middle;\n    }\n\n    .dataframe tbody tr th {\n        vertical-align: top;\n    }\n\n    .dataframe thead th {\n        text-align: right;\n    }\n</style>\n<table border=\"1\" class=\"dataframe\">\n  <thead>\n    <tr style=\"text-align: right;\">\n      <th></th>\n      <th>count</th>\n    </tr>\n  </thead>\n  <tbody>\n    <tr>\n      <th>count</th>\n      <td>46343.000000</td>\n    </tr>\n    <tr>\n      <th>mean</th>\n      <td>66.102626</td>\n    </tr>\n    <tr>\n      <th>std</th>\n      <td>368.406740</td>\n    </tr>\n    <tr>\n      <th>min</th>\n      <td>2.000000</td>\n    </tr>\n    <tr>\n      <th>25%</th>\n      <td>3.000000</td>\n    </tr>\n    <tr>\n      <th>50%</th>\n      <td>7.000000</td>\n    </tr>\n    <tr>\n      <th>75%</th>\n      <td>24.000000</td>\n    </tr>\n    <tr>\n      <th>max</th>\n      <td>9763.000000</td>\n    </tr>\n  </tbody>\n</table>\n</div>"
     },
     "execution_count": 56,
     "metadata": {},
     "output_type": "execute_result"
    }
   ],
   "source": [
    "prep_words_df.describe()"
   ],
   "metadata": {
    "collapsed": false,
    "pycharm": {
     "name": "#%%\n"
    }
   }
  },
  {
   "cell_type": "code",
   "execution_count": 57,
   "outputs": [
    {
     "data": {
      "text/plain": "<AxesSubplot:>"
     },
     "execution_count": 57,
     "metadata": {},
     "output_type": "execute_result"
    },
    {
     "data": {
      "text/plain": "<Figure size 360x720 with 1 Axes>",
      "image/png": "[encoded data removed]"
     },
     "metadata": {
      "needs_background": "light"
     },
     "output_type": "display_data"
    }
   ],
   "source": [
    "prep_words_df.boxplot(figsize=(5, 10))"
   ],
   "metadata": {
    "collapsed": false,
    "pycharm": {
     "name": "#%%\n"
    }
   }
  },
  {
   "cell_type": "code",
   "execution_count": 58,
   "outputs": [
    {
     "data": {
      "text/plain": "              count\ncount  46343.000000\nmean      66.102626\nstd      368.406740\nmin        2.000000\n25%        3.000000\n50%        7.000000\n75%       24.000000\nmax     9763.000000",
      "text/html": "<div>\n<style scoped>\n    .dataframe tbody tr th:only-of-type {\n        vertical-align: middle;\n    }\n\n    .dataframe tbody tr th {\n        vertical-align: top;\n    }\n\n    .dataframe thead th {\n        text-align: right;\n    }\n</style>\n<table border=\"1\" class=\"dataframe\">\n  <thead>\n    <tr style=\"text-align: right;\">\n      <th></th>\n      <th>count</th>\n    </tr>\n  </thead>\n  <tbody>\n    <tr>\n      <th>count</th>\n      <td>46343.000000</td>\n    </tr>\n    <tr>\n      <th>mean</th>\n      <td>66.102626</td>\n    </tr>\n    <tr>\n      <th>std</th>\n      <td>368.406740</td>\n    </tr>\n    <tr>\n      <th>min</th>\n      <td>2.000000</td>\n    </tr>\n    <tr>\n      <th>25%</th>\n      <td>3.000000</td>\n    </tr>\n    <tr>\n      <th>50%</th>\n      <td>7.000000</td>\n    </tr>\n    <tr>\n      <th>75%</th>\n      <td>24.000000</td>\n    </tr>\n    <tr>\n      <th>max</th>\n      <td>9763.000000</td>\n    </tr>\n  </tbody>\n</table>\n</div>"
     },
     "execution_count": 58,
     "metadata": {},
     "output_type": "execute_result"
    }
   ],
   "source": [
    "prep_words_df.describe()"
   ],
   "metadata": {
    "collapsed": false,
    "pycharm": {
     "name": "#%%\n"
    }
   }
  },
  {
   "cell_type": "code",
   "execution_count": 59,
   "outputs": [
    {
     "data": {
      "text/plain": "25000"
     },
     "execution_count": 59,
     "metadata": {},
     "output_type": "execute_result"
    }
   ],
   "source": [
    "prep_reviews_list = prep_txt.split('\\n')\n",
    "len(prep_reviews_list)"
   ],
   "metadata": {
    "collapsed": false,
    "pycharm": {
     "name": "#%%\n"
    }
   }
  },
  {
   "cell_type": "code",
   "execution_count": 82,
   "outputs": [],
   "source": [],
   "metadata": {
    "collapsed": false,
    "pycharm": {
     "name": "#%%\n"
    }
   }
  },
  {
   "cell_type": "markdown",
   "source": [
    "# Skip-Gram Data loader\n",
    "- Dataset Loader will load the txt data\n",
    "- count the frequency for each word and total frequency which used in selecting the noise words which doesn't appear in the word context\n",
    "- save a map for word to index and index to word , change txt to int\n",
    "- iterate over the data , return each iteration the target which is the no of words around the given word with size `w` and the input will be the word repeated `w` times\n",
    "    - ex if the txt is 'They celebrated his birthday with a big party.' and we are at the word 'birthday' and the window size = 4\n",
    "        - input `[birthday,birthday,birthday,birthday]` target `[celebrated,his,with,a] `"
   ],
   "metadata": {
    "collapsed": false,
    "pycharm": {
     "name": "#%% md\n"
    }
   }
  },
  {
   "cell_type": "code",
   "execution_count": 6,
   "outputs": [],
   "source": [
    "with open(os.path.join(prep_dataset_dir, 'reviews.txt')) as prep_file:\n",
    "    prep_txt = prep_file.read()"
   ],
   "metadata": {
    "collapsed": false,
    "pycharm": {
     "name": "#%%\n"
    }
   }
  },
  {
   "cell_type": "code",
   "execution_count": 9,
   "outputs": [],
   "source": [
    "rev_skip_gram_data = src.Word2VecDataset(prep_txt, window_size=5, no_noise_outputs=5, batch_size=32)\n",
    "rev_skip_gram_data.save_word2int('../dataset/preprocessed/sentiment_analysis')"
   ],
   "metadata": {
    "collapsed": false,
    "pycharm": {
     "name": "#%%\n"
    }
   }
  },
  {
   "cell_type": "code",
   "execution_count": 7,
   "outputs": [],
   "source": [
    "itrr = iter(rev_skip_gram_data)\n",
    "word, target, noise = next(itrr)"
   ],
   "metadata": {
    "collapsed": false,
    "pycharm": {
     "name": "#%%\n"
    }
   }
  },
  {
   "cell_type": "code",
   "execution_count": 8,
   "outputs": [
    {
     "name": "stdout",
     "output_type": "stream",
     "text": [
      "words_in shape torch.Size([252])\n",
      "target_words shape torch.Size([252])\n",
      "noise_words shape torch.Size([252, 5])\n"
     ]
    }
   ],
   "source": [
    "print(f\"words_in shape {word.shape}\")\n",
    "print(f\"target_words shape {target.shape}\")\n",
    "print(f\"noise_words shape {noise.shape}\")"
   ],
   "metadata": {
    "collapsed": false,
    "pycharm": {
     "name": "#%%\n"
    }
   }
  },
  {
   "cell_type": "code",
   "execution_count": 9,
   "outputs": [
    {
     "name": "stdout",
     "output_type": "stream",
     "text": [
      "0.03839612007141113\n"
     ]
    }
   ],
   "source": [
    "import time\n",
    "ts=time.time()\n",
    "for i in range(10):\n",
    "    word, target, noise = next(itrr)\n",
    "print(time.time()-ts)"
   ],
   "metadata": {
    "collapsed": false,
    "pycharm": {
     "name": "#%%\n"
    }
   }
  },
  {
   "cell_type": "code",
   "execution_count": 10,
   "outputs": [
    {
     "name": "stdout",
     "output_type": "stream",
     "text": [
      "word is--> dhoom\n",
      "wrote\n"
     ]
    }
   ],
   "source": [
    "print('word is-->', rev_skip_gram_data.int2word[word[0].item()])\n",
    "print(rev_skip_gram_data.int2word[target[0].item()])\n"
   ],
   "metadata": {
    "collapsed": false,
    "pycharm": {
     "name": "#%%\n"
    }
   }
  },
  {
   "cell_type": "code",
   "execution_count": 11,
   "outputs": [],
   "source": [
    "import torch\n",
    "from torch import optim\n",
    "import numpy as np"
   ],
   "metadata": {
    "collapsed": false,
    "pycharm": {
     "name": "#%%\n"
    }
   }
  },
  {
   "cell_type": "code",
   "execution_count": 12,
   "outputs": [],
   "source": [
    "word, target, noise = next(itrr)"
   ],
   "metadata": {
    "collapsed": false,
    "pycharm": {
     "name": "#%%\n"
    }
   }
  },
  {
   "cell_type": "markdown",
   "source": [
    "# Training"
   ],
   "metadata": {
    "collapsed": false,
    "pycharm": {
     "name": "#%% md\n"
    }
   }
  },
  {
   "cell_type": "code",
   "execution_count": 18,
   "outputs": [],
   "source": [
    "device = 'cuda' if torch.cuda.is_available() else 'cpu'\n",
    "\n",
    "# Get our noise distribution\n",
    "# Using word frequencies calculated earlier in the notebook\n",
    "\n",
    "\n",
    "# instantiating the model\n",
    "embedding_dim = 32\n",
    "model = src.SkipGram(rev_skip_gram_data.no_unique_words, embedding_dim).to(device)\n",
    "\n",
    "# using the loss that we defined\n",
    "criterion = src.NegativeSamplingLoss()\n",
    "optimizer = optim.Adam(model.parameters(), lr=0.003)\n",
    "\n",
    "print_every = 5 #1500\n",
    "steps = 0\n",
    "epochs = 2"
   ],
   "metadata": {
    "collapsed": false,
    "pycharm": {
     "name": "#%%\n"
    }
   }
  },
  {
   "cell_type": "code",
   "execution_count": 19,
   "outputs": [],
   "source": [
    "print_every = 1000 #1500\n",
    "steps = 0\n",
    "epochs = 2"
   ],
   "metadata": {
    "collapsed": false,
    "pycharm": {
     "name": "#%%\n"
    }
   }
  },
  {
   "cell_type": "code",
   "execution_count": 20,
   "outputs": [],
   "source": [
    "from src.model_training import train\n",
    "train_data_dir=\"../train_tracker\"\n",
    "weights_dir=\"../model_weights/skipgram\""
   ],
   "metadata": {
    "collapsed": false,
    "pycharm": {
     "name": "#%%\n"
    }
   }
  },
  {
   "cell_type": "code",
   "execution_count": 21,
   "outputs": [
    {
     "name": "stdout",
     "output_type": "stream",
     "text": [
      " epoch 1[..........]time remaining (m) = 0.19 Avg Train_Loss=6.12810497Epoch: 1/2\n",
      "Loss:  6.1217827796936035\n",
      "such | pleasing, tricks, loved, postmodern, producing\n",
      "while | ice, cp, delves, tashan, wrestler\n",
      "plot | gross, phantom, stylized, prepared, indians\n",
      "first | slit, bag, fair, books, heard\n",
      "after | inadequacy, hid, intelligentsia, showed, cube\n",
      "also | centre, missed, carlin, debt, overloaded\n",
      "every | voice, poorly, river, northern, sweet\n",
      "other | pig, planned, stricken, accomplice, bless\n",
      "scott | ready, tile, spot, kept, unsympathetic\n",
      "semi | wife, poor, shorts, lot, grandeur\n",
      "ticket | floundering, agreements, lie, single, portraits\n",
      "spite | enjoyably, coupled, edge, cryptic, preview\n",
      "equally | ambitious, hoodlum, tea, king, come\n",
      "entire | ruins, generally, cartoons, troubling, animated\n",
      "twenty | myself, able, beyond, estranged, alone\n",
      "holes | sitcom, excited, hazardous, climatic, flawless\n",
      "...\n",
      "\n",
      " epoch 1[=.........]time remaining (m) = 0.14 Avg Train_Loss=6.09250561Epoch: 1/2\n",
      "Loss:  5.858613014221191\n",
      "these | masochists, buy, r, intrigued, big\n",
      "did | whatever, acted, picked, stretched, decades\n",
      "while | ice, cp, delves, tashan, stepped\n",
      "does | deck, narrator, winning, memory, technical\n",
      "character | guts, draws, onetime, era, medical\n",
      "also | centre, missed, carlin, debt, overloaded\n",
      "actors | laurence, mysteries, creating, awkward, meeting\n",
      "people | hours, crappy, cannavale, proved, foolishly\n",
      "reviews | hurt, wow, girl, guys, books\n",
      "ends | stand, nell, flow, stunt, acclaimed\n",
      "scott | ready, tile, spot, kept, unsympathetic\n",
      "writers | gloom, security, fact, rosario, bizarre\n",
      "nowhere | grossing, declared, won, fair, hours\n",
      "amount | quote, achieves, seriously, health, rated\n",
      "anderson | bizarre, week, fiend, minutes, situations\n",
      "harrelson | dead, mins, trapped, commits, favorite\n",
      "...\n",
      "\n",
      " epoch 1[==........]time remaining (m) = 0.1 Avg Train_Loss=6.057999248Epoch: 1/2\n",
      "Loss:  6.022904872894287\n",
      "made | costuming, unnatural, drama, teeth, mastermind\n",
      "movies | piece, wanderer, betrothed, superb, smaller\n",
      "your | outs, ghost, final, obsessed, henchman\n",
      "should | figure, malevolent, memories, arrogant, replacement\n",
      "off | hungarian, death, stroke, potboilers, lake\n",
      "scenes | relatively, careful, narrative, carl, amid\n",
      "much | too, collete, retard, established, ha\n",
      "director | plunging, resolution, evening, merely, him\n",
      "among | accusations, nc, vision, subject, reviewing\n",
      "quality | ambitious, catches, enthralling, entertaining, filmed\n",
      "throw | washington, german, perspective, lifetime, cult\n",
      "scott | ready, tile, spot, kept, unsympathetic\n",
      "reminded | dropping, andres, bundles, unsettling, another\n",
      "seriously | flops, solemnly, referencing, silas, amount\n",
      "marriage | build, narrators, accomplice, crud, akshaye\n",
      "naturally | supporting, forget, bait, departments, chopra\n",
      "...\n",
      "\n",
      " epoch 1[===.......]time remaining (m) = 0.08 Avg Train_Loss=6.01970769Epoch: 1/2\n",
      "Loss:  5.853458881378174\n",
      "films | memorable, flown, blasted, figured, hyde\n",
      "still | baby, ourselves, sorts, island, missed\n",
      "saif | due, everyman, spry, revisited, gymnasium\n",
      "actually | wee, bored, appear, area, deal\n",
      "other | pig, stricken, planned, spreads, accomplice\n",
      "down | spending, lousy, dodging, nature, absence\n",
      "didn | chat, anti, introducing, rainy, truths\n",
      "every | voice, poorly, river, northern, sweet\n",
      "boyfriend | until, hutchinson, based, sidekicks, dives\n",
      "anderson | week, bizarre, fiend, minutes, situations\n",
      "equally | ambitious, hoodlum, tea, king, come\n",
      "american | hitchcockian, recreated, sunshine, favorite, chore\n",
      "writers | gloom, security, fact, rosario, bizarre\n",
      "charlie | originality, mailing, humming, boils, logic\n",
      "order | opinion, talk, gradually, selling, tak\n",
      "holes | sitcom, excited, hazardous, flawless, imprinted\n",
      "...\n",
      "\n",
      " epoch 1[====......]time remaining (m) = 0.07 Avg Train_Loss=5.97770639Epoch: 1/2\n",
      "Loss:  5.8042311668396\n",
      "kareena | hunter, insane, cal, delivered, succeeds\n",
      "scene | phase, evokes, plucking, calls, passengers\n",
      "people | proved, cannavale, hours, crappy, foolishly\n",
      "through | cultural, alleged, decaprio, unfortunate, depths\n",
      "think | irish, um, outsider, homecoming, treatment\n",
      "seen | bother, pulling, exactly, doesn, overcooked\n",
      "should | figure, arrogant, memories, malevolent, pg\n",
      "tashan | fu, fiery, check, learn, howard\n",
      "anderson | week, bizarre, fiend, minutes, situations\n",
      "intriguing | hur, wasted, bits, news, iq\n",
      "monster | fame, became, fools, nothing, topics\n",
      "entire | ruins, cartoons, troubling, animated, generally\n",
      "shut | overkill, reproduced, prolonged, heal, snobby\n",
      "chance | adult, bunch, logand, track, invade\n",
      "quality | ambitious, catches, enthralling, filmed, entertaining\n",
      "charlie | originality, mailing, humming, boils, rubbish\n",
      "...\n",
      "\n",
      " epoch 1[=====.....]time remaining (m) = 0.05 Avg Train_Loss=5.94018091Epoch: 1/2\n",
      "Loss:  5.679381847381592\n",
      "titanic | wrapped, realities, ruins, runs, watch\n",
      "got | speak, plague, conclusion, critics, colors\n",
      "being | consumers, events, setup, cynics, stage\n",
      "director | resolution, plunging, him, evening, bang\n",
      "did | whatever, acted, decades, stretched, picked\n",
      "do | underwater, boot, d, sex, weren\n",
      "say | whatsoever, blockbusters, creepy, succeeded, opens\n",
      "life | await, powerful, breathtaking, gas, thousand\n",
      "lean | profession, according, expecting, exploited, ooh\n",
      "amount | quote, achieves, seriously, health, rated\n",
      "laughs | experiment, spent, jumping, relationship, climactic\n",
      "question | except, others, basket, sorts, rubbish\n",
      "worn | psychological, interiors, party, mystery, bunch\n",
      "holes | sitcom, excited, hazardous, flawless, imprinted\n",
      "entire | ruins, cartoons, troubling, animated, generally\n",
      "mysterious | transcends, unable, symbol, respectively, table\n",
      "...\n",
      "\n",
      " epoch 1[======....]time remaining (m) = 0.04 Avg Train_Loss=5.90363192Epoch: 1/2\n",
      "Loss:  5.542957305908203\n",
      "actors | laurence, creating, meeting, mysteries, awkward\n",
      "been | goes, eminently, appearances, del, karloff\n",
      "saif | due, everyman, spry, gymnasium, revisited\n",
      "director | resolution, plunging, him, bang, evening\n",
      "akshay | franchise, fights, music, comedian, driven\n",
      "say | whatsoever, blockbusters, creepy, succeeded, opens\n",
      "didn | chat, anti, introducing, rainy, materialized\n",
      "get | publicity, declared, large, photographs, critical\n",
      "bed | worker, hungarian, traffic, playboy, told\n",
      "haven | remember, mistake, rose, kicked, hue\n",
      "question | except, others, basket, sorts, rubbish\n",
      "machine | decides, amps, rates, follows, hummable\n",
      "reflection | breakdown, soundtrack, monitor, decision, defeat\n",
      "aids | genre, roles, adults, appears, donna\n",
      "boyfriend | until, hutchinson, based, sidekicks, effect\n",
      "whom | rattle, dignity, stress, teachers, underwater\n",
      "...\n",
      "\n",
      " epoch 1[=======...]time remaining (m) = 0.02 Avg Train_Loss=5.86211444Epoch: 1/2\n",
      "Loss:  5.697992324829102\n",
      "over | cringe, reportedly, arriving, reactions, authorities\n",
      "best | held, forgotten, diggers, sequence, single\n",
      "got | speak, plague, conclusion, critics, colors\n",
      "say | whatsoever, blockbusters, creepy, succeeded, opens\n",
      "williams | knowledge, iconic, youth, vehicles, half\n",
      "man | tearjerkers, rory, hero, composite, cold\n",
      "because | rich, entity, track, chairman, outdated\n",
      "how | reveals, average, matter, sidekick, poor\n",
      "scott | ready, tile, spot, kept, unsympathetic\n",
      "soon | survived, laurence, natured, boarding, values\n",
      "stand | ends, laugh, connection, anorexic, desired\n",
      "equally | ambitious, hoodlum, tea, king, come\n",
      "previous | minutes, bill, dialogues, financially, huh\n",
      "particularly | serious, shadowy, give, lawyers, exhausting\n",
      "question | except, others, basket, sorts, wasn\n",
      "due | saif, stiff, handled, designer, collete\n",
      "...\n",
      "\n",
      " epoch 1[========..]time remaining (m) = 0.01 Avg Train_Loss=5.82577932Epoch: 1/2\n",
      "Loss:  5.4492082595825195\n",
      "actors | laurence, mysteries, creating, meeting, awkward\n",
      "people | proved, cannavale, foolishly, crappy, hours\n",
      "* | achieved, outcome, stumble, formal, parody\n",
      "director | resolution, plunging, him, bang, merely\n",
      "scene | passengers, plucking, evokes, calls, phase\n",
      "better | lifeboats, including, reactions, direct, programs\n",
      "little | bergman, hands, cases, videos, southern\n",
      "kapoor | goers, glad, epic, hokum, veil\n",
      "holes | sitcom, hazardous, excited, flawless, blue\n",
      "marriage | build, narrators, accomplice, crud, akshaye\n",
      "ticket | floundering, agreements, portraits, single, lie\n",
      "equally | ambitious, hoodlum, tea, king, come\n",
      "throw | washington, german, perspective, lifetime, cult\n",
      "seriously | solemnly, flops, referencing, silas, opinion\n",
      "city | center, exception, loosely, invests, appreciate\n",
      "american | hitchcockian, recreated, favorite, sunshine, chore\n",
      "...\n",
      "\n",
      " epoch 1[=========.]time remaining (m) = 0.0 Avg Train_Loss=5.788546596Epoch: 1/2\n",
      "Loss:  5.6152825355529785\n",
      "life | gas, await, powerful, breathtaking, thousand\n",
      "seen | bother, pulling, exactly, overcooked, casts\n",
      "being | consumers, events, setup, famed, stage\n",
      "get | publicity, declared, large, photographs, rate\n",
      "kareena | insane, hunter, delivered, direction, find\n",
      "love | toilet, brian, seen, admit, peter\n",
      "now | deciding, largely, dying, forward, unnecessary\n",
      "james | jacob, goddard, soda, veneer, water\n",
      "development | talked, kirsten, past, telephone, jhoom\n",
      "defying | reportedly, aide, token, falling, premise\n",
      "reviews | hurt, wow, guys, girl, books\n",
      "due | saif, stiff, designer, collete, dhoom\n",
      "cheap | commercials, intrigued, exchanges, supply, miles\n",
      "naturally | supporting, forget, departments, chopra, visit\n",
      "viewers | sorts, popcorn, talked, ended, shunned\n",
      "inspired | son, sprinkled, matthias, spirit, depicts\n",
      "...\n",
      "\n",
      " training epoch 1 time Taken (m) = 0.11 Avg Train_Loss=5.7834757720793\n",
      " epoch 1 train_loss =5.78347577  total_time= 0.11\n",
      " epoch 2[..........]time remaining (m) = 0.09 Avg Train_Loss=5.33595516Epoch: 2/2\n",
      "Loss:  5.6224775314331055\n",
      "through | alleged, cultural, sleeping, translated, depths\n",
      "should | figure, arrogant, pg, memories, malevolent\n",
      "go | darkened, intelligent, cheer, underlying, languages\n",
      "seen | bother, pulling, exactly, overcooked, casts\n",
      "thought | writes, lemmon, much, unsettled, appearances\n",
      "life | gas, await, powerful, breathtaking, thousand\n",
      "saif | due, everyman, spry, gymnasium, revisited\n",
      "characters | thriller, plays, pedantic, air, meaning\n",
      "wisconsin | aliens, rousing, necessary, referred, running\n",
      "mediocre | crossing, culkin, dying, brie, entendres\n",
      "blame | phenomenon, german, plays, forrest, series\n",
      "try | climax, chocolate, interiors, psychological, knight\n",
      "reflection | breakdown, soundtrack, piping, decision, defeat\n",
      "finish | mannered, plague, himself, deserved, cake\n",
      "lets | basement, excruciatingly, firearms, luxuries, first\n",
      "ticket | floundering, agreements, portraits, lie, single\n",
      "...\n",
      "\n",
      " epoch 2[=.........]time remaining (m) = 0.07 Avg Train_Loss=5.31664966Epoch: 2/2\n",
      "Loss:  5.35873556137085\n",
      "too | appearances, used, rooms, absolutely, much\n",
      "other | pig, planned, stricken, spreads, bless\n",
      "first | bag, slit, fair, airport, mishra\n",
      "still | baby, island, sorts, ourselves, missed\n",
      "better | lifeboats, including, reactions, direct, programs\n",
      "williams | knowledge, iconic, youth, vehicles, forget\n",
      "kumar | lovable, cannavale, elections, york, afraid\n",
      "actors | laurence, mysteries, meeting, creating, experts\n",
      "quality | ambitious, enthralling, catches, entertaining, copper\n",
      "prove | romanticized, war, deteriorate, largely, crores\n",
      "moved | delves, genre, treats, pop, animated\n",
      "reflection | breakdown, soundtrack, piping, decision, defeat\n",
      "city | center, exception, invests, loosely, appreciate\n",
      "lets | basement, excruciatingly, firearms, luxuries, first\n",
      "modern | turning, amazing, silverware, anti, possibility\n",
      "monster | fame, became, nothing, fools, reviewing\n",
      "...\n",
      "\n",
      " epoch 2[==........]time remaining (m) = 0.07 Avg Train_Loss=5.30594191Epoch: 2/2\n",
      "Loss:  5.210886001586914\n",
      "been | goes, eminently, appearances, del, treated\n",
      "character | guts, era, onetime, medical, gantry\n",
      "action | teacup, faster, else, hunter, ons\n",
      "movies | piece, wanderer, betrothed, touted, superb\n",
      "also | missed, carlin, centre, debt, overloaded\n",
      "plot | gross, stylized, indians, phantom, koyla\n",
      "actually | area, bored, wee, appear, sunken\n",
      "still | baby, island, sorts, ourselves, ah\n",
      "entire | cartoons, animated, generally, ruins, despair\n",
      "kept | terminator, complain, nurse, scott, tile\n",
      "among | accusations, nc, subject, james, hype\n",
      "mediocre | crossing, dying, brie, entendres, culkin\n",
      "personality | simply, wee, expressions, coast, whereabouts\n",
      "amount | quote, seriously, achieves, health, rated\n",
      "question | except, others, basket, sorts, rubbish\n",
      "lacks | cared, victor, nightmare, tragic, hearted\n",
      "...\n",
      "\n",
      " epoch 2[===.......]time remaining (m) = 0.07 Avg Train_Loss=5.27146562Epoch: 2/2\n",
      "Loss:  5.035205364227295\n",
      "akshay | franchise, form, fights, music, comedian\n",
      "kumar | lovable, cannavale, elections, york, afraid\n",
      "new | granddaughter, fascination, frozen, c, guy\n",
      "off | hungarian, death, stroke, lake, intensity\n",
      "many | beng, estrangement, sir, trailers, take\n",
      "these | masochists, buy, r, big, constant\n",
      "done | stitched, inordinate, babble, ordinarily, entitled\n",
      "your | outs, ve, relentless, final, xvi\n",
      "inspired | son, sprinkled, spirit, matthias, place\n",
      "machine | decides, amps, rates, follows, thousand\n",
      "torture | rain, utter, reaction, franchise, recognizable\n",
      "reviews | hurt, wow, guys, underlying, girl\n",
      "spite | enjoyably, coupled, edge, cryptic, silence\n",
      "dragstrip | telling, sired, reaching, vending, give\n",
      "lauren | kino, core, hue, bergman, purposeful\n",
      "american | hitchcockian, recreated, favorite, chore, sunshine\n",
      "...\n",
      "\n",
      " epoch 2[====......]time remaining (m) = 0.08 Avg Train_Loss=5.25026642Epoch: 2/2\n",
      "Loss:  5.329138278961182\n",
      "down | dodging, lousy, nature, reversing, absence\n",
      "any | misery, engines, wealthy, depicts, concorde\n",
      "williams | knowledge, forget, iconic, youth, stunts\n",
      "also | missed, carlin, centre, overloaded, debt\n",
      "years | replaced, swedish, hence, absence, clothes\n",
      "over | cringe, reportedly, arriving, sit, authorities\n",
      "best | forgotten, held, sequence, short, relieve\n",
      "akshay | franchise, form, fights, music, undeveloped\n",
      "cheap | commercials, intrigued, exchanges, supply, ordinary\n",
      "lauren | kino, core, hue, bergman, purposeful\n",
      "portrayal | invade, anticipated, ripped, jettisons, sorry\n",
      "writers | creepy, girls, security, gloom, fact\n",
      "prove | romanticized, war, deteriorate, safe, crores\n",
      "throw | washington, perspective, phenomenon, amuse, cult\n",
      "monster | fame, became, nothing, fools, flash\n",
      "reminded | dropping, bundles, andres, another, unsettling\n",
      "...\n",
      "\n",
      " epoch 2[=====.....]time remaining (m) = 0.06 Avg Train_Loss=5.22992879Epoch: 2/2\n",
      "Loss:  5.021199703216553\n",
      "go | darkened, intelligent, cheer, languages, came\n",
      "does | narrator, memory, winning, technical, directed\n",
      "much | thought, too, collete, responsibilities, characteristics\n",
      "action | teacup, else, faster, friday, hunter\n",
      "been | goes, eminently, appearances, treated, karloff\n",
      "will | meets, leaking, lack, interesting, willem\n",
      "still | baby, island, sorts, missed, ourselves\n",
      "first | bag, slit, fair, nerves, airport\n",
      "fiction | bet, dismal, frustrated, early, tops\n",
      "defying | reportedly, aide, anyway, falling, token\n",
      "sexy | kirsten, staring, fictional, undersea, wilson\n",
      "content | andrews, stock, handgun, buildup, overhearing\n",
      "chance | adult, bunch, track, logand, shakespeare\n",
      "particularly | serious, shadowy, lawyers, give, anticipate\n",
      "portrayal | invade, anticipated, ripped, jettisons, sorry\n",
      "within | femme, gunplay, moments, sunk, haters\n",
      "...\n",
      "\n",
      " epoch 2[======....]time remaining (m) = 0.05 Avg Train_Loss=5.20309462Epoch: 2/2\n",
      "Loss:  4.764526844024658\n",
      "scene | passengers, evokes, seen, plucking, calls\n",
      "made | costuming, unnatural, hunting, teeth, sat\n",
      "how | reveals, matter, average, sidekick, poor\n",
      "give | sired, dragstrip, particularly, flaws, pistol\n",
      "think | irish, um, outsider, homecoming, composer\n",
      "being | consumers, events, stage, famed, cynics\n",
      "never | jumped, p, flaws, line, visual\n",
      "actors | creating, mysteries, laurence, meeting, withstand\n",
      "twenty | myself, beyond, able, alone, estranged\n",
      "dragstrip | telling, sired, reaching, give, vending\n",
      "plain | ago, short, tripe, boards, sell\n",
      "soon | survived, laurence, natured, boarding, impecunious\n",
      "semi | wife, poor, shorts, spirit, lot\n",
      "climax | try, candy, ordinarily, chocolate, creature\n",
      "feels | want, standard, airport, unsinkable, pulp\n",
      "ill | lapse, moritz, cigarettes, face, survived\n",
      "...\n",
      "\n",
      " epoch 2[=======...]time remaining (m) = 0.03 Avg Train_Loss=5.18180561Epoch: 2/2\n",
      "Loss:  5.129432678222656\n",
      "didn | chat, anti, introducing, roles, sandra\n",
      "action | teacup, else, faster, content, hunter\n",
      "old | drawback, mild, don, look, percentages\n",
      "life | gas, rack, await, constructed, powerful\n",
      "its | mood, fascination, everyone, profession, tile\n",
      "new | granddaughter, fascination, frozen, c, humidity\n",
      "much | thought, too, collete, responsibilities, became\n",
      "should | figure, arrogant, pg, victim, surrogate\n",
      "spite | enjoyably, coupled, edge, cryptic, preview\n",
      "moved | delves, treats, genre, pop, looks\n",
      "inexplicable | routine, stereotyped, jokes, process, gaya\n",
      "naturally | forget, supporting, visit, chopra, bait\n",
      "mysterious | transcends, unable, symbol, respectively, table\n",
      "viewers | sorts, clunky, talked, popcorn, highly\n",
      "laughs | spent, experiment, jumping, climactic, relationship\n",
      "among | accusations, nc, subject, reviewing, hype\n",
      "...\n",
      "\n",
      " epoch 2[========..]time remaining (m) = 0.02 Avg Train_Loss=5.15582516Epoch: 2/2\n",
      "Loss:  5.005815029144287\n",
      "got | conclusion, speak, grating, plague, critics\n",
      "after | inadequacy, showed, hid, intelligentsia, hanging\n",
      "how | matter, reveals, average, sidekick, absence\n",
      "into | synopsis, others, i, been, shook\n",
      "acting | bans, engineer, outbreak, sack, cross\n",
      "character | guts, onetime, medical, hazardous, killer\n",
      "off | hungarian, death, climactic, liner, intensity\n",
      "kumar | lovable, york, cannavale, relatively, everything\n",
      "scott | ready, tile, kept, spot, unsympathetic\n",
      "personal | discover, christopher, seconds, damage, marry\n",
      "reviews | hurt, wow, guys, books, girl\n",
      "development | jhoom, past, kirsten, talked, telephone\n",
      "kept | scott, terminator, tile, including, nurse\n",
      "recommended | tomlin, narrations, treated, beautiful, howard\n",
      "managed | monks, compelling, losing, owes, origins\n",
      "viewers | sorts, clunky, highly, talked, popcorn\n",
      "...\n",
      "\n",
      " epoch 2[=========.]time remaining (m) = 0.0 Avg Train_Loss=5.137009226Epoch: 2/2\n",
      "Loss:  5.198385715484619\n",
      "acting | bans, engineer, outbreak, sack, cross\n",
      "been | goes, appearances, hokey, treated, into\n",
      "still | island, baby, sorts, ah, ourselves\n",
      "scenes | relatively, narrative, carl, careful, suspenseful\n",
      "real | throat, judy, gritty, decided, lousy\n",
      "little | bergman, hands, videos, rent, regrettably\n",
      "love | seen, admit, brian, later, last\n",
      "night | high, team, andrew, potentials, outs\n",
      "haven | remember, kicked, mistake, hue, north\n",
      "bed | worker, playboy, hungarian, rainy, honourable\n",
      "theme | executing, creature, approved, superstars, daft\n",
      "content | andrews, action, handgun, tink, stock\n",
      "intriguing | three, hur, valuables, news, style\n",
      "personality | simply, expressions, whereabouts, coast, coherent\n",
      "writers | creepy, ignored, girls, security, bizarre\n",
      "charlie | originality, humming, boils, mailing, rubbish\n",
      "...\n",
      "\n",
      " training epoch 2 time Taken (m) = 0.14 Avg Train_Loss=5.1288853312446\n",
      " epoch 2 train_loss =5.12888533  total_time= 0.14\n",
      "new minimum train loss 5.12888533  achieved, model weights saved \n"
     ]
    }
   ],
   "source": [
    "train(model=model,epochs=epochs,skip_gram_data=rev_skip_gram_data,device=device,optimizer=optimizer,criterion=criterion,train_data_dir=train_data_dir,weights_dir=weights_dir)"
   ],
   "metadata": {
    "collapsed": false,
    "pycharm": {
     "name": "#%%\n"
    }
   }
  },
  {
   "cell_type": "code",
   "execution_count": null,
   "outputs": [],
   "source": [],
   "metadata": {
    "collapsed": false,
    "pycharm": {
     "name": "#%%\n"
    }
   }
  },
  {
   "cell_type": "code",
   "execution_count": null,
   "outputs": [],
   "source": [],
   "metadata": {
    "collapsed": false,
    "pycharm": {
     "name": "#%%\n"
    }
   }
  }
 ],
 "metadata": {
  "kernelspec": {
   "display_name": "Python 3",
   "language": "python",
   "name": "python3"
  },
  "language_info": {
   "codemirror_mode": {
    "name": "ipython",
    "version": 2
   },
   "file_extension": ".py",
   "mimetype": "text/x-python",
   "name": "python",
   "nbconvert_exporter": "python",
   "pygments_lexer": "ipython2",
   "version": "2.7.6"
  }
 },
 "nbformat": 4,
 "nbformat_minor": 0
}